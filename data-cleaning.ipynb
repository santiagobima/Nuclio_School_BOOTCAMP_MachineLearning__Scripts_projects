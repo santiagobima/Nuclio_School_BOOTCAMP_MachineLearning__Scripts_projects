{
 "cells": [
  {
   "cell_type": "code",
   "execution_count": 1,
   "id": "08a8e908",
   "metadata": {
    "_cell_guid": "310fad5d-bc2f-471d-8655-9ceee856e4b5",
    "_uuid": "3f7e3a84-7b31-4c6b-806a-389826abda98",
    "collapsed": false,
    "execution": {
     "iopub.execute_input": "2024-01-04T19:23:51.795230Z",
     "iopub.status.busy": "2024-01-04T19:23:51.794307Z",
     "iopub.status.idle": "2024-01-04T19:23:52.257440Z",
     "shell.execute_reply": "2024-01-04T19:23:52.256439Z"
    },
    "id": "3K89Cf3hvOLy",
    "jupyter": {
     "outputs_hidden": false
    },
    "papermill": {
     "duration": 0.508834,
     "end_time": "2024-01-04T19:23:52.261001",
     "exception": false,
     "start_time": "2024-01-04T19:23:51.752167",
     "status": "completed"
    },
    "tags": []
   },
   "outputs": [],
   "source": [
    "import pandas as pd\n",
    "import numpy as np"
   ]
  },
  {
   "cell_type": "code",
   "execution_count": 2,
   "id": "037f7f48",
   "metadata": {
    "_cell_guid": "ea19d771-1810-4a38-a874-2bf7fece435f",
    "_uuid": "77268979-6def-4ccc-b84b-693f86033df4",
    "collapsed": false,
    "execution": {
     "iopub.execute_input": "2024-01-04T19:23:52.362136Z",
     "iopub.status.busy": "2024-01-04T19:23:52.361193Z",
     "iopub.status.idle": "2024-01-04T19:23:52.393086Z",
     "shell.execute_reply": "2024-01-04T19:23:52.391364Z"
    },
    "id": "4Gv3wCtjvOLy",
    "jupyter": {
     "outputs_hidden": false
    },
    "papermill": {
     "duration": 0.081134,
     "end_time": "2024-01-04T19:23:52.397054",
     "exception": false,
     "start_time": "2024-01-04T19:23:52.315920",
     "status": "completed"
    },
    "tags": []
   },
   "outputs": [],
   "source": [
    "imdb = pd.read_csv('/kaggle/input/imdb-csv/IMDB.csv')"
   ]
  },
  {
   "cell_type": "code",
   "execution_count": 3,
   "id": "a5b1c324",
   "metadata": {
    "_cell_guid": "1819c6cc-7685-4202-a791-42450875735a",
    "_uuid": "a6480c52-aff7-4ae4-ab02-6b270d7fdb74",
    "collapsed": false,
    "execution": {
     "iopub.execute_input": "2024-01-04T19:23:52.483897Z",
     "iopub.status.busy": "2024-01-04T19:23:52.482926Z",
     "iopub.status.idle": "2024-01-04T19:23:52.519144Z",
     "shell.execute_reply": "2024-01-04T19:23:52.517963Z"
    },
    "id": "5WmE_RfOxDcY",
    "jupyter": {
     "outputs_hidden": false
    },
    "outputId": "f6839e94-2ff2-4b19-d809-77d56376d7ec",
    "papermill": {
     "duration": 0.082943,
     "end_time": "2024-01-04T19:23:52.522042",
     "exception": false,
     "start_time": "2024-01-04T19:23:52.439099",
     "status": "completed"
    },
    "tags": []
   },
   "outputs": [
    {
     "data": {
      "text/html": [
       "<div>\n",
       "<style scoped>\n",
       "    .dataframe tbody tr th:only-of-type {\n",
       "        vertical-align: middle;\n",
       "    }\n",
       "\n",
       "    .dataframe tbody tr th {\n",
       "        vertical-align: top;\n",
       "    }\n",
       "\n",
       "    .dataframe thead th {\n",
       "        text-align: right;\n",
       "    }\n",
       "</style>\n",
       "<table border=\"1\" class=\"dataframe\">\n",
       "  <thead>\n",
       "    <tr style=\"text-align: right;\">\n",
       "      <th></th>\n",
       "      <th>color</th>\n",
       "      <th>director_name</th>\n",
       "      <th>duration</th>\n",
       "      <th>gross</th>\n",
       "      <th>genres</th>\n",
       "      <th>movie_title</th>\n",
       "      <th>title_year</th>\n",
       "      <th>language</th>\n",
       "      <th>country</th>\n",
       "      <th>budget</th>\n",
       "      <th>imdb_score</th>\n",
       "      <th>actors</th>\n",
       "      <th>movie_facebook_likes</th>\n",
       "    </tr>\n",
       "  </thead>\n",
       "  <tbody>\n",
       "    <tr>\n",
       "      <th>0</th>\n",
       "      <td>Color</td>\n",
       "      <td>Martin Scorsese</td>\n",
       "      <td>240</td>\n",
       "      <td>116866727.0</td>\n",
       "      <td>Biography|Comedy|Crime|Drama</td>\n",
       "      <td>The Wolf of Wall Street</td>\n",
       "      <td>2013</td>\n",
       "      <td>English</td>\n",
       "      <td>USA</td>\n",
       "      <td>100000000.0</td>\n",
       "      <td>8.2</td>\n",
       "      <td>Leonardo DiCaprio,Matthew McConaughey,Jon Favreau</td>\n",
       "      <td>138000</td>\n",
       "    </tr>\n",
       "    <tr>\n",
       "      <th>1</th>\n",
       "      <td>Color</td>\n",
       "      <td>Shane Black</td>\n",
       "      <td>195</td>\n",
       "      <td>408992272.0</td>\n",
       "      <td>Action|Adventure|Sci-Fi</td>\n",
       "      <td>Iron Man 3</td>\n",
       "      <td>2013</td>\n",
       "      <td>English</td>\n",
       "      <td>USA</td>\n",
       "      <td>200000000.0</td>\n",
       "      <td>7.2</td>\n",
       "      <td>Robert Downey Jr.,Jon Favreau,Don Cheadle</td>\n",
       "      <td>95000</td>\n",
       "    </tr>\n",
       "    <tr>\n",
       "      <th>2</th>\n",
       "      <td>color</td>\n",
       "      <td>Quentin Tarantino</td>\n",
       "      <td>187</td>\n",
       "      <td>54116191.0</td>\n",
       "      <td>Crime|Drama|Mystery|Thriller|Western</td>\n",
       "      <td>The Hateful Eight</td>\n",
       "      <td>2015</td>\n",
       "      <td>English</td>\n",
       "      <td>USA</td>\n",
       "      <td>44000000.0</td>\n",
       "      <td>7.9</td>\n",
       "      <td>Craig Stark,Jennifer Jason Leigh,Zoë Bell</td>\n",
       "      <td>114000</td>\n",
       "    </tr>\n",
       "    <tr>\n",
       "      <th>3</th>\n",
       "      <td>Color</td>\n",
       "      <td>Kenneth Lonergan</td>\n",
       "      <td>186</td>\n",
       "      <td>46495.0</td>\n",
       "      <td>Drama</td>\n",
       "      <td>Margaret</td>\n",
       "      <td>2011</td>\n",
       "      <td>English</td>\n",
       "      <td>usa</td>\n",
       "      <td>14000000.0</td>\n",
       "      <td>6.5</td>\n",
       "      <td>Matt Damon,Kieran Culkin,John Gallagher Jr.</td>\n",
       "      <td>0</td>\n",
       "    </tr>\n",
       "    <tr>\n",
       "      <th>4</th>\n",
       "      <td>Color</td>\n",
       "      <td>Peter Jackson</td>\n",
       "      <td>186</td>\n",
       "      <td>258355354.0</td>\n",
       "      <td>Adventure|Fantasy</td>\n",
       "      <td>The Hobbit: The Desolation of Smaug</td>\n",
       "      <td>2013</td>\n",
       "      <td>English</td>\n",
       "      <td>USA</td>\n",
       "      <td>225000000.0</td>\n",
       "      <td>7.9</td>\n",
       "      <td>Aidan Turner,Adam Brown,James Nesbitt</td>\n",
       "      <td>83000</td>\n",
       "    </tr>\n",
       "  </tbody>\n",
       "</table>\n",
       "</div>"
      ],
      "text/plain": [
       "    color      director_name  duration        gross  \\\n",
       "0   Color    Martin Scorsese       240  116866727.0   \n",
       "1   Color        Shane Black       195  408992272.0   \n",
       "2  color   Quentin Tarantino       187   54116191.0   \n",
       "3   Color   Kenneth Lonergan       186      46495.0   \n",
       "4   Color      Peter Jackson       186  258355354.0   \n",
       "\n",
       "                                 genres                          movie_title  \\\n",
       "0          Biography|Comedy|Crime|Drama              The Wolf of Wall Street   \n",
       "1               Action|Adventure|Sci-Fi                           Iron Man 3   \n",
       "2  Crime|Drama|Mystery|Thriller|Western                    The Hateful Eight   \n",
       "3                                 Drama                             Margaret   \n",
       "4                     Adventure|Fantasy  The Hobbit: The Desolation of Smaug   \n",
       "\n",
       "   title_year language country       budget  imdb_score  \\\n",
       "0        2013  English     USA  100000000.0         8.2   \n",
       "1        2013  English     USA  200000000.0         7.2   \n",
       "2        2015  English     USA   44000000.0         7.9   \n",
       "3        2011  English     usa   14000000.0         6.5   \n",
       "4        2013  English     USA  225000000.0         7.9   \n",
       "\n",
       "                                              actors  movie_facebook_likes  \n",
       "0  Leonardo DiCaprio,Matthew McConaughey,Jon Favreau                138000  \n",
       "1          Robert Downey Jr.,Jon Favreau,Don Cheadle                 95000  \n",
       "2          Craig Stark,Jennifer Jason Leigh,Zoë Bell                114000  \n",
       "3        Matt Damon,Kieran Culkin,John Gallagher Jr.                     0  \n",
       "4              Aidan Turner,Adam Brown,James Nesbitt                 83000  "
      ]
     },
     "execution_count": 3,
     "metadata": {},
     "output_type": "execute_result"
    }
   ],
   "source": [
    "imdb.head()"
   ]
  },
  {
   "cell_type": "code",
   "execution_count": 4,
   "id": "476cf415",
   "metadata": {
    "_cell_guid": "c0aed3b2-4e02-4019-8401-6345f3a3bd9d",
    "_uuid": "a1d094df-28df-4e1f-8227-81684124082d",
    "collapsed": false,
    "execution": {
     "iopub.execute_input": "2024-01-04T19:23:52.688071Z",
     "iopub.status.busy": "2024-01-04T19:23:52.686229Z",
     "iopub.status.idle": "2024-01-04T19:23:52.720830Z",
     "shell.execute_reply": "2024-01-04T19:23:52.719272Z"
    },
    "id": "P6_zFDaoxSFW",
    "jupyter": {
     "outputs_hidden": false
    },
    "outputId": "5a547e73-3d66-41bb-d8f1-34dd2757ac61",
    "papermill": {
     "duration": 0.160736,
     "end_time": "2024-01-04T19:23:52.724802",
     "exception": false,
     "start_time": "2024-01-04T19:23:52.564066",
     "status": "completed"
    },
    "tags": []
   },
   "outputs": [
    {
     "name": "stdout",
     "output_type": "stream",
     "text": [
      "<class 'pandas.core.frame.DataFrame'>\n",
      "RangeIndex: 97 entries, 0 to 96\n",
      "Data columns (total 13 columns):\n",
      " #   Column                Non-Null Count  Dtype  \n",
      "---  ------                --------------  -----  \n",
      " 0   color                 86 non-null     object \n",
      " 1   director_name         86 non-null     object \n",
      " 2   duration              97 non-null     int64  \n",
      " 3   gross                 89 non-null     float64\n",
      " 4   genres                96 non-null     object \n",
      " 5   movie_title           97 non-null     object \n",
      " 6   title_year            97 non-null     int64  \n",
      " 7   language              97 non-null     object \n",
      " 8   country               97 non-null     object \n",
      " 9   budget                93 non-null     float64\n",
      " 10  imdb_score            97 non-null     float64\n",
      " 11  actors                97 non-null     object \n",
      " 12  movie_facebook_likes  97 non-null     int64  \n",
      "dtypes: float64(3), int64(3), object(7)\n",
      "memory usage: 10.0+ KB\n"
     ]
    }
   ],
   "source": [
    "imdb.info()"
   ]
  },
  {
   "cell_type": "code",
   "execution_count": 5,
   "id": "66baeebe",
   "metadata": {
    "_cell_guid": "9b962f5c-8486-457c-b5ac-a8fbd6e9b507",
    "_uuid": "0cce7c0f-d99f-4894-b26c-9bea68cd791e",
    "collapsed": false,
    "execution": {
     "iopub.execute_input": "2024-01-04T19:23:52.837856Z",
     "iopub.status.busy": "2024-01-04T19:23:52.835626Z",
     "iopub.status.idle": "2024-01-04T19:23:52.864350Z",
     "shell.execute_reply": "2024-01-04T19:23:52.861651Z"
    },
    "id": "vx9TzJQOx5GV",
    "jupyter": {
     "outputs_hidden": false
    },
    "outputId": "7212d326-e2af-491f-fca2-29f1d0b6ea9d",
    "papermill": {
     "duration": 0.100559,
     "end_time": "2024-01-04T19:23:52.869088",
     "exception": false,
     "start_time": "2024-01-04T19:23:52.768529",
     "status": "completed"
    },
    "tags": []
   },
   "outputs": [
    {
     "data": {
      "text/html": [
       "<div>\n",
       "<style scoped>\n",
       "    .dataframe tbody tr th:only-of-type {\n",
       "        vertical-align: middle;\n",
       "    }\n",
       "\n",
       "    .dataframe tbody tr th {\n",
       "        vertical-align: top;\n",
       "    }\n",
       "\n",
       "    .dataframe thead th {\n",
       "        text-align: right;\n",
       "    }\n",
       "</style>\n",
       "<table border=\"1\" class=\"dataframe\">\n",
       "  <thead>\n",
       "    <tr style=\"text-align: right;\">\n",
       "      <th></th>\n",
       "      <th>color</th>\n",
       "      <th>director_name</th>\n",
       "      <th>duration</th>\n",
       "      <th>gross</th>\n",
       "      <th>genres</th>\n",
       "      <th>movie_title</th>\n",
       "      <th>title_year</th>\n",
       "      <th>language</th>\n",
       "      <th>country</th>\n",
       "      <th>budget</th>\n",
       "      <th>imdb_score</th>\n",
       "      <th>actors</th>\n",
       "      <th>movie_facebook_likes</th>\n",
       "    </tr>\n",
       "  </thead>\n",
       "  <tbody>\n",
       "    <tr>\n",
       "      <th>92</th>\n",
       "      <td>Color</td>\n",
       "      <td>Steve McQueen</td>\n",
       "      <td>134</td>\n",
       "      <td>56667870.0</td>\n",
       "      <td>Biography|Drama|History</td>\n",
       "      <td>12 Years a Slave</td>\n",
       "      <td>2013</td>\n",
       "      <td>English</td>\n",
       "      <td>USA</td>\n",
       "      <td>20000000.0</td>\n",
       "      <td>8.1</td>\n",
       "      <td>Quvenzhané Wallis,Scoot McNairy,Taran Killam</td>\n",
       "      <td>83000</td>\n",
       "    </tr>\n",
       "    <tr>\n",
       "      <th>93</th>\n",
       "      <td>Color</td>\n",
       "      <td>Richard J. Lewis</td>\n",
       "      <td>134</td>\n",
       "      <td>7501404.0</td>\n",
       "      <td>Comedy|Drama</td>\n",
       "      <td>Barney's Version</td>\n",
       "      <td>2010</td>\n",
       "      <td>English</td>\n",
       "      <td>Canada</td>\n",
       "      <td>NaN</td>\n",
       "      <td>7.3</td>\n",
       "      <td>Mark Addy,Atom Egoyan,Paul Gross</td>\n",
       "      <td>0</td>\n",
       "    </tr>\n",
       "    <tr>\n",
       "      <th>94</th>\n",
       "      <td>Color</td>\n",
       "      <td>Paul Greengrass</td>\n",
       "      <td>134</td>\n",
       "      <td>107100855.0</td>\n",
       "      <td>Biography|Drama|Thriller</td>\n",
       "      <td>Captain Phillips</td>\n",
       "      <td>2013</td>\n",
       "      <td>English</td>\n",
       "      <td>USA</td>\n",
       "      <td>55000000.0</td>\n",
       "      <td>7.9</td>\n",
       "      <td>Tom Hanks,Chris Mulkey,Michael Chernus</td>\n",
       "      <td>65000</td>\n",
       "    </tr>\n",
       "    <tr>\n",
       "      <th>95</th>\n",
       "      <td>Color</td>\n",
       "      <td>David Ayer</td>\n",
       "      <td>134</td>\n",
       "      <td>85707116.0</td>\n",
       "      <td>Action|Drama|War</td>\n",
       "      <td>Fury</td>\n",
       "      <td>2014</td>\n",
       "      <td>English</td>\n",
       "      <td>USA</td>\n",
       "      <td>68000000.0</td>\n",
       "      <td>7.6</td>\n",
       "      <td>Brad Pitt,Logan Lerman,Jim Parrack</td>\n",
       "      <td>82000</td>\n",
       "    </tr>\n",
       "    <tr>\n",
       "      <th>96</th>\n",
       "      <td>Color</td>\n",
       "      <td>Clint Eastwood</td>\n",
       "      <td>5</td>\n",
       "      <td>47034272.0</td>\n",
       "      <td>Biography|Drama|Music|Musical</td>\n",
       "      <td>Jersey Boys</td>\n",
       "      <td>2014</td>\n",
       "      <td>English</td>\n",
       "      <td>USA</td>\n",
       "      <td>40000000.0</td>\n",
       "      <td>6.9</td>\n",
       "      <td>Johnny Cannizzaro,Steve Schirripa,Scott Vance</td>\n",
       "      <td>16000</td>\n",
       "    </tr>\n",
       "  </tbody>\n",
       "</table>\n",
       "</div>"
      ],
      "text/plain": [
       "    color     director_name  duration        gross  \\\n",
       "92  Color     Steve McQueen       134   56667870.0   \n",
       "93  Color  Richard J. Lewis       134    7501404.0   \n",
       "94  Color   Paul Greengrass       134  107100855.0   \n",
       "95  Color        David Ayer       134   85707116.0   \n",
       "96  Color    Clint Eastwood         5   47034272.0   \n",
       "\n",
       "                           genres       movie_title  title_year language  \\\n",
       "92        Biography|Drama|History  12 Years a Slave        2013  English   \n",
       "93                   Comedy|Drama  Barney's Version        2010  English   \n",
       "94       Biography|Drama|Thriller  Captain Phillips        2013  English   \n",
       "95               Action|Drama|War              Fury        2014  English   \n",
       "96  Biography|Drama|Music|Musical       Jersey Boys        2014  English   \n",
       "\n",
       "   country      budget  imdb_score  \\\n",
       "92     USA  20000000.0         8.1   \n",
       "93  Canada         NaN         7.3   \n",
       "94     USA  55000000.0         7.9   \n",
       "95     USA  68000000.0         7.6   \n",
       "96     USA  40000000.0         6.9   \n",
       "\n",
       "                                           actors  movie_facebook_likes  \n",
       "92   Quvenzhané Wallis,Scoot McNairy,Taran Killam                 83000  \n",
       "93               Mark Addy,Atom Egoyan,Paul Gross                     0  \n",
       "94         Tom Hanks,Chris Mulkey,Michael Chernus                 65000  \n",
       "95             Brad Pitt,Logan Lerman,Jim Parrack                 82000  \n",
       "96  Johnny Cannizzaro,Steve Schirripa,Scott Vance                 16000  "
      ]
     },
     "execution_count": 5,
     "metadata": {},
     "output_type": "execute_result"
    }
   ],
   "source": [
    "imdb.tail()"
   ]
  },
  {
   "cell_type": "code",
   "execution_count": 6,
   "id": "c338d901",
   "metadata": {
    "_cell_guid": "d56398ec-6a5b-460f-8da8-b0bc3c5c7ad9",
    "_uuid": "23a06d39-661d-44c1-ab21-b1562c8aa050",
    "collapsed": false,
    "execution": {
     "iopub.execute_input": "2024-01-04T19:23:52.955664Z",
     "iopub.status.busy": "2024-01-04T19:23:52.954444Z",
     "iopub.status.idle": "2024-01-04T19:23:52.991878Z",
     "shell.execute_reply": "2024-01-04T19:23:52.990694Z"
    },
    "id": "jGviSSO6y0Hh",
    "jupyter": {
     "outputs_hidden": false
    },
    "outputId": "425960f6-d815-43f7-dc42-ef47118de7d5",
    "papermill": {
     "duration": 0.081543,
     "end_time": "2024-01-04T19:23:52.994313",
     "exception": false,
     "start_time": "2024-01-04T19:23:52.912770",
     "status": "completed"
    },
    "tags": []
   },
   "outputs": [
    {
     "data": {
      "text/html": [
       "<div>\n",
       "<style scoped>\n",
       "    .dataframe tbody tr th:only-of-type {\n",
       "        vertical-align: middle;\n",
       "    }\n",
       "\n",
       "    .dataframe tbody tr th {\n",
       "        vertical-align: top;\n",
       "    }\n",
       "\n",
       "    .dataframe thead th {\n",
       "        text-align: right;\n",
       "    }\n",
       "</style>\n",
       "<table border=\"1\" class=\"dataframe\">\n",
       "  <thead>\n",
       "    <tr style=\"text-align: right;\">\n",
       "      <th></th>\n",
       "      <th>duration</th>\n",
       "      <th>gross</th>\n",
       "      <th>title_year</th>\n",
       "      <th>budget</th>\n",
       "      <th>imdb_score</th>\n",
       "      <th>movie_facebook_likes</th>\n",
       "    </tr>\n",
       "  </thead>\n",
       "  <tbody>\n",
       "    <tr>\n",
       "      <th>count</th>\n",
       "      <td>97.000000</td>\n",
       "      <td>8.900000e+01</td>\n",
       "      <td>97.000000</td>\n",
       "      <td>9.300000e+01</td>\n",
       "      <td>97.000000</td>\n",
       "      <td>97.000000</td>\n",
       "    </tr>\n",
       "    <tr>\n",
       "      <th>mean</th>\n",
       "      <td>155.515464</td>\n",
       "      <td>1.539379e+08</td>\n",
       "      <td>1975.690722</td>\n",
       "      <td>1.049830e+08</td>\n",
       "      <td>6.871134</td>\n",
       "      <td>65273.453608</td>\n",
       "    </tr>\n",
       "    <tr>\n",
       "      <th>std</th>\n",
       "      <td>73.550452</td>\n",
       "      <td>1.412026e+08</td>\n",
       "      <td>258.477165</td>\n",
       "      <td>7.784829e+07</td>\n",
       "      <td>1.939231</td>\n",
       "      <td>58018.198425</td>\n",
       "    </tr>\n",
       "    <tr>\n",
       "      <th>min</th>\n",
       "      <td>-50.000000</td>\n",
       "      <td>4.122900e+04</td>\n",
       "      <td>202.000000</td>\n",
       "      <td>1.735000e+04</td>\n",
       "      <td>-7.500000</td>\n",
       "      <td>0.000000</td>\n",
       "    </tr>\n",
       "    <tr>\n",
       "      <th>25%</th>\n",
       "      <td>138.000000</td>\n",
       "      <td>4.710508e+07</td>\n",
       "      <td>2012.000000</td>\n",
       "      <td>4.000000e+07</td>\n",
       "      <td>6.500000</td>\n",
       "      <td>24000.000000</td>\n",
       "    </tr>\n",
       "    <tr>\n",
       "      <th>50%</th>\n",
       "      <td>143.000000</td>\n",
       "      <td>1.156040e+08</td>\n",
       "      <td>2013.000000</td>\n",
       "      <td>7.800000e+07</td>\n",
       "      <td>7.200000</td>\n",
       "      <td>54000.000000</td>\n",
       "    </tr>\n",
       "    <tr>\n",
       "      <th>75%</th>\n",
       "      <td>154.000000</td>\n",
       "      <td>2.410639e+08</td>\n",
       "      <td>2014.000000</td>\n",
       "      <td>1.780000e+08</td>\n",
       "      <td>7.800000</td>\n",
       "      <td>85000.000000</td>\n",
       "    </tr>\n",
       "    <tr>\n",
       "      <th>max</th>\n",
       "      <td>650.000000</td>\n",
       "      <td>6.232795e+08</td>\n",
       "      <td>2016.000000</td>\n",
       "      <td>2.500000e+08</td>\n",
       "      <td>8.800000</td>\n",
       "      <td>349000.000000</td>\n",
       "    </tr>\n",
       "  </tbody>\n",
       "</table>\n",
       "</div>"
      ],
      "text/plain": [
       "         duration         gross   title_year        budget  imdb_score  \\\n",
       "count   97.000000  8.900000e+01    97.000000  9.300000e+01   97.000000   \n",
       "mean   155.515464  1.539379e+08  1975.690722  1.049830e+08    6.871134   \n",
       "std     73.550452  1.412026e+08   258.477165  7.784829e+07    1.939231   \n",
       "min    -50.000000  4.122900e+04   202.000000  1.735000e+04   -7.500000   \n",
       "25%    138.000000  4.710508e+07  2012.000000  4.000000e+07    6.500000   \n",
       "50%    143.000000  1.156040e+08  2013.000000  7.800000e+07    7.200000   \n",
       "75%    154.000000  2.410639e+08  2014.000000  1.780000e+08    7.800000   \n",
       "max    650.000000  6.232795e+08  2016.000000  2.500000e+08    8.800000   \n",
       "\n",
       "       movie_facebook_likes  \n",
       "count             97.000000  \n",
       "mean           65273.453608  \n",
       "std            58018.198425  \n",
       "min                0.000000  \n",
       "25%            24000.000000  \n",
       "50%            54000.000000  \n",
       "75%            85000.000000  \n",
       "max           349000.000000  "
      ]
     },
     "execution_count": 6,
     "metadata": {},
     "output_type": "execute_result"
    }
   ],
   "source": [
    "imdb.describe()"
   ]
  },
  {
   "cell_type": "code",
   "execution_count": 7,
   "id": "885fd207",
   "metadata": {
    "_cell_guid": "91806e5a-c67d-4f3e-ac1b-a7394396a8ce",
    "_uuid": "3ea77383-a563-43d3-910a-6f62b59268e8",
    "collapsed": false,
    "execution": {
     "iopub.execute_input": "2024-01-04T19:23:53.077744Z",
     "iopub.status.busy": "2024-01-04T19:23:53.076734Z",
     "iopub.status.idle": "2024-01-04T19:23:53.086830Z",
     "shell.execute_reply": "2024-01-04T19:23:53.085181Z"
    },
    "id": "8my1BfIqy3zw",
    "jupyter": {
     "outputs_hidden": false
    },
    "outputId": "e9569ffb-3ef6-4d26-a55f-d14871e8e1e3",
    "papermill": {
     "duration": 0.054944,
     "end_time": "2024-01-04T19:23:53.089706",
     "exception": false,
     "start_time": "2024-01-04T19:23:53.034762",
     "status": "completed"
    },
    "tags": []
   },
   "outputs": [
    {
     "data": {
      "text/plain": [
       "(97, 13)"
      ]
     },
     "execution_count": 7,
     "metadata": {},
     "output_type": "execute_result"
    }
   ],
   "source": [
    "imdb.shape"
   ]
  },
  {
   "cell_type": "code",
   "execution_count": 8,
   "id": "51e54d37",
   "metadata": {
    "_cell_guid": "b3776bee-4345-4f22-a5e9-f0410d65cd0a",
    "_uuid": "8619c1e4-cf30-4a6d-8b5e-d073e0499bec",
    "collapsed": false,
    "execution": {
     "iopub.execute_input": "2024-01-04T19:23:53.189645Z",
     "iopub.status.busy": "2024-01-04T19:23:53.188391Z",
     "iopub.status.idle": "2024-01-04T19:23:53.197584Z",
     "shell.execute_reply": "2024-01-04T19:23:53.196250Z"
    },
    "id": "pX4rQEa4zzbY",
    "jupyter": {
     "outputs_hidden": false
    },
    "outputId": "613b4d85-eff5-4987-bdff-e1445cae4919",
    "papermill": {
     "duration": 0.064117,
     "end_time": "2024-01-04T19:23:53.200476",
     "exception": false,
     "start_time": "2024-01-04T19:23:53.136359",
     "status": "completed"
    },
    "tags": []
   },
   "outputs": [
    {
     "data": {
      "text/plain": [
       "97"
      ]
     },
     "execution_count": 8,
     "metadata": {},
     "output_type": "execute_result"
    }
   ],
   "source": [
    "len(imdb)"
   ]
  },
  {
   "cell_type": "code",
   "execution_count": 9,
   "id": "84520f23",
   "metadata": {
    "_cell_guid": "6616cbdf-d6cb-4aa6-a01d-711383f406a2",
    "_uuid": "50665f87-3294-44cc-95d0-3a85bc9796cf",
    "collapsed": false,
    "execution": {
     "iopub.execute_input": "2024-01-04T19:23:53.288171Z",
     "iopub.status.busy": "2024-01-04T19:23:53.286991Z",
     "iopub.status.idle": "2024-01-04T19:23:53.322707Z",
     "shell.execute_reply": "2024-01-04T19:23:53.321201Z"
    },
    "id": "yWrE5Sslz5lH",
    "jupyter": {
     "outputs_hidden": false
    },
    "outputId": "3d6bf1ce-c67e-4ed8-8fab-225d4a8c4025",
    "papermill": {
     "duration": 0.084847,
     "end_time": "2024-01-04T19:23:53.325652",
     "exception": false,
     "start_time": "2024-01-04T19:23:53.240805",
     "status": "completed"
    },
    "tags": []
   },
   "outputs": [
    {
     "data": {
      "text/html": [
       "<div>\n",
       "<style scoped>\n",
       "    .dataframe tbody tr th:only-of-type {\n",
       "        vertical-align: middle;\n",
       "    }\n",
       "\n",
       "    .dataframe tbody tr th {\n",
       "        vertical-align: top;\n",
       "    }\n",
       "\n",
       "    .dataframe thead th {\n",
       "        text-align: right;\n",
       "    }\n",
       "</style>\n",
       "<table border=\"1\" class=\"dataframe\">\n",
       "  <thead>\n",
       "    <tr style=\"text-align: right;\">\n",
       "      <th></th>\n",
       "      <th>color</th>\n",
       "      <th>director_name</th>\n",
       "      <th>duration</th>\n",
       "      <th>gross</th>\n",
       "      <th>genres</th>\n",
       "      <th>movie_title</th>\n",
       "      <th>title_year</th>\n",
       "      <th>language</th>\n",
       "      <th>country</th>\n",
       "      <th>budget</th>\n",
       "      <th>imdb_score</th>\n",
       "      <th>actors</th>\n",
       "      <th>movie_facebook_likes</th>\n",
       "    </tr>\n",
       "  </thead>\n",
       "  <tbody>\n",
       "    <tr>\n",
       "      <th>9</th>\n",
       "      <td>Color</td>\n",
       "      <td>Joss Whedon</td>\n",
       "      <td>173</td>\n",
       "      <td>623279547.0</td>\n",
       "      <td>Action|Adventure|Sci-Fi</td>\n",
       "      <td>The Avengers</td>\n",
       "      <td>2012</td>\n",
       "      <td>English</td>\n",
       "      <td>USA</td>\n",
       "      <td>220000000.0</td>\n",
       "      <td>8.1</td>\n",
       "      <td>Chris Hemsworth,Robert Downey Jr.,Scarlett Joh...</td>\n",
       "      <td>123000</td>\n",
       "    </tr>\n",
       "    <tr>\n",
       "      <th>20</th>\n",
       "      <td>Color</td>\n",
       "      <td>Tom Hooper</td>\n",
       "      <td>158</td>\n",
       "      <td>148775460.0</td>\n",
       "      <td>Drama|Musical|Romance</td>\n",
       "      <td>Les Misérables</td>\n",
       "      <td>2012</td>\n",
       "      <td>English</td>\n",
       "      <td>USA</td>\n",
       "      <td>61000000.0</td>\n",
       "      <td>7.6</td>\n",
       "      <td>Hugh Jackman,Eddie Redmayne,Anne Hathaway</td>\n",
       "      <td>144000</td>\n",
       "    </tr>\n",
       "    <tr>\n",
       "      <th>29</th>\n",
       "      <td>Color</td>\n",
       "      <td>Ridley Scott</td>\n",
       "      <td>150</td>\n",
       "      <td>65007045.0</td>\n",
       "      <td>Action|Adventure|Drama</td>\n",
       "      <td>Exodus: Gods and Kings</td>\n",
       "      <td>2014</td>\n",
       "      <td>English</td>\n",
       "      <td>UK</td>\n",
       "      <td>140000000.0</td>\n",
       "      <td>6.1</td>\n",
       "      <td>Christian Bale,María Valverde,Ben Mendelsohn</td>\n",
       "      <td>51000</td>\n",
       "    </tr>\n",
       "    <tr>\n",
       "      <th>51</th>\n",
       "      <td>Color</td>\n",
       "      <td>Sam Mendes</td>\n",
       "      <td>143</td>\n",
       "      <td>304360277.0</td>\n",
       "      <td>Action|Adventure|Thriller</td>\n",
       "      <td>Skyfall</td>\n",
       "      <td>2012</td>\n",
       "      <td>English</td>\n",
       "      <td>UK</td>\n",
       "      <td>200000000.0</td>\n",
       "      <td>7.8</td>\n",
       "      <td>Albert Finney,Helen McCrory,Rory Kinnear</td>\n",
       "      <td>80000</td>\n",
       "    </tr>\n",
       "    <tr>\n",
       "      <th>53</th>\n",
       "      <td>Color</td>\n",
       "      <td>Baz Luhrmann</td>\n",
       "      <td>143</td>\n",
       "      <td>144812796.0</td>\n",
       "      <td>Drama|Romance</td>\n",
       "      <td>The Great Gatsby</td>\n",
       "      <td>2013</td>\n",
       "      <td>English</td>\n",
       "      <td>Australia</td>\n",
       "      <td>105000000.0</td>\n",
       "      <td>7.3</td>\n",
       "      <td>Leonardo DiCaprio,Elizabeth Debicki,Steve Bisley</td>\n",
       "      <td>115000</td>\n",
       "    </tr>\n",
       "    <tr>\n",
       "      <th>61</th>\n",
       "      <td>Color</td>\n",
       "      <td>Timur Bekmambetov</td>\n",
       "      <td>141</td>\n",
       "      <td>NaN</td>\n",
       "      <td>Adventure|Drama|History</td>\n",
       "      <td>Ben-Hur</td>\n",
       "      <td>2016</td>\n",
       "      <td>English</td>\n",
       "      <td>USA</td>\n",
       "      <td>100000000.0</td>\n",
       "      <td>6.1</td>\n",
       "      <td>Morgan Freeman,Ayelet Zurer,Moises Arias</td>\n",
       "      <td>0</td>\n",
       "    </tr>\n",
       "  </tbody>\n",
       "</table>\n",
       "</div>"
      ],
      "text/plain": [
       "    color      director_name  duration        gross  \\\n",
       "9   Color        Joss Whedon       173  623279547.0   \n",
       "20  Color         Tom Hooper       158  148775460.0   \n",
       "29  Color       Ridley Scott       150   65007045.0   \n",
       "51  Color         Sam Mendes       143  304360277.0   \n",
       "53  Color       Baz Luhrmann       143  144812796.0   \n",
       "61  Color  Timur Bekmambetov       141          NaN   \n",
       "\n",
       "                       genres             movie_title  title_year language  \\\n",
       "9     Action|Adventure|Sci-Fi            The Avengers        2012  English   \n",
       "20      Drama|Musical|Romance          Les Misérables        2012  English   \n",
       "29     Action|Adventure|Drama  Exodus: Gods and Kings        2014  English   \n",
       "51  Action|Adventure|Thriller                 Skyfall        2012  English   \n",
       "53              Drama|Romance        The Great Gatsby        2013  English   \n",
       "61    Adventure|Drama|History                 Ben-Hur        2016  English   \n",
       "\n",
       "      country       budget  imdb_score  \\\n",
       "9         USA  220000000.0         8.1   \n",
       "20        USA   61000000.0         7.6   \n",
       "29         UK  140000000.0         6.1   \n",
       "51         UK  200000000.0         7.8   \n",
       "53  Australia  105000000.0         7.3   \n",
       "61        USA  100000000.0         6.1   \n",
       "\n",
       "                                               actors  movie_facebook_likes  \n",
       "9   Chris Hemsworth,Robert Downey Jr.,Scarlett Joh...                123000  \n",
       "20          Hugh Jackman,Eddie Redmayne,Anne Hathaway                144000  \n",
       "29       Christian Bale,María Valverde,Ben Mendelsohn                 51000  \n",
       "51           Albert Finney,Helen McCrory,Rory Kinnear                 80000  \n",
       "53   Leonardo DiCaprio,Elizabeth Debicki,Steve Bisley                115000  \n",
       "61           Morgan Freeman,Ayelet Zurer,Moises Arias                     0  "
      ]
     },
     "execution_count": 9,
     "metadata": {},
     "output_type": "execute_result"
    }
   ],
   "source": [
    "imdb[imdb.duplicated()]"
   ]
  },
  {
   "cell_type": "code",
   "execution_count": 10,
   "id": "9679f88f",
   "metadata": {
    "_cell_guid": "a9fa295f-9639-4ae3-a56f-0d5b4dd4a3b7",
    "_uuid": "2d523b83-6da3-4ed5-9bf8-0c33002cf97b",
    "collapsed": false,
    "execution": {
     "iopub.execute_input": "2024-01-04T19:23:53.426027Z",
     "iopub.status.busy": "2024-01-04T19:23:53.424627Z",
     "iopub.status.idle": "2024-01-04T19:23:53.461836Z",
     "shell.execute_reply": "2024-01-04T19:23:53.460413Z"
    },
    "id": "KUZBseey4TRA",
    "jupyter": {
     "outputs_hidden": false
    },
    "outputId": "afd49892-4076-4fc9-d0cb-f34d6f304574",
    "papermill": {
     "duration": 0.102271,
     "end_time": "2024-01-04T19:23:53.473490",
     "exception": false,
     "start_time": "2024-01-04T19:23:53.371219",
     "status": "completed"
    },
    "tags": []
   },
   "outputs": [
    {
     "data": {
      "text/html": [
       "<div>\n",
       "<style scoped>\n",
       "    .dataframe tbody tr th:only-of-type {\n",
       "        vertical-align: middle;\n",
       "    }\n",
       "\n",
       "    .dataframe tbody tr th {\n",
       "        vertical-align: top;\n",
       "    }\n",
       "\n",
       "    .dataframe thead th {\n",
       "        text-align: right;\n",
       "    }\n",
       "</style>\n",
       "<table border=\"1\" class=\"dataframe\">\n",
       "  <thead>\n",
       "    <tr style=\"text-align: right;\">\n",
       "      <th></th>\n",
       "      <th>color</th>\n",
       "      <th>director_name</th>\n",
       "      <th>duration</th>\n",
       "      <th>gross</th>\n",
       "      <th>genres</th>\n",
       "      <th>movie_title</th>\n",
       "      <th>title_year</th>\n",
       "      <th>language</th>\n",
       "      <th>country</th>\n",
       "      <th>budget</th>\n",
       "      <th>imdb_score</th>\n",
       "      <th>actors</th>\n",
       "      <th>movie_facebook_likes</th>\n",
       "    </tr>\n",
       "  </thead>\n",
       "  <tbody>\n",
       "    <tr>\n",
       "      <th>8</th>\n",
       "      <td>Color</td>\n",
       "      <td>Joss Whedon</td>\n",
       "      <td>173</td>\n",
       "      <td>623279547.0</td>\n",
       "      <td>Action|Adventure|Sci-Fi</td>\n",
       "      <td>The Avengers</td>\n",
       "      <td>2012</td>\n",
       "      <td>English</td>\n",
       "      <td>USA</td>\n",
       "      <td>220000000.0</td>\n",
       "      <td>8.1</td>\n",
       "      <td>Chris Hemsworth,Robert Downey Jr.,Scarlett Joh...</td>\n",
       "      <td>123000</td>\n",
       "    </tr>\n",
       "    <tr>\n",
       "      <th>9</th>\n",
       "      <td>Color</td>\n",
       "      <td>Joss Whedon</td>\n",
       "      <td>173</td>\n",
       "      <td>623279547.0</td>\n",
       "      <td>Action|Adventure|Sci-Fi</td>\n",
       "      <td>The Avengers</td>\n",
       "      <td>2012</td>\n",
       "      <td>English</td>\n",
       "      <td>USA</td>\n",
       "      <td>220000000.0</td>\n",
       "      <td>8.1</td>\n",
       "      <td>Chris Hemsworth,Robert Downey Jr.,Scarlett Joh...</td>\n",
       "      <td>123000</td>\n",
       "    </tr>\n",
       "    <tr>\n",
       "      <th>19</th>\n",
       "      <td>Color</td>\n",
       "      <td>Tom Hooper</td>\n",
       "      <td>158</td>\n",
       "      <td>148775460.0</td>\n",
       "      <td>Drama|Musical|Romance</td>\n",
       "      <td>Les Misérables</td>\n",
       "      <td>2012</td>\n",
       "      <td>English</td>\n",
       "      <td>USA</td>\n",
       "      <td>61000000.0</td>\n",
       "      <td>7.6</td>\n",
       "      <td>Hugh Jackman,Eddie Redmayne,Anne Hathaway</td>\n",
       "      <td>144000</td>\n",
       "    </tr>\n",
       "    <tr>\n",
       "      <th>20</th>\n",
       "      <td>Color</td>\n",
       "      <td>Tom Hooper</td>\n",
       "      <td>158</td>\n",
       "      <td>148775460.0</td>\n",
       "      <td>Drama|Musical|Romance</td>\n",
       "      <td>Les Misérables</td>\n",
       "      <td>2012</td>\n",
       "      <td>English</td>\n",
       "      <td>USA</td>\n",
       "      <td>61000000.0</td>\n",
       "      <td>7.6</td>\n",
       "      <td>Hugh Jackman,Eddie Redmayne,Anne Hathaway</td>\n",
       "      <td>144000</td>\n",
       "    </tr>\n",
       "    <tr>\n",
       "      <th>28</th>\n",
       "      <td>Color</td>\n",
       "      <td>Ridley Scott</td>\n",
       "      <td>150</td>\n",
       "      <td>65007045.0</td>\n",
       "      <td>Action|Adventure|Drama</td>\n",
       "      <td>Exodus: Gods and Kings</td>\n",
       "      <td>2014</td>\n",
       "      <td>English</td>\n",
       "      <td>UK</td>\n",
       "      <td>140000000.0</td>\n",
       "      <td>6.1</td>\n",
       "      <td>Christian Bale,María Valverde,Ben Mendelsohn</td>\n",
       "      <td>51000</td>\n",
       "    </tr>\n",
       "    <tr>\n",
       "      <th>29</th>\n",
       "      <td>Color</td>\n",
       "      <td>Ridley Scott</td>\n",
       "      <td>150</td>\n",
       "      <td>65007045.0</td>\n",
       "      <td>Action|Adventure|Drama</td>\n",
       "      <td>Exodus: Gods and Kings</td>\n",
       "      <td>2014</td>\n",
       "      <td>English</td>\n",
       "      <td>UK</td>\n",
       "      <td>140000000.0</td>\n",
       "      <td>6.1</td>\n",
       "      <td>Christian Bale,María Valverde,Ben Mendelsohn</td>\n",
       "      <td>51000</td>\n",
       "    </tr>\n",
       "    <tr>\n",
       "      <th>50</th>\n",
       "      <td>Color</td>\n",
       "      <td>Sam Mendes</td>\n",
       "      <td>143</td>\n",
       "      <td>304360277.0</td>\n",
       "      <td>Action|Adventure|Thriller</td>\n",
       "      <td>Skyfall</td>\n",
       "      <td>2012</td>\n",
       "      <td>English</td>\n",
       "      <td>UK</td>\n",
       "      <td>200000000.0</td>\n",
       "      <td>7.8</td>\n",
       "      <td>Albert Finney,Helen McCrory,Rory Kinnear</td>\n",
       "      <td>80000</td>\n",
       "    </tr>\n",
       "    <tr>\n",
       "      <th>51</th>\n",
       "      <td>Color</td>\n",
       "      <td>Sam Mendes</td>\n",
       "      <td>143</td>\n",
       "      <td>304360277.0</td>\n",
       "      <td>Action|Adventure|Thriller</td>\n",
       "      <td>Skyfall</td>\n",
       "      <td>2012</td>\n",
       "      <td>English</td>\n",
       "      <td>UK</td>\n",
       "      <td>200000000.0</td>\n",
       "      <td>7.8</td>\n",
       "      <td>Albert Finney,Helen McCrory,Rory Kinnear</td>\n",
       "      <td>80000</td>\n",
       "    </tr>\n",
       "    <tr>\n",
       "      <th>52</th>\n",
       "      <td>Color</td>\n",
       "      <td>Baz Luhrmann</td>\n",
       "      <td>143</td>\n",
       "      <td>144812796.0</td>\n",
       "      <td>Drama|Romance</td>\n",
       "      <td>The Great Gatsby</td>\n",
       "      <td>2013</td>\n",
       "      <td>English</td>\n",
       "      <td>Australia</td>\n",
       "      <td>105000000.0</td>\n",
       "      <td>7.3</td>\n",
       "      <td>Leonardo DiCaprio,Elizabeth Debicki,Steve Bisley</td>\n",
       "      <td>115000</td>\n",
       "    </tr>\n",
       "    <tr>\n",
       "      <th>53</th>\n",
       "      <td>Color</td>\n",
       "      <td>Baz Luhrmann</td>\n",
       "      <td>143</td>\n",
       "      <td>144812796.0</td>\n",
       "      <td>Drama|Romance</td>\n",
       "      <td>The Great Gatsby</td>\n",
       "      <td>2013</td>\n",
       "      <td>English</td>\n",
       "      <td>Australia</td>\n",
       "      <td>105000000.0</td>\n",
       "      <td>7.3</td>\n",
       "      <td>Leonardo DiCaprio,Elizabeth Debicki,Steve Bisley</td>\n",
       "      <td>115000</td>\n",
       "    </tr>\n",
       "    <tr>\n",
       "      <th>59</th>\n",
       "      <td>Color</td>\n",
       "      <td>Timur Bekmambetov</td>\n",
       "      <td>141</td>\n",
       "      <td>NaN</td>\n",
       "      <td>Adventure|Drama|History</td>\n",
       "      <td>Ben-Hur</td>\n",
       "      <td>2016</td>\n",
       "      <td>English</td>\n",
       "      <td>USA</td>\n",
       "      <td>100000000.0</td>\n",
       "      <td>6.1</td>\n",
       "      <td>Morgan Freeman,Ayelet Zurer,Moises Arias</td>\n",
       "      <td>0</td>\n",
       "    </tr>\n",
       "    <tr>\n",
       "      <th>61</th>\n",
       "      <td>Color</td>\n",
       "      <td>Timur Bekmambetov</td>\n",
       "      <td>141</td>\n",
       "      <td>NaN</td>\n",
       "      <td>Adventure|Drama|History</td>\n",
       "      <td>Ben-Hur</td>\n",
       "      <td>2016</td>\n",
       "      <td>English</td>\n",
       "      <td>USA</td>\n",
       "      <td>100000000.0</td>\n",
       "      <td>6.1</td>\n",
       "      <td>Morgan Freeman,Ayelet Zurer,Moises Arias</td>\n",
       "      <td>0</td>\n",
       "    </tr>\n",
       "  </tbody>\n",
       "</table>\n",
       "</div>"
      ],
      "text/plain": [
       "    color      director_name  duration        gross  \\\n",
       "8   Color        Joss Whedon       173  623279547.0   \n",
       "9   Color        Joss Whedon       173  623279547.0   \n",
       "19  Color         Tom Hooper       158  148775460.0   \n",
       "20  Color         Tom Hooper       158  148775460.0   \n",
       "28  Color       Ridley Scott       150   65007045.0   \n",
       "29  Color       Ridley Scott       150   65007045.0   \n",
       "50  Color         Sam Mendes       143  304360277.0   \n",
       "51  Color         Sam Mendes       143  304360277.0   \n",
       "52  Color       Baz Luhrmann       143  144812796.0   \n",
       "53  Color       Baz Luhrmann       143  144812796.0   \n",
       "59  Color  Timur Bekmambetov       141          NaN   \n",
       "61  Color  Timur Bekmambetov       141          NaN   \n",
       "\n",
       "                       genres             movie_title  title_year language  \\\n",
       "8     Action|Adventure|Sci-Fi            The Avengers        2012  English   \n",
       "9     Action|Adventure|Sci-Fi            The Avengers        2012  English   \n",
       "19      Drama|Musical|Romance          Les Misérables        2012  English   \n",
       "20      Drama|Musical|Romance          Les Misérables        2012  English   \n",
       "28     Action|Adventure|Drama  Exodus: Gods and Kings        2014  English   \n",
       "29     Action|Adventure|Drama  Exodus: Gods and Kings        2014  English   \n",
       "50  Action|Adventure|Thriller                 Skyfall        2012  English   \n",
       "51  Action|Adventure|Thriller                 Skyfall        2012  English   \n",
       "52              Drama|Romance        The Great Gatsby        2013  English   \n",
       "53              Drama|Romance        The Great Gatsby        2013  English   \n",
       "59    Adventure|Drama|History                 Ben-Hur        2016  English   \n",
       "61    Adventure|Drama|History                 Ben-Hur        2016  English   \n",
       "\n",
       "      country       budget  imdb_score  \\\n",
       "8         USA  220000000.0         8.1   \n",
       "9         USA  220000000.0         8.1   \n",
       "19        USA   61000000.0         7.6   \n",
       "20        USA   61000000.0         7.6   \n",
       "28         UK  140000000.0         6.1   \n",
       "29         UK  140000000.0         6.1   \n",
       "50         UK  200000000.0         7.8   \n",
       "51         UK  200000000.0         7.8   \n",
       "52  Australia  105000000.0         7.3   \n",
       "53  Australia  105000000.0         7.3   \n",
       "59        USA  100000000.0         6.1   \n",
       "61        USA  100000000.0         6.1   \n",
       "\n",
       "                                               actors  movie_facebook_likes  \n",
       "8   Chris Hemsworth,Robert Downey Jr.,Scarlett Joh...                123000  \n",
       "9   Chris Hemsworth,Robert Downey Jr.,Scarlett Joh...                123000  \n",
       "19          Hugh Jackman,Eddie Redmayne,Anne Hathaway                144000  \n",
       "20          Hugh Jackman,Eddie Redmayne,Anne Hathaway                144000  \n",
       "28       Christian Bale,María Valverde,Ben Mendelsohn                 51000  \n",
       "29       Christian Bale,María Valverde,Ben Mendelsohn                 51000  \n",
       "50           Albert Finney,Helen McCrory,Rory Kinnear                 80000  \n",
       "51           Albert Finney,Helen McCrory,Rory Kinnear                 80000  \n",
       "52   Leonardo DiCaprio,Elizabeth Debicki,Steve Bisley                115000  \n",
       "53   Leonardo DiCaprio,Elizabeth Debicki,Steve Bisley                115000  \n",
       "59           Morgan Freeman,Ayelet Zurer,Moises Arias                     0  \n",
       "61           Morgan Freeman,Ayelet Zurer,Moises Arias                     0  "
      ]
     },
     "execution_count": 10,
     "metadata": {},
     "output_type": "execute_result"
    }
   ],
   "source": [
    "imdb[imdb.duplicated(keep=False)]"
   ]
  },
  {
   "cell_type": "code",
   "execution_count": 11,
   "id": "ad562216",
   "metadata": {
    "_cell_guid": "0cf7ce94-3439-4f8e-962d-e698853a4204",
    "_uuid": "b7c8b784-2b46-41b9-b2b8-81172350e524",
    "collapsed": false,
    "execution": {
     "iopub.execute_input": "2024-01-04T19:23:53.569885Z",
     "iopub.status.busy": "2024-01-04T19:23:53.568176Z",
     "iopub.status.idle": "2024-01-04T19:23:53.583288Z",
     "shell.execute_reply": "2024-01-04T19:23:53.581651Z"
    },
    "id": "znslVxAn4sp6",
    "jupyter": {
     "outputs_hidden": false
    },
    "outputId": "3895540c-8705-48d0-f32c-f48760db1892",
    "papermill": {
     "duration": 0.063173,
     "end_time": "2024-01-04T19:23:53.586494",
     "exception": false,
     "start_time": "2024-01-04T19:23:53.523321",
     "status": "completed"
    },
    "tags": []
   },
   "outputs": [
    {
     "data": {
      "text/plain": [
       "6"
      ]
     },
     "execution_count": 11,
     "metadata": {},
     "output_type": "execute_result"
    }
   ],
   "source": [
    "len(imdb[imdb.duplicated()])"
   ]
  },
  {
   "cell_type": "code",
   "execution_count": 12,
   "id": "95d3d53a",
   "metadata": {
    "_cell_guid": "e6a44223-8b01-4e6e-85de-fd7651eb94d2",
    "_uuid": "f77a39c4-195d-495a-8b82-da1f6c894a57",
    "collapsed": false,
    "execution": {
     "iopub.execute_input": "2024-01-04T19:23:53.681752Z",
     "iopub.status.busy": "2024-01-04T19:23:53.681222Z",
     "iopub.status.idle": "2024-01-04T19:23:53.693372Z",
     "shell.execute_reply": "2024-01-04T19:23:53.692126Z"
    },
    "id": "dxhthkvD43qz",
    "jupyter": {
     "outputs_hidden": false
    },
    "outputId": "6f3b2bca-21f5-4188-a1ba-d2808cb6dd3f",
    "papermill": {
     "duration": 0.066286,
     "end_time": "2024-01-04T19:23:53.695963",
     "exception": false,
     "start_time": "2024-01-04T19:23:53.629677",
     "status": "completed"
    },
    "tags": []
   },
   "outputs": [
    {
     "data": {
      "text/plain": [
       "0      True\n",
       "1      True\n",
       "2      True\n",
       "3      True\n",
       "4      True\n",
       "      ...  \n",
       "92    False\n",
       "93    False\n",
       "94    False\n",
       "95    False\n",
       "96    False\n",
       "Name: duration, Length: 97, dtype: bool"
      ]
     },
     "execution_count": 12,
     "metadata": {},
     "output_type": "execute_result"
    }
   ],
   "source": [
    "imdb['duration']>180"
   ]
  },
  {
   "cell_type": "code",
   "execution_count": 13,
   "id": "a75910f9",
   "metadata": {
    "_cell_guid": "c04389d4-6275-4d8c-84a4-201164829717",
    "_uuid": "f43ffab1-3be2-4f84-9173-c86d4edaee1f",
    "collapsed": false,
    "execution": {
     "iopub.execute_input": "2024-01-04T19:23:53.781804Z",
     "iopub.status.busy": "2024-01-04T19:23:53.781381Z",
     "iopub.status.idle": "2024-01-04T19:23:53.803704Z",
     "shell.execute_reply": "2024-01-04T19:23:53.802521Z"
    },
    "id": "cETGM0CE5L_o",
    "jupyter": {
     "outputs_hidden": false
    },
    "outputId": "9b5f7f82-f05e-4fc4-8137-54956f1c789a",
    "papermill": {
     "duration": 0.068783,
     "end_time": "2024-01-04T19:23:53.806369",
     "exception": false,
     "start_time": "2024-01-04T19:23:53.737586",
     "status": "completed"
    },
    "tags": []
   },
   "outputs": [
    {
     "data": {
      "text/html": [
       "<div>\n",
       "<style scoped>\n",
       "    .dataframe tbody tr th:only-of-type {\n",
       "        vertical-align: middle;\n",
       "    }\n",
       "\n",
       "    .dataframe tbody tr th {\n",
       "        vertical-align: top;\n",
       "    }\n",
       "\n",
       "    .dataframe thead th {\n",
       "        text-align: right;\n",
       "    }\n",
       "</style>\n",
       "<table border=\"1\" class=\"dataframe\">\n",
       "  <thead>\n",
       "    <tr style=\"text-align: right;\">\n",
       "      <th></th>\n",
       "      <th>color</th>\n",
       "      <th>director_name</th>\n",
       "      <th>duration</th>\n",
       "      <th>gross</th>\n",
       "      <th>genres</th>\n",
       "      <th>movie_title</th>\n",
       "      <th>title_year</th>\n",
       "      <th>language</th>\n",
       "      <th>country</th>\n",
       "      <th>budget</th>\n",
       "      <th>imdb_score</th>\n",
       "      <th>actors</th>\n",
       "      <th>movie_facebook_likes</th>\n",
       "    </tr>\n",
       "  </thead>\n",
       "  <tbody>\n",
       "    <tr>\n",
       "      <th>0</th>\n",
       "      <td>Color</td>\n",
       "      <td>Martin Scorsese</td>\n",
       "      <td>240</td>\n",
       "      <td>116866727.0</td>\n",
       "      <td>Biography|Comedy|Crime|Drama</td>\n",
       "      <td>The Wolf of Wall Street</td>\n",
       "      <td>2013</td>\n",
       "      <td>English</td>\n",
       "      <td>USA</td>\n",
       "      <td>100000000.0</td>\n",
       "      <td>8.2</td>\n",
       "      <td>Leonardo DiCaprio,Matthew McConaughey,Jon Favreau</td>\n",
       "      <td>138000</td>\n",
       "    </tr>\n",
       "    <tr>\n",
       "      <th>1</th>\n",
       "      <td>Color</td>\n",
       "      <td>Shane Black</td>\n",
       "      <td>195</td>\n",
       "      <td>408992272.0</td>\n",
       "      <td>Action|Adventure|Sci-Fi</td>\n",
       "      <td>Iron Man 3</td>\n",
       "      <td>2013</td>\n",
       "      <td>English</td>\n",
       "      <td>USA</td>\n",
       "      <td>200000000.0</td>\n",
       "      <td>7.2</td>\n",
       "      <td>Robert Downey Jr.,Jon Favreau,Don Cheadle</td>\n",
       "      <td>95000</td>\n",
       "    </tr>\n",
       "    <tr>\n",
       "      <th>2</th>\n",
       "      <td>color</td>\n",
       "      <td>Quentin Tarantino</td>\n",
       "      <td>187</td>\n",
       "      <td>54116191.0</td>\n",
       "      <td>Crime|Drama|Mystery|Thriller|Western</td>\n",
       "      <td>The Hateful Eight</td>\n",
       "      <td>2015</td>\n",
       "      <td>English</td>\n",
       "      <td>USA</td>\n",
       "      <td>44000000.0</td>\n",
       "      <td>7.9</td>\n",
       "      <td>Craig Stark,Jennifer Jason Leigh,Zoë Bell</td>\n",
       "      <td>114000</td>\n",
       "    </tr>\n",
       "    <tr>\n",
       "      <th>3</th>\n",
       "      <td>Color</td>\n",
       "      <td>Kenneth Lonergan</td>\n",
       "      <td>186</td>\n",
       "      <td>46495.0</td>\n",
       "      <td>Drama</td>\n",
       "      <td>Margaret</td>\n",
       "      <td>2011</td>\n",
       "      <td>English</td>\n",
       "      <td>usa</td>\n",
       "      <td>14000000.0</td>\n",
       "      <td>6.5</td>\n",
       "      <td>Matt Damon,Kieran Culkin,John Gallagher Jr.</td>\n",
       "      <td>0</td>\n",
       "    </tr>\n",
       "    <tr>\n",
       "      <th>4</th>\n",
       "      <td>Color</td>\n",
       "      <td>Peter Jackson</td>\n",
       "      <td>186</td>\n",
       "      <td>258355354.0</td>\n",
       "      <td>Adventure|Fantasy</td>\n",
       "      <td>The Hobbit: The Desolation of Smaug</td>\n",
       "      <td>2013</td>\n",
       "      <td>English</td>\n",
       "      <td>USA</td>\n",
       "      <td>225000000.0</td>\n",
       "      <td>7.9</td>\n",
       "      <td>Aidan Turner,Adam Brown,James Nesbitt</td>\n",
       "      <td>83000</td>\n",
       "    </tr>\n",
       "    <tr>\n",
       "      <th>5</th>\n",
       "      <td>NaN</td>\n",
       "      <td>NaN</td>\n",
       "      <td>183</td>\n",
       "      <td>330249062.0</td>\n",
       "      <td>Action|Adventure|Sci-Fi</td>\n",
       "      <td>Batman v Superman: Dawn of Justice</td>\n",
       "      <td>202</td>\n",
       "      <td>English</td>\n",
       "      <td>USA</td>\n",
       "      <td>250000000.0</td>\n",
       "      <td>6.9</td>\n",
       "      <td>Henry Cavill,Lauren Cohan,Alan D. Purwin</td>\n",
       "      <td>197000</td>\n",
       "    </tr>\n",
       "    <tr>\n",
       "      <th>15</th>\n",
       "      <td>Color</td>\n",
       "      <td>Quentin Tarantino</td>\n",
       "      <td>580</td>\n",
       "      <td>162804648.0</td>\n",
       "      <td>Drama|Western</td>\n",
       "      <td>Django Unchained</td>\n",
       "      <td>2012</td>\n",
       "      <td>English</td>\n",
       "      <td>USA</td>\n",
       "      <td>100000000.0</td>\n",
       "      <td>8.5</td>\n",
       "      <td>Leonardo DiCaprio,Christoph Waltz,Ato Essandoh</td>\n",
       "      <td>199000</td>\n",
       "    </tr>\n",
       "    <tr>\n",
       "      <th>32</th>\n",
       "      <td>Color</td>\n",
       "      <td>Gore Verbinski</td>\n",
       "      <td>650</td>\n",
       "      <td>89289910.0</td>\n",
       "      <td>Action|Adventure|Western</td>\n",
       "      <td>The Lone Ranger</td>\n",
       "      <td>2013</td>\n",
       "      <td>English</td>\n",
       "      <td>USA</td>\n",
       "      <td>215000000.0</td>\n",
       "      <td>6.5</td>\n",
       "      <td>Johnny Depp,Ruth Wilson,Tom Wilkinson</td>\n",
       "      <td>48000</td>\n",
       "    </tr>\n",
       "  </tbody>\n",
       "</table>\n",
       "</div>"
      ],
      "text/plain": [
       "     color      director_name  duration        gross  \\\n",
       "0    Color    Martin Scorsese       240  116866727.0   \n",
       "1    Color        Shane Black       195  408992272.0   \n",
       "2   color   Quentin Tarantino       187   54116191.0   \n",
       "3    Color   Kenneth Lonergan       186      46495.0   \n",
       "4    Color      Peter Jackson       186  258355354.0   \n",
       "5      NaN                NaN       183  330249062.0   \n",
       "15   Color  Quentin Tarantino       580  162804648.0   \n",
       "32   Color     Gore Verbinski       650   89289910.0   \n",
       "\n",
       "                                  genres                          movie_title  \\\n",
       "0           Biography|Comedy|Crime|Drama              The Wolf of Wall Street   \n",
       "1                Action|Adventure|Sci-Fi                           Iron Man 3   \n",
       "2   Crime|Drama|Mystery|Thriller|Western                    The Hateful Eight   \n",
       "3                                  Drama                             Margaret   \n",
       "4                      Adventure|Fantasy  The Hobbit: The Desolation of Smaug   \n",
       "5                Action|Adventure|Sci-Fi   Batman v Superman: Dawn of Justice   \n",
       "15                         Drama|Western                     Django Unchained   \n",
       "32              Action|Adventure|Western                      The Lone Ranger   \n",
       "\n",
       "    title_year language country       budget  imdb_score  \\\n",
       "0         2013  English     USA  100000000.0         8.2   \n",
       "1         2013  English     USA  200000000.0         7.2   \n",
       "2         2015  English     USA   44000000.0         7.9   \n",
       "3         2011  English     usa   14000000.0         6.5   \n",
       "4         2013  English     USA  225000000.0         7.9   \n",
       "5          202  English     USA  250000000.0         6.9   \n",
       "15        2012  English     USA  100000000.0         8.5   \n",
       "32        2013  English     USA  215000000.0         6.5   \n",
       "\n",
       "                                               actors  movie_facebook_likes  \n",
       "0   Leonardo DiCaprio,Matthew McConaughey,Jon Favreau                138000  \n",
       "1           Robert Downey Jr.,Jon Favreau,Don Cheadle                 95000  \n",
       "2           Craig Stark,Jennifer Jason Leigh,Zoë Bell                114000  \n",
       "3         Matt Damon,Kieran Culkin,John Gallagher Jr.                     0  \n",
       "4               Aidan Turner,Adam Brown,James Nesbitt                 83000  \n",
       "5            Henry Cavill,Lauren Cohan,Alan D. Purwin                197000  \n",
       "15     Leonardo DiCaprio,Christoph Waltz,Ato Essandoh                199000  \n",
       "32              Johnny Depp,Ruth Wilson,Tom Wilkinson                 48000  "
      ]
     },
     "execution_count": 13,
     "metadata": {},
     "output_type": "execute_result"
    }
   ],
   "source": [
    "imdb[imdb['duration']>180]"
   ]
  },
  {
   "cell_type": "code",
   "execution_count": 14,
   "id": "ee117c4b",
   "metadata": {
    "_cell_guid": "92886d34-3ce9-43d3-a57d-6e66ad3d5b20",
    "_uuid": "10c527d3-b84d-42c4-97c7-a924766e2aee",
    "collapsed": false,
    "execution": {
     "iopub.execute_input": "2024-01-04T19:23:53.892386Z",
     "iopub.status.busy": "2024-01-04T19:23:53.891732Z",
     "iopub.status.idle": "2024-01-04T19:23:53.915466Z",
     "shell.execute_reply": "2024-01-04T19:23:53.913813Z"
    },
    "id": "LJtxw8qp5YLg",
    "jupyter": {
     "outputs_hidden": false
    },
    "outputId": "250cd56c-afb4-4bd7-fc53-ad8ee97898bb",
    "papermill": {
     "duration": 0.070473,
     "end_time": "2024-01-04T19:23:53.918811",
     "exception": false,
     "start_time": "2024-01-04T19:23:53.848338",
     "status": "completed"
    },
    "tags": []
   },
   "outputs": [
    {
     "data": {
      "text/html": [
       "<div>\n",
       "<style scoped>\n",
       "    .dataframe tbody tr th:only-of-type {\n",
       "        vertical-align: middle;\n",
       "    }\n",
       "\n",
       "    .dataframe tbody tr th {\n",
       "        vertical-align: top;\n",
       "    }\n",
       "\n",
       "    .dataframe thead th {\n",
       "        text-align: right;\n",
       "    }\n",
       "</style>\n",
       "<table border=\"1\" class=\"dataframe\">\n",
       "  <thead>\n",
       "    <tr style=\"text-align: right;\">\n",
       "      <th></th>\n",
       "      <th>color</th>\n",
       "      <th>director_name</th>\n",
       "      <th>duration</th>\n",
       "      <th>gross</th>\n",
       "      <th>genres</th>\n",
       "      <th>movie_title</th>\n",
       "      <th>title_year</th>\n",
       "      <th>language</th>\n",
       "      <th>country</th>\n",
       "      <th>budget</th>\n",
       "      <th>imdb_score</th>\n",
       "      <th>actors</th>\n",
       "      <th>movie_facebook_likes</th>\n",
       "    </tr>\n",
       "  </thead>\n",
       "  <tbody>\n",
       "    <tr>\n",
       "      <th>0</th>\n",
       "      <td>Color</td>\n",
       "      <td>Martin Scorsese</td>\n",
       "      <td>240</td>\n",
       "      <td>116866727.0</td>\n",
       "      <td>Biography|Comedy|Crime|Drama</td>\n",
       "      <td>The Wolf of Wall Street</td>\n",
       "      <td>2013</td>\n",
       "      <td>English</td>\n",
       "      <td>USA</td>\n",
       "      <td>100000000.0</td>\n",
       "      <td>8.2</td>\n",
       "      <td>Leonardo DiCaprio,Matthew McConaughey,Jon Favreau</td>\n",
       "      <td>138000</td>\n",
       "    </tr>\n",
       "    <tr>\n",
       "      <th>1</th>\n",
       "      <td>Color</td>\n",
       "      <td>Shane Black</td>\n",
       "      <td>195</td>\n",
       "      <td>408992272.0</td>\n",
       "      <td>Action|Adventure|Sci-Fi</td>\n",
       "      <td>Iron Man 3</td>\n",
       "      <td>2013</td>\n",
       "      <td>English</td>\n",
       "      <td>USA</td>\n",
       "      <td>200000000.0</td>\n",
       "      <td>7.2</td>\n",
       "      <td>Robert Downey Jr.,Jon Favreau,Don Cheadle</td>\n",
       "      <td>95000</td>\n",
       "    </tr>\n",
       "    <tr>\n",
       "      <th>4</th>\n",
       "      <td>Color</td>\n",
       "      <td>Peter Jackson</td>\n",
       "      <td>186</td>\n",
       "      <td>258355354.0</td>\n",
       "      <td>Adventure|Fantasy</td>\n",
       "      <td>The Hobbit: The Desolation of Smaug</td>\n",
       "      <td>2013</td>\n",
       "      <td>English</td>\n",
       "      <td>USA</td>\n",
       "      <td>225000000.0</td>\n",
       "      <td>7.9</td>\n",
       "      <td>Aidan Turner,Adam Brown,James Nesbitt</td>\n",
       "      <td>83000</td>\n",
       "    </tr>\n",
       "    <tr>\n",
       "      <th>32</th>\n",
       "      <td>Color</td>\n",
       "      <td>Gore Verbinski</td>\n",
       "      <td>650</td>\n",
       "      <td>89289910.0</td>\n",
       "      <td>Action|Adventure|Western</td>\n",
       "      <td>The Lone Ranger</td>\n",
       "      <td>2013</td>\n",
       "      <td>English</td>\n",
       "      <td>USA</td>\n",
       "      <td>215000000.0</td>\n",
       "      <td>6.5</td>\n",
       "      <td>Johnny Depp,Ruth Wilson,Tom Wilkinson</td>\n",
       "      <td>48000</td>\n",
       "    </tr>\n",
       "  </tbody>\n",
       "</table>\n",
       "</div>"
      ],
      "text/plain": [
       "    color    director_name  duration        gross  \\\n",
       "0   Color  Martin Scorsese       240  116866727.0   \n",
       "1   Color      Shane Black       195  408992272.0   \n",
       "4   Color    Peter Jackson       186  258355354.0   \n",
       "32  Color   Gore Verbinski       650   89289910.0   \n",
       "\n",
       "                          genres                          movie_title  \\\n",
       "0   Biography|Comedy|Crime|Drama              The Wolf of Wall Street   \n",
       "1        Action|Adventure|Sci-Fi                           Iron Man 3   \n",
       "4              Adventure|Fantasy  The Hobbit: The Desolation of Smaug   \n",
       "32      Action|Adventure|Western                      The Lone Ranger   \n",
       "\n",
       "    title_year language country       budget  imdb_score  \\\n",
       "0         2013  English     USA  100000000.0         8.2   \n",
       "1         2013  English     USA  200000000.0         7.2   \n",
       "4         2013  English     USA  225000000.0         7.9   \n",
       "32        2013  English     USA  215000000.0         6.5   \n",
       "\n",
       "                                               actors  movie_facebook_likes  \n",
       "0   Leonardo DiCaprio,Matthew McConaughey,Jon Favreau                138000  \n",
       "1           Robert Downey Jr.,Jon Favreau,Don Cheadle                 95000  \n",
       "4               Aidan Turner,Adam Brown,James Nesbitt                 83000  \n",
       "32              Johnny Depp,Ruth Wilson,Tom Wilkinson                 48000  "
      ]
     },
     "execution_count": 14,
     "metadata": {},
     "output_type": "execute_result"
    }
   ],
   "source": [
    "imdb[(imdb['duration']>180)&(imdb['title_year']==2013)]"
   ]
  },
  {
   "cell_type": "code",
   "execution_count": 15,
   "id": "1bf6c29b",
   "metadata": {
    "_cell_guid": "cf3badd9-c9d3-42d4-a7e5-bd3b893b5e25",
    "_uuid": "24a3a65d-4b8c-492a-9d95-dd6a00dc5a90",
    "collapsed": false,
    "execution": {
     "iopub.execute_input": "2024-01-04T19:23:54.006317Z",
     "iopub.status.busy": "2024-01-04T19:23:54.005641Z",
     "iopub.status.idle": "2024-01-04T19:23:54.011282Z",
     "shell.execute_reply": "2024-01-04T19:23:54.010375Z"
    },
    "id": "x1PYM1N75kzl",
    "jupyter": {
     "outputs_hidden": false
    },
    "papermill": {
     "duration": 0.052232,
     "end_time": "2024-01-04T19:23:54.013843",
     "exception": false,
     "start_time": "2024-01-04T19:23:53.961611",
     "status": "completed"
    },
    "tags": []
   },
   "outputs": [],
   "source": [
    "imdb2=imdb.copy() #hago una copia sin alterar nada de imbdb"
   ]
  },
  {
   "cell_type": "code",
   "execution_count": 16,
   "id": "76f784c5",
   "metadata": {
    "_cell_guid": "98425858-5fe0-4ca0-aa3d-043cdfa0c085",
    "_uuid": "57e1fabe-d687-45f3-9677-cad510fdbd8f",
    "collapsed": false,
    "execution": {
     "iopub.execute_input": "2024-01-04T19:23:54.099899Z",
     "iopub.status.busy": "2024-01-04T19:23:54.098875Z",
     "iopub.status.idle": "2024-01-04T19:23:54.108992Z",
     "shell.execute_reply": "2024-01-04T19:23:54.107758Z"
    },
    "id": "deKsin756L9g",
    "jupyter": {
     "outputs_hidden": false
    },
    "outputId": "8fb04fc7-8fc0-4540-9d39-6cd5d9530f07",
    "papermill": {
     "duration": 0.056623,
     "end_time": "2024-01-04T19:23:54.111673",
     "exception": false,
     "start_time": "2024-01-04T19:23:54.055050",
     "status": "completed"
    },
    "tags": []
   },
   "outputs": [
    {
     "data": {
      "text/plain": [
       "97"
      ]
     },
     "execution_count": 16,
     "metadata": {},
     "output_type": "execute_result"
    }
   ],
   "source": [
    "len(imdb2)"
   ]
  },
  {
   "cell_type": "code",
   "execution_count": 17,
   "id": "5b326f00",
   "metadata": {
    "_cell_guid": "448fe7f4-f270-4828-acc4-48b631f23ef3",
    "_uuid": "2cb351e6-4e9d-43d3-b672-f2cfcaa78cbd",
    "collapsed": false,
    "execution": {
     "iopub.execute_input": "2024-01-04T19:23:54.198444Z",
     "iopub.status.busy": "2024-01-04T19:23:54.197845Z",
     "iopub.status.idle": "2024-01-04T19:23:54.209462Z",
     "shell.execute_reply": "2024-01-04T19:23:54.208178Z"
    },
    "id": "nSiJUg3w7IBS",
    "jupyter": {
     "outputs_hidden": false
    },
    "papermill": {
     "duration": 0.059302,
     "end_time": "2024-01-04T19:23:54.212348",
     "exception": false,
     "start_time": "2024-01-04T19:23:54.153046",
     "status": "completed"
    },
    "tags": []
   },
   "outputs": [],
   "source": [
    "imdb2.drop_duplicates(inplace=True)"
   ]
  },
  {
   "cell_type": "code",
   "execution_count": 18,
   "id": "63112ccc",
   "metadata": {
    "_cell_guid": "1cca973a-92de-4437-8da0-10fa3c975335",
    "_uuid": "a6b495aa-6585-4761-bee9-871eb8bfa3ce",
    "collapsed": false,
    "execution": {
     "iopub.execute_input": "2024-01-04T19:23:54.300411Z",
     "iopub.status.busy": "2024-01-04T19:23:54.299046Z",
     "iopub.status.idle": "2024-01-04T19:23:54.311759Z",
     "shell.execute_reply": "2024-01-04T19:23:54.310565Z"
    },
    "id": "QrJfqjY67MOz",
    "jupyter": {
     "outputs_hidden": false
    },
    "outputId": "9e1966e4-8167-4c51-c034-b05ed21acfcb",
    "papermill": {
     "duration": 0.05986,
     "end_time": "2024-01-04T19:23:54.314448",
     "exception": false,
     "start_time": "2024-01-04T19:23:54.254588",
     "status": "completed"
    },
    "tags": []
   },
   "outputs": [
    {
     "data": {
      "text/plain": [
       "91"
      ]
     },
     "execution_count": 18,
     "metadata": {},
     "output_type": "execute_result"
    }
   ],
   "source": [
    "len(imdb2)"
   ]
  },
  {
   "cell_type": "code",
   "execution_count": 19,
   "id": "22bc50e1",
   "metadata": {
    "_cell_guid": "13a796fe-4d73-428d-a631-533a427b699b",
    "_uuid": "11ddc91f-fadd-4725-b512-757d56eb499e",
    "collapsed": false,
    "execution": {
     "iopub.execute_input": "2024-01-04T19:23:54.407756Z",
     "iopub.status.busy": "2024-01-04T19:23:54.406895Z",
     "iopub.status.idle": "2024-01-04T19:23:54.423263Z",
     "shell.execute_reply": "2024-01-04T19:23:54.421707Z"
    },
    "id": "jKHGr3-X7Wiy",
    "jupyter": {
     "outputs_hidden": false
    },
    "outputId": "ab8d02c6-02a4-43eb-b149-8e5d2ec5a61c",
    "papermill": {
     "duration": 0.069318,
     "end_time": "2024-01-04T19:23:54.428404",
     "exception": false,
     "start_time": "2024-01-04T19:23:54.359086",
     "status": "completed"
    },
    "tags": []
   },
   "outputs": [
    {
     "data": {
      "text/plain": [
       "0"
      ]
     },
     "execution_count": 19,
     "metadata": {},
     "output_type": "execute_result"
    }
   ],
   "source": [
    "len(imdb2[imdb2.duplicated()])"
   ]
  },
  {
   "cell_type": "code",
   "execution_count": 20,
   "id": "92e5890a",
   "metadata": {
    "_cell_guid": "3418ae59-4559-42a6-8bc2-c90a499b8c7e",
    "_uuid": "1752101b-bce5-47fa-a8c2-31bd2d8d7d54",
    "collapsed": false,
    "execution": {
     "iopub.execute_input": "2024-01-04T19:23:54.525616Z",
     "iopub.status.busy": "2024-01-04T19:23:54.524126Z",
     "iopub.status.idle": "2024-01-04T19:23:54.531422Z",
     "shell.execute_reply": "2024-01-04T19:23:54.529833Z"
    },
    "id": "k4c8L4uh7iv-",
    "jupyter": {
     "outputs_hidden": false
    },
    "papermill": {
     "duration": 0.058106,
     "end_time": "2024-01-04T19:23:54.534210",
     "exception": false,
     "start_time": "2024-01-04T19:23:54.476104",
     "status": "completed"
    },
    "tags": []
   },
   "outputs": [],
   "source": [
    "imdb2.reset_index(drop=True,inplace=True) #importante actualizar los indices y con el drop le quito el indice anterior."
   ]
  },
  {
   "cell_type": "code",
   "execution_count": 21,
   "id": "b16ef869",
   "metadata": {
    "_cell_guid": "f3431c90-957e-4b8d-a36d-6d7c847d6577",
    "_uuid": "edb10883-183e-4982-ae5f-faa7a4998a4c",
    "collapsed": false,
    "execution": {
     "iopub.execute_input": "2024-01-04T19:23:54.621827Z",
     "iopub.status.busy": "2024-01-04T19:23:54.620902Z",
     "iopub.status.idle": "2024-01-04T19:23:54.636860Z",
     "shell.execute_reply": "2024-01-04T19:23:54.634804Z"
    },
    "id": "AAOQlsI6761w",
    "jupyter": {
     "outputs_hidden": false
    },
    "outputId": "14975f35-22ed-4dc3-cd42-4518e19af384",
    "papermill": {
     "duration": 0.062726,
     "end_time": "2024-01-04T19:23:54.639758",
     "exception": false,
     "start_time": "2024-01-04T19:23:54.577032",
     "status": "completed"
    },
    "tags": []
   },
   "outputs": [
    {
     "name": "stdout",
     "output_type": "stream",
     "text": [
      "<class 'pandas.core.frame.DataFrame'>\n",
      "RangeIndex: 91 entries, 0 to 90\n",
      "Data columns (total 13 columns):\n",
      " #   Column                Non-Null Count  Dtype  \n",
      "---  ------                --------------  -----  \n",
      " 0   color                 80 non-null     object \n",
      " 1   director_name         80 non-null     object \n",
      " 2   duration              91 non-null     int64  \n",
      " 3   gross                 84 non-null     float64\n",
      " 4   genres                90 non-null     object \n",
      " 5   movie_title           91 non-null     object \n",
      " 6   title_year            91 non-null     int64  \n",
      " 7   language              91 non-null     object \n",
      " 8   country               91 non-null     object \n",
      " 9   budget                87 non-null     float64\n",
      " 10  imdb_score            91 non-null     float64\n",
      " 11  actors                91 non-null     object \n",
      " 12  movie_facebook_likes  91 non-null     int64  \n",
      "dtypes: float64(3), int64(3), object(7)\n",
      "memory usage: 9.4+ KB\n"
     ]
    }
   ],
   "source": [
    "imdb2.info()"
   ]
  },
  {
   "cell_type": "code",
   "execution_count": 22,
   "id": "5aa3da8d",
   "metadata": {
    "_cell_guid": "9ab60e32-9623-438c-afc8-02d335d70505",
    "_uuid": "f5a5197a-92e7-4996-8498-0f78374e5262",
    "collapsed": false,
    "execution": {
     "iopub.execute_input": "2024-01-04T19:23:54.728413Z",
     "iopub.status.busy": "2024-01-04T19:23:54.727890Z",
     "iopub.status.idle": "2024-01-04T19:23:54.733104Z",
     "shell.execute_reply": "2024-01-04T19:23:54.731689Z"
    },
    "id": "wbS-6wQn8Ol-",
    "jupyter": {
     "outputs_hidden": false
    },
    "papermill": {
     "duration": 0.053663,
     "end_time": "2024-01-04T19:23:54.735906",
     "exception": false,
     "start_time": "2024-01-04T19:23:54.682243",
     "status": "completed"
    },
    "tags": []
   },
   "outputs": [],
   "source": [
    "#VeR LOS NULOS , es el segundo paso!!"
   ]
  },
  {
   "cell_type": "code",
   "execution_count": 23,
   "id": "03c356a4",
   "metadata": {
    "_cell_guid": "bdd10b7e-2e6f-4dee-bd6c-4a3bb8bae995",
    "_uuid": "b5873df9-b0f6-4f3a-ba80-6987e00da35b",
    "collapsed": false,
    "execution": {
     "iopub.execute_input": "2024-01-04T19:23:54.822982Z",
     "iopub.status.busy": "2024-01-04T19:23:54.822451Z",
     "iopub.status.idle": "2024-01-04T19:23:54.833653Z",
     "shell.execute_reply": "2024-01-04T19:23:54.832187Z"
    },
    "id": "5L3hRW1f8YBp",
    "jupyter": {
     "outputs_hidden": false
    },
    "outputId": "aae94654-11fe-47c5-a730-cb0e8148e280",
    "papermill": {
     "duration": 0.058099,
     "end_time": "2024-01-04T19:23:54.836526",
     "exception": false,
     "start_time": "2024-01-04T19:23:54.778427",
     "status": "completed"
    },
    "tags": []
   },
   "outputs": [
    {
     "data": {
      "text/plain": [
       "color                   11\n",
       "director_name           11\n",
       "duration                 0\n",
       "gross                    7\n",
       "genres                   1\n",
       "movie_title              0\n",
       "title_year               0\n",
       "language                 0\n",
       "country                  0\n",
       "budget                   4\n",
       "imdb_score               0\n",
       "actors                   0\n",
       "movie_facebook_likes     0\n",
       "dtype: int64"
      ]
     },
     "execution_count": 23,
     "metadata": {},
     "output_type": "execute_result"
    }
   ],
   "source": [
    "imdb2.isnull().sum()"
   ]
  },
  {
   "cell_type": "code",
   "execution_count": 24,
   "id": "0fddb9a5",
   "metadata": {
    "_cell_guid": "add40499-9fab-425c-8675-41568a3eea19",
    "_uuid": "a279b622-772b-489b-abee-3ae74c5343d8",
    "collapsed": false,
    "execution": {
     "iopub.execute_input": "2024-01-04T19:23:54.925355Z",
     "iopub.status.busy": "2024-01-04T19:23:54.924836Z",
     "iopub.status.idle": "2024-01-04T19:23:54.936612Z",
     "shell.execute_reply": "2024-01-04T19:23:54.935090Z"
    },
    "id": "E1cuG1fj8abz",
    "jupyter": {
     "outputs_hidden": false
    },
    "outputId": "b805a351-aae9-4f41-825d-20d3e90bf2b7",
    "papermill": {
     "duration": 0.05948,
     "end_time": "2024-01-04T19:23:54.939284",
     "exception": false,
     "start_time": "2024-01-04T19:23:54.879804",
     "status": "completed"
    },
    "tags": []
   },
   "outputs": [
    {
     "data": {
      "text/plain": [
       "color\n",
       "Color               78\n",
       "color                1\n",
       " Black and White     1\n",
       "Name: count, dtype: int64"
      ]
     },
     "execution_count": 24,
     "metadata": {},
     "output_type": "execute_result"
    }
   ],
   "source": [
    "imdb2['color'].value_counts()"
   ]
  },
  {
   "cell_type": "code",
   "execution_count": 25,
   "id": "c5fed588",
   "metadata": {
    "_cell_guid": "6c5b8ea5-ffec-405e-a23e-70c0a95c57e9",
    "_uuid": "5d4b9468-90b6-49b3-833b-df760fa27535",
    "collapsed": false,
    "execution": {
     "iopub.execute_input": "2024-01-04T19:23:55.029598Z",
     "iopub.status.busy": "2024-01-04T19:23:55.029010Z",
     "iopub.status.idle": "2024-01-04T19:23:55.037136Z",
     "shell.execute_reply": "2024-01-04T19:23:55.035584Z"
    },
    "id": "YaLVgpBb9MGL",
    "jupyter": {
     "outputs_hidden": false
    },
    "papermill": {
     "duration": 0.056921,
     "end_time": "2024-01-04T19:23:55.040326",
     "exception": false,
     "start_time": "2024-01-04T19:23:54.983405",
     "status": "completed"
    },
    "tags": []
   },
   "outputs": [],
   "source": [
    "imdb3=imdb2.copy()"
   ]
  },
  {
   "cell_type": "code",
   "execution_count": 26,
   "id": "74441555",
   "metadata": {
    "_cell_guid": "9ab1768e-eacd-4ee9-8ee4-8d0f28b5ad13",
    "_uuid": "d77325b6-5c58-4ef5-b8c5-a91ad5619ca5",
    "collapsed": false,
    "execution": {
     "iopub.execute_input": "2024-01-04T19:23:55.128395Z",
     "iopub.status.busy": "2024-01-04T19:23:55.127929Z",
     "iopub.status.idle": "2024-01-04T19:23:55.136172Z",
     "shell.execute_reply": "2024-01-04T19:23:55.134485Z"
    },
    "id": "S-zqimw09ktT",
    "jupyter": {
     "outputs_hidden": false
    },
    "papermill": {
     "duration": 0.055659,
     "end_time": "2024-01-04T19:23:55.139039",
     "exception": false,
     "start_time": "2024-01-04T19:23:55.083380",
     "status": "completed"
    },
    "tags": []
   },
   "outputs": [],
   "source": [
    "del(imdb3['color'])"
   ]
  },
  {
   "cell_type": "code",
   "execution_count": 27,
   "id": "66f6519d",
   "metadata": {
    "_cell_guid": "d1794b58-201c-4042-b573-2ae214fc6c7e",
    "_uuid": "0ea1024e-8fa5-4092-b654-8106bcd2aeff",
    "collapsed": false,
    "execution": {
     "iopub.execute_input": "2024-01-04T19:23:55.230066Z",
     "iopub.status.busy": "2024-01-04T19:23:55.229594Z",
     "iopub.status.idle": "2024-01-04T19:23:55.249973Z",
     "shell.execute_reply": "2024-01-04T19:23:55.248884Z"
    },
    "id": "LEIqHIfi9n3l",
    "jupyter": {
     "outputs_hidden": false
    },
    "outputId": "6c2c258c-a82b-44d4-f0a7-26e7a3cdf576",
    "papermill": {
     "duration": 0.070114,
     "end_time": "2024-01-04T19:23:55.252364",
     "exception": false,
     "start_time": "2024-01-04T19:23:55.182250",
     "status": "completed"
    },
    "tags": []
   },
   "outputs": [
    {
     "data": {
      "text/html": [
       "<div>\n",
       "<style scoped>\n",
       "    .dataframe tbody tr th:only-of-type {\n",
       "        vertical-align: middle;\n",
       "    }\n",
       "\n",
       "    .dataframe tbody tr th {\n",
       "        vertical-align: top;\n",
       "    }\n",
       "\n",
       "    .dataframe thead th {\n",
       "        text-align: right;\n",
       "    }\n",
       "</style>\n",
       "<table border=\"1\" class=\"dataframe\">\n",
       "  <thead>\n",
       "    <tr style=\"text-align: right;\">\n",
       "      <th></th>\n",
       "      <th>director_name</th>\n",
       "      <th>duration</th>\n",
       "      <th>gross</th>\n",
       "      <th>genres</th>\n",
       "      <th>movie_title</th>\n",
       "      <th>title_year</th>\n",
       "      <th>language</th>\n",
       "      <th>country</th>\n",
       "      <th>budget</th>\n",
       "      <th>imdb_score</th>\n",
       "      <th>actors</th>\n",
       "      <th>movie_facebook_likes</th>\n",
       "    </tr>\n",
       "  </thead>\n",
       "  <tbody>\n",
       "    <tr>\n",
       "      <th>0</th>\n",
       "      <td>Martin Scorsese</td>\n",
       "      <td>240</td>\n",
       "      <td>116866727.0</td>\n",
       "      <td>Biography|Comedy|Crime|Drama</td>\n",
       "      <td>The Wolf of Wall Street</td>\n",
       "      <td>2013</td>\n",
       "      <td>English</td>\n",
       "      <td>USA</td>\n",
       "      <td>100000000.0</td>\n",
       "      <td>8.2</td>\n",
       "      <td>Leonardo DiCaprio,Matthew McConaughey,Jon Favreau</td>\n",
       "      <td>138000</td>\n",
       "    </tr>\n",
       "    <tr>\n",
       "      <th>1</th>\n",
       "      <td>Shane Black</td>\n",
       "      <td>195</td>\n",
       "      <td>408992272.0</td>\n",
       "      <td>Action|Adventure|Sci-Fi</td>\n",
       "      <td>Iron Man 3</td>\n",
       "      <td>2013</td>\n",
       "      <td>English</td>\n",
       "      <td>USA</td>\n",
       "      <td>200000000.0</td>\n",
       "      <td>7.2</td>\n",
       "      <td>Robert Downey Jr.,Jon Favreau,Don Cheadle</td>\n",
       "      <td>95000</td>\n",
       "    </tr>\n",
       "    <tr>\n",
       "      <th>2</th>\n",
       "      <td>Quentin Tarantino</td>\n",
       "      <td>187</td>\n",
       "      <td>54116191.0</td>\n",
       "      <td>Crime|Drama|Mystery|Thriller|Western</td>\n",
       "      <td>The Hateful Eight</td>\n",
       "      <td>2015</td>\n",
       "      <td>English</td>\n",
       "      <td>USA</td>\n",
       "      <td>44000000.0</td>\n",
       "      <td>7.9</td>\n",
       "      <td>Craig Stark,Jennifer Jason Leigh,Zoë Bell</td>\n",
       "      <td>114000</td>\n",
       "    </tr>\n",
       "    <tr>\n",
       "      <th>3</th>\n",
       "      <td>Kenneth Lonergan</td>\n",
       "      <td>186</td>\n",
       "      <td>46495.0</td>\n",
       "      <td>Drama</td>\n",
       "      <td>Margaret</td>\n",
       "      <td>2011</td>\n",
       "      <td>English</td>\n",
       "      <td>usa</td>\n",
       "      <td>14000000.0</td>\n",
       "      <td>6.5</td>\n",
       "      <td>Matt Damon,Kieran Culkin,John Gallagher Jr.</td>\n",
       "      <td>0</td>\n",
       "    </tr>\n",
       "    <tr>\n",
       "      <th>4</th>\n",
       "      <td>Peter Jackson</td>\n",
       "      <td>186</td>\n",
       "      <td>258355354.0</td>\n",
       "      <td>Adventure|Fantasy</td>\n",
       "      <td>The Hobbit: The Desolation of Smaug</td>\n",
       "      <td>2013</td>\n",
       "      <td>English</td>\n",
       "      <td>USA</td>\n",
       "      <td>225000000.0</td>\n",
       "      <td>7.9</td>\n",
       "      <td>Aidan Turner,Adam Brown,James Nesbitt</td>\n",
       "      <td>83000</td>\n",
       "    </tr>\n",
       "  </tbody>\n",
       "</table>\n",
       "</div>"
      ],
      "text/plain": [
       "       director_name  duration        gross  \\\n",
       "0    Martin Scorsese       240  116866727.0   \n",
       "1        Shane Black       195  408992272.0   \n",
       "2  Quentin Tarantino       187   54116191.0   \n",
       "3   Kenneth Lonergan       186      46495.0   \n",
       "4      Peter Jackson       186  258355354.0   \n",
       "\n",
       "                                 genres                          movie_title  \\\n",
       "0          Biography|Comedy|Crime|Drama              The Wolf of Wall Street   \n",
       "1               Action|Adventure|Sci-Fi                           Iron Man 3   \n",
       "2  Crime|Drama|Mystery|Thriller|Western                    The Hateful Eight   \n",
       "3                                 Drama                             Margaret   \n",
       "4                     Adventure|Fantasy  The Hobbit: The Desolation of Smaug   \n",
       "\n",
       "   title_year language country       budget  imdb_score  \\\n",
       "0        2013  English     USA  100000000.0         8.2   \n",
       "1        2013  English     USA  200000000.0         7.2   \n",
       "2        2015  English     USA   44000000.0         7.9   \n",
       "3        2011  English     usa   14000000.0         6.5   \n",
       "4        2013  English     USA  225000000.0         7.9   \n",
       "\n",
       "                                              actors  movie_facebook_likes  \n",
       "0  Leonardo DiCaprio,Matthew McConaughey,Jon Favreau                138000  \n",
       "1          Robert Downey Jr.,Jon Favreau,Don Cheadle                 95000  \n",
       "2          Craig Stark,Jennifer Jason Leigh,Zoë Bell                114000  \n",
       "3        Matt Damon,Kieran Culkin,John Gallagher Jr.                     0  \n",
       "4              Aidan Turner,Adam Brown,James Nesbitt                 83000  "
      ]
     },
     "execution_count": 27,
     "metadata": {},
     "output_type": "execute_result"
    }
   ],
   "source": [
    "imdb3.head()"
   ]
  },
  {
   "cell_type": "code",
   "execution_count": 28,
   "id": "384c4a96",
   "metadata": {
    "_cell_guid": "c630e880-a8b7-409a-b10c-8d4b68e1cd28",
    "_uuid": "ea1c303f-a7d8-42bb-a386-a2adcffdc40c",
    "collapsed": false,
    "execution": {
     "iopub.execute_input": "2024-01-04T19:23:55.340840Z",
     "iopub.status.busy": "2024-01-04T19:23:55.339446Z",
     "iopub.status.idle": "2024-01-04T19:23:55.351091Z",
     "shell.execute_reply": "2024-01-04T19:23:55.349755Z"
    },
    "id": "xqy9Neij9qC9",
    "jupyter": {
     "outputs_hidden": false
    },
    "outputId": "41d97e70-18a4-494c-aefa-7d74d1155308",
    "papermill": {
     "duration": 0.059016,
     "end_time": "2024-01-04T19:23:55.353872",
     "exception": false,
     "start_time": "2024-01-04T19:23:55.294856",
     "status": "completed"
    },
    "tags": []
   },
   "outputs": [
    {
     "data": {
      "text/plain": [
       "director_name\n",
       "Michael Bay          3\n",
       "Peter Jackson        3\n",
       "Christopher Nolan    3\n",
       "Ridley Scott         3\n",
       "Martin Scorsese      2\n",
       "                    ..\n",
       "Shane Black          1\n",
       "Adam McKay           1\n",
       "Zack Snyder          1\n",
       "Baz Luhrmann         1\n",
       "Clint Eastwood       1\n",
       "Name: count, Length: 61, dtype: int64"
      ]
     },
     "execution_count": 28,
     "metadata": {},
     "output_type": "execute_result"
    }
   ],
   "source": [
    "imdb3['director_name'].value_counts()"
   ]
  },
  {
   "cell_type": "code",
   "execution_count": 29,
   "id": "f43835dd",
   "metadata": {
    "_cell_guid": "69bc0992-5793-46a1-9ea4-195fa61b7523",
    "_uuid": "d393bda4-2944-486e-b178-45a39ad3e6b5",
    "collapsed": false,
    "execution": {
     "iopub.execute_input": "2024-01-04T19:23:55.442607Z",
     "iopub.status.busy": "2024-01-04T19:23:55.441232Z",
     "iopub.status.idle": "2024-01-04T19:23:55.469177Z",
     "shell.execute_reply": "2024-01-04T19:23:55.465678Z"
    },
    "id": "fed1jQbW-Mu6",
    "jupyter": {
     "outputs_hidden": false
    },
    "outputId": "2a0995a9-2463-45e5-e63d-74975256c4f8",
    "papermill": {
     "duration": 0.076907,
     "end_time": "2024-01-04T19:23:55.473438",
     "exception": false,
     "start_time": "2024-01-04T19:23:55.396531",
     "status": "completed"
    },
    "tags": []
   },
   "outputs": [
    {
     "data": {
      "text/html": [
       "<div>\n",
       "<style scoped>\n",
       "    .dataframe tbody tr th:only-of-type {\n",
       "        vertical-align: middle;\n",
       "    }\n",
       "\n",
       "    .dataframe tbody tr th {\n",
       "        vertical-align: top;\n",
       "    }\n",
       "\n",
       "    .dataframe thead th {\n",
       "        text-align: right;\n",
       "    }\n",
       "</style>\n",
       "<table border=\"1\" class=\"dataframe\">\n",
       "  <thead>\n",
       "    <tr style=\"text-align: right;\">\n",
       "      <th></th>\n",
       "      <th>director_name</th>\n",
       "      <th>duration</th>\n",
       "      <th>gross</th>\n",
       "      <th>genres</th>\n",
       "      <th>movie_title</th>\n",
       "      <th>title_year</th>\n",
       "      <th>language</th>\n",
       "      <th>country</th>\n",
       "      <th>budget</th>\n",
       "      <th>imdb_score</th>\n",
       "      <th>actors</th>\n",
       "      <th>movie_facebook_likes</th>\n",
       "    </tr>\n",
       "  </thead>\n",
       "  <tbody>\n",
       "    <tr>\n",
       "      <th>5</th>\n",
       "      <td>NaN</td>\n",
       "      <td>183</td>\n",
       "      <td>330249062.0</td>\n",
       "      <td>Action|Adventure|Sci-Fi</td>\n",
       "      <td>Batman v Superman: Dawn of Justice</td>\n",
       "      <td>202</td>\n",
       "      <td>English</td>\n",
       "      <td>USA</td>\n",
       "      <td>250000000.0</td>\n",
       "      <td>6.9</td>\n",
       "      <td>Henry Cavill,Lauren Cohan,Alan D. Purwin</td>\n",
       "      <td>197000</td>\n",
       "    </tr>\n",
       "    <tr>\n",
       "      <th>21</th>\n",
       "      <td>NaN</td>\n",
       "      <td>156</td>\n",
       "      <td>183635922.0</td>\n",
       "      <td>Adventure|Drama|Thriller|Western</td>\n",
       "      <td>The Revenant</td>\n",
       "      <td>2015</td>\n",
       "      <td>English</td>\n",
       "      <td>USA</td>\n",
       "      <td>135000000.0</td>\n",
       "      <td>8.1</td>\n",
       "      <td>Leonardo DiCaprio,Tom Hardy,Lukas Haas</td>\n",
       "      <td>190000</td>\n",
       "    </tr>\n",
       "    <tr>\n",
       "      <th>27</th>\n",
       "      <td>NaN</td>\n",
       "      <td>150</td>\n",
       "      <td>182204440.0</td>\n",
       "      <td>Biography|Drama|History|War</td>\n",
       "      <td>Lincoln</td>\n",
       "      <td>2012</td>\n",
       "      <td>English</td>\n",
       "      <td>USA</td>\n",
       "      <td>65000000.0</td>\n",
       "      <td>7.4</td>\n",
       "      <td>Joseph Gordon-Levitt,Hal Holbrook,Bruce McGill</td>\n",
       "      <td>71000</td>\n",
       "    </tr>\n",
       "    <tr>\n",
       "      <th>36</th>\n",
       "      <td>NaN</td>\n",
       "      <td>147</td>\n",
       "      <td>407197282.0</td>\n",
       "      <td>Action|Adventure|Sci-Fi</td>\n",
       "      <td>Captain America: Civil War</td>\n",
       "      <td>2016</td>\n",
       "      <td>English</td>\n",
       "      <td>USA</td>\n",
       "      <td>250000000.0</td>\n",
       "      <td>8.2</td>\n",
       "      <td>Robert Downey Jr.,Scarlett Johansson,Chris Evans</td>\n",
       "      <td>72000</td>\n",
       "    </tr>\n",
       "    <tr>\n",
       "      <th>49</th>\n",
       "      <td>NaN</td>\n",
       "      <td>143</td>\n",
       "      <td>NaN</td>\n",
       "      <td>Drama|Horror|Thriller</td>\n",
       "      <td>The Ridges</td>\n",
       "      <td>2011</td>\n",
       "      <td>English</td>\n",
       "      <td>USA</td>\n",
       "      <td>17350.0</td>\n",
       "      <td>3.0</td>\n",
       "      <td>Robbie Barnes,Alana Kaniewski,Brandon Landers</td>\n",
       "      <td>33</td>\n",
       "    </tr>\n",
       "    <tr>\n",
       "      <th>52</th>\n",
       "      <td>NaN</td>\n",
       "      <td>142</td>\n",
       "      <td>407999255.0</td>\n",
       "      <td>Adventure|Drama|Sci-Fi|Thriller</td>\n",
       "      <td>The Hunger Games</td>\n",
       "      <td>2012</td>\n",
       "      <td>English</td>\n",
       "      <td>USA</td>\n",
       "      <td>78000000.0</td>\n",
       "      <td>7.3</td>\n",
       "      <td>Jennifer Lawrence,Josh Hutcherson,Anthony Reyn...</td>\n",
       "      <td>140000</td>\n",
       "    </tr>\n",
       "    <tr>\n",
       "      <th>63</th>\n",
       "      <td>NaN</td>\n",
       "      <td>139</td>\n",
       "      <td>150832203.0</td>\n",
       "      <td>Adventure|Mystery|Sci-Fi</td>\n",
       "      <td>Divergent</td>\n",
       "      <td>2014</td>\n",
       "      <td>English</td>\n",
       "      <td>USA</td>\n",
       "      <td>85000000.0</td>\n",
       "      <td>6.7</td>\n",
       "      <td>Kate Winslet,Theo James,Mekhi Phifer</td>\n",
       "      <td>49000</td>\n",
       "    </tr>\n",
       "    <tr>\n",
       "      <th>67</th>\n",
       "      <td>NaN</td>\n",
       "      <td>138</td>\n",
       "      <td>150117807.0</td>\n",
       "      <td>Crime|Drama</td>\n",
       "      <td>American Hustle</td>\n",
       "      <td>2013</td>\n",
       "      <td>English</td>\n",
       "      <td>USA</td>\n",
       "      <td>40000000.0</td>\n",
       "      <td>7.3</td>\n",
       "      <td>Jennifer Lawrence,Christian Bale,Bradley Cooper</td>\n",
       "      <td>63000</td>\n",
       "    </tr>\n",
       "    <tr>\n",
       "      <th>74</th>\n",
       "      <td>NaN</td>\n",
       "      <td>137</td>\n",
       "      <td>37304950.0</td>\n",
       "      <td>Biography|Crime|Drama</td>\n",
       "      <td>J. Edgar</td>\n",
       "      <td>2011</td>\n",
       "      <td>English</td>\n",
       "      <td>USA</td>\n",
       "      <td>35000000.0</td>\n",
       "      <td>6.6</td>\n",
       "      <td>Leonardo DiCaprio,Naomi Watts,Kaitlyn Dever</td>\n",
       "      <td>16000</td>\n",
       "    </tr>\n",
       "    <tr>\n",
       "      <th>76</th>\n",
       "      <td>NaN</td>\n",
       "      <td>137</td>\n",
       "      <td>281666058.0</td>\n",
       "      <td>Adventure|Sci-Fi</td>\n",
       "      <td>The Hunger Games: Mockingjay - Part 2</td>\n",
       "      <td>2015</td>\n",
       "      <td>English</td>\n",
       "      <td>USA</td>\n",
       "      <td>160000000.0</td>\n",
       "      <td>6.6</td>\n",
       "      <td>Jennifer Lawrence,Philip Seymour Hoffman,Josh ...</td>\n",
       "      <td>38000</td>\n",
       "    </tr>\n",
       "    <tr>\n",
       "      <th>83</th>\n",
       "      <td>NaN</td>\n",
       "      <td>136</td>\n",
       "      <td>52474616.0</td>\n",
       "      <td>Drama</td>\n",
       "      <td>Wall Street: Money Never Sleeps</td>\n",
       "      <td>2010</td>\n",
       "      <td>English</td>\n",
       "      <td>USA</td>\n",
       "      <td>70000000.0</td>\n",
       "      <td>6.3</td>\n",
       "      <td>Frank Langella,Austin Pendleton,John Buffalo M...</td>\n",
       "      <td>13000</td>\n",
       "    </tr>\n",
       "  </tbody>\n",
       "</table>\n",
       "</div>"
      ],
      "text/plain": [
       "   director_name  duration        gross                            genres  \\\n",
       "5            NaN       183  330249062.0           Action|Adventure|Sci-Fi   \n",
       "21           NaN       156  183635922.0  Adventure|Drama|Thriller|Western   \n",
       "27           NaN       150  182204440.0       Biography|Drama|History|War   \n",
       "36           NaN       147  407197282.0           Action|Adventure|Sci-Fi   \n",
       "49           NaN       143          NaN             Drama|Horror|Thriller   \n",
       "52           NaN       142  407999255.0   Adventure|Drama|Sci-Fi|Thriller   \n",
       "63           NaN       139  150832203.0          Adventure|Mystery|Sci-Fi   \n",
       "67           NaN       138  150117807.0                       Crime|Drama   \n",
       "74           NaN       137   37304950.0             Biography|Crime|Drama   \n",
       "76           NaN       137  281666058.0                  Adventure|Sci-Fi   \n",
       "83           NaN       136   52474616.0                             Drama   \n",
       "\n",
       "                              movie_title  title_year language country  \\\n",
       "5      Batman v Superman: Dawn of Justice         202  English     USA   \n",
       "21                           The Revenant        2015  English     USA   \n",
       "27                                Lincoln        2012  English     USA   \n",
       "36             Captain America: Civil War        2016  English     USA   \n",
       "49                             The Ridges        2011  English     USA   \n",
       "52                       The Hunger Games        2012  English     USA   \n",
       "63                              Divergent        2014  English     USA   \n",
       "67                        American Hustle        2013  English     USA   \n",
       "74                               J. Edgar        2011  English     USA   \n",
       "76  The Hunger Games: Mockingjay - Part 2        2015  English     USA   \n",
       "83        Wall Street: Money Never Sleeps        2010  English     USA   \n",
       "\n",
       "         budget  imdb_score  \\\n",
       "5   250000000.0         6.9   \n",
       "21  135000000.0         8.1   \n",
       "27   65000000.0         7.4   \n",
       "36  250000000.0         8.2   \n",
       "49      17350.0         3.0   \n",
       "52   78000000.0         7.3   \n",
       "63   85000000.0         6.7   \n",
       "67   40000000.0         7.3   \n",
       "74   35000000.0         6.6   \n",
       "76  160000000.0         6.6   \n",
       "83   70000000.0         6.3   \n",
       "\n",
       "                                               actors  movie_facebook_likes  \n",
       "5            Henry Cavill,Lauren Cohan,Alan D. Purwin                197000  \n",
       "21             Leonardo DiCaprio,Tom Hardy,Lukas Haas                190000  \n",
       "27     Joseph Gordon-Levitt,Hal Holbrook,Bruce McGill                 71000  \n",
       "36   Robert Downey Jr.,Scarlett Johansson,Chris Evans                 72000  \n",
       "49      Robbie Barnes,Alana Kaniewski,Brandon Landers                    33  \n",
       "52  Jennifer Lawrence,Josh Hutcherson,Anthony Reyn...                140000  \n",
       "63               Kate Winslet,Theo James,Mekhi Phifer                 49000  \n",
       "67    Jennifer Lawrence,Christian Bale,Bradley Cooper                 63000  \n",
       "74        Leonardo DiCaprio,Naomi Watts,Kaitlyn Dever                 16000  \n",
       "76  Jennifer Lawrence,Philip Seymour Hoffman,Josh ...                 38000  \n",
       "83  Frank Langella,Austin Pendleton,John Buffalo M...                 13000  "
      ]
     },
     "execution_count": 29,
     "metadata": {},
     "output_type": "execute_result"
    }
   ],
   "source": [
    "imdb3[imdb3['director_name'].isnull()]"
   ]
  },
  {
   "cell_type": "code",
   "execution_count": 30,
   "id": "a6d291a1",
   "metadata": {
    "_cell_guid": "87a96ce7-812f-4507-ae64-6f6fc4c5e04f",
    "_uuid": "d87be5fc-6fc2-4054-a758-e8c73b114f00",
    "collapsed": false,
    "execution": {
     "iopub.execute_input": "2024-01-04T19:23:55.571448Z",
     "iopub.status.busy": "2024-01-04T19:23:55.571025Z",
     "iopub.status.idle": "2024-01-04T19:23:55.577985Z",
     "shell.execute_reply": "2024-01-04T19:23:55.576352Z"
    },
    "id": "xf_G8WAM-h5S",
    "jupyter": {
     "outputs_hidden": false
    },
    "papermill": {
     "duration": 0.06066,
     "end_time": "2024-01-04T19:23:55.580951",
     "exception": false,
     "start_time": "2024-01-04T19:23:55.520291",
     "status": "completed"
    },
    "tags": []
   },
   "outputs": [],
   "source": [
    "imdb3['director_name'].fillna('SIN DIRECTOR',inplace=True)"
   ]
  },
  {
   "cell_type": "code",
   "execution_count": 31,
   "id": "46e3c88e",
   "metadata": {
    "_cell_guid": "0390d8a1-3221-4deb-b90a-878cce287078",
    "_uuid": "d892cb65-6ee5-4b7f-bda2-bcb68899116a",
    "collapsed": false,
    "execution": {
     "iopub.execute_input": "2024-01-04T19:23:55.683698Z",
     "iopub.status.busy": "2024-01-04T19:23:55.683242Z",
     "iopub.status.idle": "2024-01-04T19:23:55.694568Z",
     "shell.execute_reply": "2024-01-04T19:23:55.692670Z"
    },
    "id": "Rh0zbx4y_ZCc",
    "jupyter": {
     "outputs_hidden": false
    },
    "outputId": "f723a2a1-1a30-4ebc-a153-85d36cd5c3f5",
    "papermill": {
     "duration": 0.067559,
     "end_time": "2024-01-04T19:23:55.697811",
     "exception": false,
     "start_time": "2024-01-04T19:23:55.630252",
     "status": "completed"
    },
    "tags": []
   },
   "outputs": [
    {
     "data": {
      "text/plain": [
       "director_name           0\n",
       "duration                0\n",
       "gross                   7\n",
       "genres                  1\n",
       "movie_title             0\n",
       "title_year              0\n",
       "language                0\n",
       "country                 0\n",
       "budget                  4\n",
       "imdb_score              0\n",
       "actors                  0\n",
       "movie_facebook_likes    0\n",
       "dtype: int64"
      ]
     },
     "execution_count": 31,
     "metadata": {},
     "output_type": "execute_result"
    }
   ],
   "source": [
    "imdb3.isnull().sum()"
   ]
  },
  {
   "cell_type": "code",
   "execution_count": 32,
   "id": "7d8623f9",
   "metadata": {
    "_cell_guid": "d58e92b2-2258-4f04-a375-553be97a4655",
    "_uuid": "0f098180-56ac-4830-9a14-ef1956a6c9c6",
    "collapsed": false,
    "execution": {
     "iopub.execute_input": "2024-01-04T19:23:55.790410Z",
     "iopub.status.busy": "2024-01-04T19:23:55.789954Z",
     "iopub.status.idle": "2024-01-04T19:23:55.801711Z",
     "shell.execute_reply": "2024-01-04T19:23:55.800440Z"
    },
    "id": "Dtc0mDmW_-XV",
    "jupyter": {
     "outputs_hidden": false
    },
    "outputId": "75e47eac-545b-486a-cc0f-e971ce0520eb",
    "papermill": {
     "duration": 0.06125,
     "end_time": "2024-01-04T19:23:55.804752",
     "exception": false,
     "start_time": "2024-01-04T19:23:55.743502",
     "status": "completed"
    },
    "tags": []
   },
   "outputs": [
    {
     "data": {
      "text/plain": [
       "gross\n",
       "115603980.0    2\n",
       "116866727.0    1\n",
       "80574010.0     1\n",
       "13303319.0     1\n",
       "30513940.0     1\n",
       "              ..\n",
       "3958500.0      1\n",
       "182204440.0    1\n",
       "65007045.0     1\n",
       "262030663.0    1\n",
       "47034272.0     1\n",
       "Name: count, Length: 83, dtype: int64"
      ]
     },
     "execution_count": 32,
     "metadata": {},
     "output_type": "execute_result"
    }
   ],
   "source": [
    "imdb3['gross'].value_counts()"
   ]
  },
  {
   "cell_type": "code",
   "execution_count": 33,
   "id": "990a9f43",
   "metadata": {
    "_cell_guid": "9fb044a7-05b6-45d4-98ef-98eefc296730",
    "_uuid": "dffa8923-5e37-4c7d-a755-279939cf3e39",
    "collapsed": false,
    "execution": {
     "iopub.execute_input": "2024-01-04T19:23:55.894798Z",
     "iopub.status.busy": "2024-01-04T19:23:55.894282Z",
     "iopub.status.idle": "2024-01-04T19:23:56.415198Z",
     "shell.execute_reply": "2024-01-04T19:23:56.412265Z"
    },
    "id": "V8rjrtOdAG_8",
    "jupyter": {
     "outputs_hidden": false
    },
    "outputId": "ef5cb996-11a9-491d-a470-55fed59cb9e2",
    "papermill": {
     "duration": 0.570717,
     "end_time": "2024-01-04T19:23:56.418990",
     "exception": false,
     "start_time": "2024-01-04T19:23:55.848273",
     "status": "completed"
    },
    "tags": []
   },
   "outputs": [
    {
     "data": {
      "text/plain": [
       "array([[<Axes: title={'center': 'gross'}>]], dtype=object)"
      ]
     },
     "execution_count": 33,
     "metadata": {},
     "output_type": "execute_result"
    },
    {
     "data": {
      "image/png": "[encoded data removed]",
      "text/plain": [
       "<Figure size 640x480 with 1 Axes>"
      ]
     },
     "metadata": {},
     "output_type": "display_data"
    }
   ],
   "source": [
    "imdb3.hist('gross')#mejro esta que la de abajo."
   ]
  },
  {
   "cell_type": "code",
   "execution_count": 34,
   "id": "71fd9450",
   "metadata": {
    "_cell_guid": "8ab5d214-47e4-4a30-91ce-cc5f257e6991",
    "_uuid": "d3c134c3-f5a6-4aa4-8798-0b13503d05ed",
    "collapsed": false,
    "execution": {
     "iopub.execute_input": "2024-01-04T19:23:56.534398Z",
     "iopub.status.busy": "2024-01-04T19:23:56.533721Z",
     "iopub.status.idle": "2024-01-04T19:23:56.919750Z",
     "shell.execute_reply": "2024-01-04T19:23:56.918003Z"
    },
    "id": "p_4HFcsmALWD",
    "jupyter": {
     "outputs_hidden": false
    },
    "outputId": "70bdfa06-4625-46db-b674-79b8f3b9ca56",
    "papermill": {
     "duration": 0.450263,
     "end_time": "2024-01-04T19:23:56.922868",
     "exception": false,
     "start_time": "2024-01-04T19:23:56.472605",
     "status": "completed"
    },
    "tags": []
   },
   "outputs": [
    {
     "data": {
      "text/plain": [
       "<Axes: >"
      ]
     },
     "execution_count": 34,
     "metadata": {},
     "output_type": "execute_result"
    },
    {
     "data": {
      "image/png": "[encoded data removed]",
      "text/plain": [
       "<Figure size 640x480 with 1 Axes>"
      ]
     },
     "metadata": {},
     "output_type": "display_data"
    }
   ],
   "source": [
    "imdb3['gross'].hist()"
   ]
  },
  {
   "cell_type": "code",
   "execution_count": 35,
   "id": "a10bcb29",
   "metadata": {
    "_cell_guid": "4b0abd9a-2cd9-4f09-a97c-1640712cabb4",
    "_uuid": "0375eb12-172c-489d-936d-5aacc71e98f9",
    "collapsed": false,
    "execution": {
     "iopub.execute_input": "2024-01-04T19:23:57.024657Z",
     "iopub.status.busy": "2024-01-04T19:23:57.024104Z",
     "iopub.status.idle": "2024-01-04T19:23:57.046056Z",
     "shell.execute_reply": "2024-01-04T19:23:57.044487Z"
    },
    "id": "p_arEUTDATNI",
    "jupyter": {
     "outputs_hidden": false
    },
    "outputId": "9475e166-670d-418f-cc7c-6c948cd73c54",
    "papermill": {
     "duration": 0.07689,
     "end_time": "2024-01-04T19:23:57.049062",
     "exception": false,
     "start_time": "2024-01-04T19:23:56.972172",
     "status": "completed"
    },
    "tags": []
   },
   "outputs": [
    {
     "data": {
      "text/html": [
       "<div>\n",
       "<style scoped>\n",
       "    .dataframe tbody tr th:only-of-type {\n",
       "        vertical-align: middle;\n",
       "    }\n",
       "\n",
       "    .dataframe tbody tr th {\n",
       "        vertical-align: top;\n",
       "    }\n",
       "\n",
       "    .dataframe thead th {\n",
       "        text-align: right;\n",
       "    }\n",
       "</style>\n",
       "<table border=\"1\" class=\"dataframe\">\n",
       "  <thead>\n",
       "    <tr style=\"text-align: right;\">\n",
       "      <th></th>\n",
       "      <th>director_name</th>\n",
       "      <th>duration</th>\n",
       "      <th>gross</th>\n",
       "      <th>genres</th>\n",
       "      <th>movie_title</th>\n",
       "      <th>title_year</th>\n",
       "      <th>language</th>\n",
       "      <th>country</th>\n",
       "      <th>budget</th>\n",
       "      <th>imdb_score</th>\n",
       "      <th>actors</th>\n",
       "      <th>movie_facebook_likes</th>\n",
       "    </tr>\n",
       "  </thead>\n",
       "  <tbody>\n",
       "    <tr>\n",
       "      <th>8</th>\n",
       "      <td>Joss Whedon</td>\n",
       "      <td>173</td>\n",
       "      <td>623279547.0</td>\n",
       "      <td>Action|Adventure|Sci-Fi</td>\n",
       "      <td>The Avengers</td>\n",
       "      <td>2012</td>\n",
       "      <td>English</td>\n",
       "      <td>USA</td>\n",
       "      <td>220000000.0</td>\n",
       "      <td>8.1</td>\n",
       "      <td>Chris Hemsworth,Robert Downey Jr.,Scarlett Joh...</td>\n",
       "      <td>123000</td>\n",
       "    </tr>\n",
       "  </tbody>\n",
       "</table>\n",
       "</div>"
      ],
      "text/plain": [
       "  director_name  duration        gross                   genres   movie_title  \\\n",
       "8   Joss Whedon       173  623279547.0  Action|Adventure|Sci-Fi  The Avengers   \n",
       "\n",
       "   title_year language country       budget  imdb_score  \\\n",
       "8        2012  English     USA  220000000.0         8.1   \n",
       "\n",
       "                                              actors  movie_facebook_likes  \n",
       "8  Chris Hemsworth,Robert Downey Jr.,Scarlett Joh...                123000  "
      ]
     },
     "execution_count": 35,
     "metadata": {},
     "output_type": "execute_result"
    }
   ],
   "source": [
    "imdb3[imdb3['gross']>5e8]"
   ]
  },
  {
   "cell_type": "code",
   "execution_count": 36,
   "id": "65a8543b",
   "metadata": {
    "_cell_guid": "46484ce3-1fca-41c7-a99a-3758a40ce5f5",
    "_uuid": "b1b324d1-c5b0-4b3c-9f23-84aac0a21ba8",
    "collapsed": false,
    "execution": {
     "iopub.execute_input": "2024-01-04T19:23:57.141340Z",
     "iopub.status.busy": "2024-01-04T19:23:57.140766Z",
     "iopub.status.idle": "2024-01-04T19:23:57.167077Z",
     "shell.execute_reply": "2024-01-04T19:23:57.165240Z"
    },
    "id": "AgP2-TQMA8r4",
    "jupyter": {
     "outputs_hidden": false
    },
    "outputId": "74ec63d2-bd2f-4e21-b094-751f5be692df",
    "papermill": {
     "duration": 0.075916,
     "end_time": "2024-01-04T19:23:57.170149",
     "exception": false,
     "start_time": "2024-01-04T19:23:57.094233",
     "status": "completed"
    },
    "tags": []
   },
   "outputs": [
    {
     "data": {
      "text/html": [
       "<div>\n",
       "<style scoped>\n",
       "    .dataframe tbody tr th:only-of-type {\n",
       "        vertical-align: middle;\n",
       "    }\n",
       "\n",
       "    .dataframe tbody tr th {\n",
       "        vertical-align: top;\n",
       "    }\n",
       "\n",
       "    .dataframe thead th {\n",
       "        text-align: right;\n",
       "    }\n",
       "</style>\n",
       "<table border=\"1\" class=\"dataframe\">\n",
       "  <thead>\n",
       "    <tr style=\"text-align: right;\">\n",
       "      <th></th>\n",
       "      <th>director_name</th>\n",
       "      <th>duration</th>\n",
       "      <th>gross</th>\n",
       "      <th>genres</th>\n",
       "      <th>movie_title</th>\n",
       "      <th>title_year</th>\n",
       "      <th>language</th>\n",
       "      <th>country</th>\n",
       "      <th>budget</th>\n",
       "      <th>imdb_score</th>\n",
       "      <th>actors</th>\n",
       "      <th>movie_facebook_likes</th>\n",
       "    </tr>\n",
       "  </thead>\n",
       "  <tbody>\n",
       "    <tr>\n",
       "      <th>7</th>\n",
       "      <td>Edward Hall</td>\n",
       "      <td>180</td>\n",
       "      <td>NaN</td>\n",
       "      <td>Drama|Romance</td>\n",
       "      <td>Restless</td>\n",
       "      <td>2012</td>\n",
       "      <td>English</td>\n",
       "      <td>UK</td>\n",
       "      <td>NaN</td>\n",
       "      <td>7.2</td>\n",
       "      <td>Rufus Sewell,Hayley Atwell,Charlotte Rampling</td>\n",
       "      <td>434</td>\n",
       "    </tr>\n",
       "    <tr>\n",
       "      <th>24</th>\n",
       "      <td>Gnana Rajasekaran</td>\n",
       "      <td>153</td>\n",
       "      <td>NaN</td>\n",
       "      <td>Biography|Drama|History</td>\n",
       "      <td>Ramanujan</td>\n",
       "      <td>2014</td>\n",
       "      <td>English</td>\n",
       "      <td>India</td>\n",
       "      <td>NaN</td>\n",
       "      <td>7.0</td>\n",
       "      <td>Mani Bharathi,Michael Lieber,Kevin McGowan</td>\n",
       "      <td>58</td>\n",
       "    </tr>\n",
       "    <tr>\n",
       "      <th>32</th>\n",
       "      <td>Jay Oliva</td>\n",
       "      <td>148</td>\n",
       "      <td>NaN</td>\n",
       "      <td>Action|Animation|Crime|Sci-Fi|Thriller</td>\n",
       "      <td>Batman: The Dark Knight Returns, Part 2</td>\n",
       "      <td>2013</td>\n",
       "      <td>English</td>\n",
       "      <td>USA</td>\n",
       "      <td>3500000.0</td>\n",
       "      <td>8.4</td>\n",
       "      <td>Michael Emerson,Mark Valley,Grey Griffin</td>\n",
       "      <td>5000</td>\n",
       "    </tr>\n",
       "    <tr>\n",
       "      <th>49</th>\n",
       "      <td>SIN DIRECTOR</td>\n",
       "      <td>143</td>\n",
       "      <td>NaN</td>\n",
       "      <td>Drama|Horror|Thriller</td>\n",
       "      <td>The Ridges</td>\n",
       "      <td>2011</td>\n",
       "      <td>English</td>\n",
       "      <td>USA</td>\n",
       "      <td>17350.0</td>\n",
       "      <td>3.0</td>\n",
       "      <td>Robbie Barnes,Alana Kaniewski,Brandon Landers</td>\n",
       "      <td>33</td>\n",
       "    </tr>\n",
       "    <tr>\n",
       "      <th>54</th>\n",
       "      <td>Timur Bekmambetov</td>\n",
       "      <td>141</td>\n",
       "      <td>NaN</td>\n",
       "      <td>Adventure|Drama|History</td>\n",
       "      <td>Ben-Hur</td>\n",
       "      <td>2016</td>\n",
       "      <td>English</td>\n",
       "      <td>USA</td>\n",
       "      <td>100000000.0</td>\n",
       "      <td>6.1</td>\n",
       "      <td>Morgan Freeman,Ayelet Zurer,Moises Arias</td>\n",
       "      <td>0</td>\n",
       "    </tr>\n",
       "    <tr>\n",
       "      <th>55</th>\n",
       "      <td>Timur Bekmambetov</td>\n",
       "      <td>141</td>\n",
       "      <td>NaN</td>\n",
       "      <td>Adventure|Drama|History</td>\n",
       "      <td>Ben-Hur</td>\n",
       "      <td>2016</td>\n",
       "      <td>English</td>\n",
       "      <td>USA</td>\n",
       "      <td>100000000.0</td>\n",
       "      <td>6.0</td>\n",
       "      <td>Morgan Freeman,Ayelet Zurer,Moises Arias</td>\n",
       "      <td>0</td>\n",
       "    </tr>\n",
       "    <tr>\n",
       "      <th>84</th>\n",
       "      <td>Sadyk Sher-Niyaz</td>\n",
       "      <td>135</td>\n",
       "      <td>NaN</td>\n",
       "      <td>Action|Biography|Drama|History</td>\n",
       "      <td>Queen of the Mountains</td>\n",
       "      <td>2014</td>\n",
       "      <td>English</td>\n",
       "      <td>Kyrgyzstan</td>\n",
       "      <td>1400000.0</td>\n",
       "      <td>8.7</td>\n",
       "      <td>Elina Abai Kyzy,Aziz Muradillayev,Mirlan Abdul...</td>\n",
       "      <td>0</td>\n",
       "    </tr>\n",
       "  </tbody>\n",
       "</table>\n",
       "</div>"
      ],
      "text/plain": [
       "        director_name  duration  gross  \\\n",
       "7         Edward Hall       180    NaN   \n",
       "24  Gnana Rajasekaran       153    NaN   \n",
       "32          Jay Oliva       148    NaN   \n",
       "49       SIN DIRECTOR       143    NaN   \n",
       "54  Timur Bekmambetov       141    NaN   \n",
       "55  Timur Bekmambetov       141    NaN   \n",
       "84   Sadyk Sher-Niyaz       135    NaN   \n",
       "\n",
       "                                    genres  \\\n",
       "7                            Drama|Romance   \n",
       "24                 Biography|Drama|History   \n",
       "32  Action|Animation|Crime|Sci-Fi|Thriller   \n",
       "49                   Drama|Horror|Thriller   \n",
       "54                 Adventure|Drama|History   \n",
       "55                 Adventure|Drama|History   \n",
       "84          Action|Biography|Drama|History   \n",
       "\n",
       "                                movie_title  title_year language     country  \\\n",
       "7                                  Restless        2012  English          UK   \n",
       "24                                Ramanujan        2014  English       India   \n",
       "32  Batman: The Dark Knight Returns, Part 2        2013  English         USA   \n",
       "49                               The Ridges        2011  English         USA   \n",
       "54                                  Ben-Hur        2016  English         USA   \n",
       "55                                  Ben-Hur        2016  English         USA   \n",
       "84                   Queen of the Mountains        2014  English  Kyrgyzstan   \n",
       "\n",
       "         budget  imdb_score  \\\n",
       "7           NaN         7.2   \n",
       "24          NaN         7.0   \n",
       "32    3500000.0         8.4   \n",
       "49      17350.0         3.0   \n",
       "54  100000000.0         6.1   \n",
       "55  100000000.0         6.0   \n",
       "84    1400000.0         8.7   \n",
       "\n",
       "                                               actors  movie_facebook_likes  \n",
       "7       Rufus Sewell,Hayley Atwell,Charlotte Rampling                   434  \n",
       "24         Mani Bharathi,Michael Lieber,Kevin McGowan                    58  \n",
       "32           Michael Emerson,Mark Valley,Grey Griffin                  5000  \n",
       "49      Robbie Barnes,Alana Kaniewski,Brandon Landers                    33  \n",
       "54           Morgan Freeman,Ayelet Zurer,Moises Arias                     0  \n",
       "55           Morgan Freeman,Ayelet Zurer,Moises Arias                     0  \n",
       "84  Elina Abai Kyzy,Aziz Muradillayev,Mirlan Abdul...                     0  "
      ]
     },
     "execution_count": 36,
     "metadata": {},
     "output_type": "execute_result"
    }
   ],
   "source": [
    "imdb3[imdb3['gross'].isnull()]"
   ]
  },
  {
   "cell_type": "code",
   "execution_count": 37,
   "id": "2a3ad275",
   "metadata": {
    "_cell_guid": "09135020-66ac-454f-ac9a-db87b0adee6e",
    "_uuid": "96806ac3-f2a8-4c1c-9ec2-e208e4f439f3",
    "collapsed": false,
    "execution": {
     "iopub.execute_input": "2024-01-04T19:23:57.265721Z",
     "iopub.status.busy": "2024-01-04T19:23:57.264835Z",
     "iopub.status.idle": "2024-01-04T19:23:57.270786Z",
     "shell.execute_reply": "2024-01-04T19:23:57.269376Z"
    },
    "id": "w-p9d8MFCAnI",
    "jupyter": {
     "outputs_hidden": false
    },
    "papermill": {
     "duration": 0.056792,
     "end_time": "2024-01-04T19:23:57.273697",
     "exception": false,
     "start_time": "2024-01-04T19:23:57.216905",
     "status": "completed"
    },
    "tags": []
   },
   "outputs": [],
   "source": [
    "mean_gross=imdb3['gross'].mean()"
   ]
  },
  {
   "cell_type": "code",
   "execution_count": 38,
   "id": "3669e4c8",
   "metadata": {
    "_cell_guid": "202b6236-8078-471e-be63-7dc8eae727d8",
    "_uuid": "9416e311-249b-4807-92cf-d02cfd974fb0",
    "collapsed": false,
    "execution": {
     "iopub.execute_input": "2024-01-04T19:23:57.367619Z",
     "iopub.status.busy": "2024-01-04T19:23:57.366307Z",
     "iopub.status.idle": "2024-01-04T19:23:57.372779Z",
     "shell.execute_reply": "2024-01-04T19:23:57.371728Z"
    },
    "id": "nmMDySqmCd-b",
    "jupyter": {
     "outputs_hidden": false
    },
    "papermill": {
     "duration": 0.056804,
     "end_time": "2024-01-04T19:23:57.375447",
     "exception": false,
     "start_time": "2024-01-04T19:23:57.318643",
     "status": "completed"
    },
    "tags": []
   },
   "outputs": [],
   "source": [
    "imdb3['gross'].fillna(mean_gross,inplace=True)"
   ]
  },
  {
   "cell_type": "code",
   "execution_count": 39,
   "id": "844e3daf",
   "metadata": {
    "_cell_guid": "87687e81-90d5-4e27-8d6c-ac42666f68c6",
    "_uuid": "d5fdb2ef-a3fd-404b-a64b-dcbca9a976b9",
    "collapsed": false,
    "execution": {
     "iopub.execute_input": "2024-01-04T19:23:57.470840Z",
     "iopub.status.busy": "2024-01-04T19:23:57.470002Z",
     "iopub.status.idle": "2024-01-04T19:23:57.870156Z",
     "shell.execute_reply": "2024-01-04T19:23:57.868893Z"
    },
    "id": "um4vV2K9CqRh",
    "jupyter": {
     "outputs_hidden": false
    },
    "outputId": "4443269c-36bc-4196-ab12-3d2bf8cc42b1",
    "papermill": {
     "duration": 0.452462,
     "end_time": "2024-01-04T19:23:57.873340",
     "exception": false,
     "start_time": "2024-01-04T19:23:57.420878",
     "status": "completed"
    },
    "tags": []
   },
   "outputs": [
    {
     "data": {
      "text/plain": [
       "array([[<Axes: title={'center': 'gross'}>]], dtype=object)"
      ]
     },
     "execution_count": 39,
     "metadata": {},
     "output_type": "execute_result"
    },
    {
     "data": {
      "image/png": "[encoded data removed]",
      "text/plain": [
       "<Figure size 640x480 with 1 Axes>"
      ]
     },
     "metadata": {},
     "output_type": "display_data"
    }
   ],
   "source": [
    "imdb3.hist('gross')"
   ]
  },
  {
   "cell_type": "code",
   "execution_count": 40,
   "id": "d532adf1",
   "metadata": {
    "_cell_guid": "c482df75-44c5-410e-be71-a5c62aa10329",
    "_uuid": "924608ea-d513-4cd1-ae33-76455389bfbc",
    "collapsed": false,
    "execution": {
     "iopub.execute_input": "2024-01-04T19:23:57.980769Z",
     "iopub.status.busy": "2024-01-04T19:23:57.980308Z",
     "iopub.status.idle": "2024-01-04T19:23:57.990919Z",
     "shell.execute_reply": "2024-01-04T19:23:57.989671Z"
    },
    "id": "Qq0zo-8PCx0R",
    "jupyter": {
     "outputs_hidden": false
    },
    "outputId": "851cf76d-f0f9-4707-a523-8449d4fce1c0",
    "papermill": {
     "duration": 0.067694,
     "end_time": "2024-01-04T19:23:57.993887",
     "exception": false,
     "start_time": "2024-01-04T19:23:57.926193",
     "status": "completed"
    },
    "tags": []
   },
   "outputs": [
    {
     "data": {
      "text/plain": [
       "director_name           0\n",
       "duration                0\n",
       "gross                   0\n",
       "genres                  1\n",
       "movie_title             0\n",
       "title_year              0\n",
       "language                0\n",
       "country                 0\n",
       "budget                  4\n",
       "imdb_score              0\n",
       "actors                  0\n",
       "movie_facebook_likes    0\n",
       "dtype: int64"
      ]
     },
     "execution_count": 40,
     "metadata": {},
     "output_type": "execute_result"
    }
   ],
   "source": [
    "imdb3.isnull().sum()"
   ]
  },
  {
   "cell_type": "code",
   "execution_count": 41,
   "id": "a8cb3da6",
   "metadata": {
    "_cell_guid": "1dfd10fd-d568-4000-949e-235ee53c057e",
    "_uuid": "c4026b6d-dd0b-4557-9439-5ea559e5de7b",
    "collapsed": false,
    "execution": {
     "iopub.execute_input": "2024-01-04T19:23:58.097144Z",
     "iopub.status.busy": "2024-01-04T19:23:58.096316Z",
     "iopub.status.idle": "2024-01-04T19:23:58.108635Z",
     "shell.execute_reply": "2024-01-04T19:23:58.107683Z"
    },
    "id": "Jg7CMFE_DBmR",
    "jupyter": {
     "outputs_hidden": false
    },
    "outputId": "cde8b3e5-1d0e-4343-9bd5-caa4e931f19b",
    "papermill": {
     "duration": 0.068819,
     "end_time": "2024-01-04T19:23:58.111460",
     "exception": false,
     "start_time": "2024-01-04T19:23:58.042641",
     "status": "completed"
    },
    "tags": []
   },
   "outputs": [
    {
     "data": {
      "text/plain": [
       "genres\n",
       "Action|Adventure|Sci-Fi                     9\n",
       "Drama                                       5\n",
       "Crime|Drama|Thriller                        5\n",
       "Biography|Drama|History                     4\n",
       "Adventure|Fantasy                           3\n",
       "Drama|Romance                               3\n",
       "Action|Adventure|Thriller                   3\n",
       "Action|Adventure|Fantasy                    2\n",
       "Crime|Drama|Mystery|Thriller                2\n",
       "Action|Adventure|Fantasy|Sci-Fi             2\n",
       "Action|Adventure|Sci-Fi|Thriller            2\n",
       "Action|Adventure|Drama                      2\n",
       "Adventure|Drama|History                     2\n",
       "Crime|Drama                                 2\n",
       "Drama|History|Thriller                      2\n",
       "Biography|Drama|Sport|War                   2\n",
       "Adventure|Drama                             1\n",
       "Action|Biography|Drama|History              1\n",
       "Action|Drama|War                            1\n",
       "Action|Crime|Thriller                       1\n",
       "Biography|Drama|Thriller                    1\n",
       "Drama|Sport                                 1\n",
       "Comedy|Drama                                1\n",
       "Adventure|Mystery|Sci-Fi                    1\n",
       "Action|Biography|Drama|History|War          1\n",
       "Biography|Drama|Music                       1\n",
       "Adventure|Sci-Fi                            1\n",
       "Comedy|Drama|Musical|Romance                1\n",
       "Drama|Fantasy                               1\n",
       "Drama|Thriller                              1\n",
       "Mystery|Thriller                            1\n",
       "Biography|Crime|Drama                       1\n",
       "Comedy|Western                              1\n",
       "Biography|Comedy|Crime|Drama                1\n",
       "Drama|War                                   1\n",
       "Adventure|Drama|Sci-Fi|Thriller             1\n",
       "Adventure|Drama|Thriller|Western            1\n",
       "Crime|Drama|Mystery|Thriller|Western        1\n",
       "Drama|Sci-Fi                                1\n",
       "Adventure|Drama|Sci-Fi                      1\n",
       "Biography|Crime|Drama|History|Music         1\n",
       "Drama|Western                               1\n",
       "Action|Thriller                             1\n",
       "Drama|Musical|Romance                       1\n",
       "Action|Adventure|Drama|History              1\n",
       "Biography|Drama|History|War                 1\n",
       "Drama|Horror|Thriller                       1\n",
       "Action|Adventure|Western                    1\n",
       "Action|Adventure|Fantasy|Sci-Fi|Thriller    1\n",
       "Action|Animation|Crime|Sci-Fi|Thriller      1\n",
       "Comedy|Crime|Drama|Mystery|Romance          1\n",
       "Comedy|Drama|Romance                        1\n",
       "Adventure|Sci-Fi|Thriller                   1\n",
       "Action|Drama|Thriller|War                   1\n",
       "Comedy                                      1\n",
       "Biography|Drama|Music|Musical               1\n",
       "Name: count, dtype: int64"
      ]
     },
     "execution_count": 41,
     "metadata": {},
     "output_type": "execute_result"
    }
   ],
   "source": [
    "imdb3['genres'].value_counts()"
   ]
  },
  {
   "cell_type": "code",
   "execution_count": 42,
   "id": "b921790a",
   "metadata": {
    "_cell_guid": "67a78006-5fb7-4086-89b5-697feabc28ea",
    "_uuid": "362a3f71-182a-4895-aadb-091b8db3aa33",
    "collapsed": false,
    "execution": {
     "iopub.execute_input": "2024-01-04T19:23:58.215348Z",
     "iopub.status.busy": "2024-01-04T19:23:58.214927Z",
     "iopub.status.idle": "2024-01-04T19:23:58.232475Z",
     "shell.execute_reply": "2024-01-04T19:23:58.231394Z"
    },
    "id": "RdyE7tt--o8f",
    "jupyter": {
     "outputs_hidden": false
    },
    "outputId": "95c19232-d099-4094-b284-b0ab4622982f",
    "papermill": {
     "duration": 0.071717,
     "end_time": "2024-01-04T19:23:58.235365",
     "exception": false,
     "start_time": "2024-01-04T19:23:58.163648",
     "status": "completed"
    },
    "tags": []
   },
   "outputs": [
    {
     "data": {
      "text/html": [
       "<div>\n",
       "<style scoped>\n",
       "    .dataframe tbody tr th:only-of-type {\n",
       "        vertical-align: middle;\n",
       "    }\n",
       "\n",
       "    .dataframe tbody tr th {\n",
       "        vertical-align: top;\n",
       "    }\n",
       "\n",
       "    .dataframe thead th {\n",
       "        text-align: right;\n",
       "    }\n",
       "</style>\n",
       "<table border=\"1\" class=\"dataframe\">\n",
       "  <thead>\n",
       "    <tr style=\"text-align: right;\">\n",
       "      <th></th>\n",
       "      <th>director_name</th>\n",
       "      <th>duration</th>\n",
       "      <th>gross</th>\n",
       "      <th>genres</th>\n",
       "      <th>movie_title</th>\n",
       "      <th>title_year</th>\n",
       "      <th>language</th>\n",
       "      <th>country</th>\n",
       "      <th>budget</th>\n",
       "      <th>imdb_score</th>\n",
       "      <th>actors</th>\n",
       "      <th>movie_facebook_likes</th>\n",
       "    </tr>\n",
       "  </thead>\n",
       "  <tbody>\n",
       "    <tr>\n",
       "      <th>10</th>\n",
       "      <td>Christopher Spencer</td>\n",
       "      <td>170</td>\n",
       "      <td>59696176.0</td>\n",
       "      <td>NaN</td>\n",
       "      <td>Son of God</td>\n",
       "      <td>2014</td>\n",
       "      <td>English</td>\n",
       "      <td>USA</td>\n",
       "      <td>22000000.0</td>\n",
       "      <td>5.6</td>\n",
       "      <td>Roma Downey,Amber Rose Revah,Darwin Shaw</td>\n",
       "      <td>15000</td>\n",
       "    </tr>\n",
       "  </tbody>\n",
       "</table>\n",
       "</div>"
      ],
      "text/plain": [
       "          director_name  duration       gross genres movie_title  title_year  \\\n",
       "10  Christopher Spencer       170  59696176.0    NaN  Son of God        2014   \n",
       "\n",
       "   language country      budget  imdb_score  \\\n",
       "10  English     USA  22000000.0         5.6   \n",
       "\n",
       "                                      actors  movie_facebook_likes  \n",
       "10  Roma Downey,Amber Rose Revah,Darwin Shaw                 15000  "
      ]
     },
     "execution_count": 42,
     "metadata": {},
     "output_type": "execute_result"
    }
   ],
   "source": [
    "imdb3[imdb3['genres'].isnull()]"
   ]
  },
  {
   "cell_type": "code",
   "execution_count": 43,
   "id": "fc5a8c22",
   "metadata": {
    "_cell_guid": "30125add-a666-4b54-bec5-05a0290dfcd1",
    "_uuid": "e6848a2a-ccf1-4344-a40f-aaaa3544a27e",
    "collapsed": false,
    "execution": {
     "iopub.execute_input": "2024-01-04T19:23:58.339379Z",
     "iopub.status.busy": "2024-01-04T19:23:58.338826Z",
     "iopub.status.idle": "2024-01-04T19:23:58.346850Z",
     "shell.execute_reply": "2024-01-04T19:23:58.345854Z"
    },
    "id": "gCN3g8FND44r",
    "jupyter": {
     "outputs_hidden": false
    },
    "papermill": {
     "duration": 0.065215,
     "end_time": "2024-01-04T19:23:58.349628",
     "exception": false,
     "start_time": "2024-01-04T19:23:58.284413",
     "status": "completed"
    },
    "tags": []
   },
   "outputs": [],
   "source": [
    "imdb3.dropna(subset=['genres'],inplace=True)"
   ]
  },
  {
   "cell_type": "code",
   "execution_count": 44,
   "id": "ad072502",
   "metadata": {
    "_cell_guid": "412beca5-3397-49f2-bd5a-d537fd8d6d77",
    "_uuid": "042133c7-552f-499c-b0bf-b381cac291aa",
    "collapsed": false,
    "execution": {
     "iopub.execute_input": "2024-01-04T19:23:58.455038Z",
     "iopub.status.busy": "2024-01-04T19:23:58.454606Z",
     "iopub.status.idle": "2024-01-04T19:23:58.460228Z",
     "shell.execute_reply": "2024-01-04T19:23:58.459083Z"
    },
    "id": "EWObyJezGByb",
    "jupyter": {
     "outputs_hidden": false
    },
    "papermill": {
     "duration": 0.062189,
     "end_time": "2024-01-04T19:23:58.462887",
     "exception": false,
     "start_time": "2024-01-04T19:23:58.400698",
     "status": "completed"
    },
    "tags": []
   },
   "outputs": [],
   "source": [
    "imdb3.reset_index(drop=True,inplace=True)"
   ]
  },
  {
   "cell_type": "code",
   "execution_count": 45,
   "id": "4ccee200",
   "metadata": {
    "_cell_guid": "48a372ec-7e31-438f-af04-f4817311cfa5",
    "_uuid": "8fb91e93-883e-464d-81f2-5d7df639ccea",
    "collapsed": false,
    "execution": {
     "iopub.execute_input": "2024-01-04T19:23:58.565123Z",
     "iopub.status.busy": "2024-01-04T19:23:58.564637Z",
     "iopub.status.idle": "2024-01-04T19:23:58.593005Z",
     "shell.execute_reply": "2024-01-04T19:23:58.591264Z"
    },
    "id": "NjPwKlU_GI_c",
    "jupyter": {
     "outputs_hidden": false
    },
    "outputId": "1531a586-c1e8-475c-d684-3d9edf91e49c",
    "papermill": {
     "duration": 0.082812,
     "end_time": "2024-01-04T19:23:58.596287",
     "exception": false,
     "start_time": "2024-01-04T19:23:58.513475",
     "status": "completed"
    },
    "tags": []
   },
   "outputs": [
    {
     "data": {
      "text/html": [
       "<div>\n",
       "<style scoped>\n",
       "    .dataframe tbody tr th:only-of-type {\n",
       "        vertical-align: middle;\n",
       "    }\n",
       "\n",
       "    .dataframe tbody tr th {\n",
       "        vertical-align: top;\n",
       "    }\n",
       "\n",
       "    .dataframe thead th {\n",
       "        text-align: right;\n",
       "    }\n",
       "</style>\n",
       "<table border=\"1\" class=\"dataframe\">\n",
       "  <thead>\n",
       "    <tr style=\"text-align: right;\">\n",
       "      <th></th>\n",
       "      <th>director_name</th>\n",
       "      <th>duration</th>\n",
       "      <th>gross</th>\n",
       "      <th>genres</th>\n",
       "      <th>movie_title</th>\n",
       "      <th>title_year</th>\n",
       "      <th>language</th>\n",
       "      <th>country</th>\n",
       "      <th>budget</th>\n",
       "      <th>imdb_score</th>\n",
       "      <th>actors</th>\n",
       "      <th>movie_facebook_likes</th>\n",
       "    </tr>\n",
       "  </thead>\n",
       "  <tbody>\n",
       "    <tr>\n",
       "      <th>0</th>\n",
       "      <td>Martin Scorsese</td>\n",
       "      <td>240</td>\n",
       "      <td>116866727.0</td>\n",
       "      <td>Biography|Comedy|Crime|Drama</td>\n",
       "      <td>The Wolf of Wall Street</td>\n",
       "      <td>2013</td>\n",
       "      <td>English</td>\n",
       "      <td>USA</td>\n",
       "      <td>100000000.0</td>\n",
       "      <td>8.2</td>\n",
       "      <td>Leonardo DiCaprio,Matthew McConaughey,Jon Favreau</td>\n",
       "      <td>138000</td>\n",
       "    </tr>\n",
       "    <tr>\n",
       "      <th>1</th>\n",
       "      <td>Shane Black</td>\n",
       "      <td>195</td>\n",
       "      <td>408992272.0</td>\n",
       "      <td>Action|Adventure|Sci-Fi</td>\n",
       "      <td>Iron Man 3</td>\n",
       "      <td>2013</td>\n",
       "      <td>English</td>\n",
       "      <td>USA</td>\n",
       "      <td>200000000.0</td>\n",
       "      <td>7.2</td>\n",
       "      <td>Robert Downey Jr.,Jon Favreau,Don Cheadle</td>\n",
       "      <td>95000</td>\n",
       "    </tr>\n",
       "    <tr>\n",
       "      <th>2</th>\n",
       "      <td>Quentin Tarantino</td>\n",
       "      <td>187</td>\n",
       "      <td>54116191.0</td>\n",
       "      <td>Crime|Drama|Mystery|Thriller|Western</td>\n",
       "      <td>The Hateful Eight</td>\n",
       "      <td>2015</td>\n",
       "      <td>English</td>\n",
       "      <td>USA</td>\n",
       "      <td>44000000.0</td>\n",
       "      <td>7.9</td>\n",
       "      <td>Craig Stark,Jennifer Jason Leigh,Zoë Bell</td>\n",
       "      <td>114000</td>\n",
       "    </tr>\n",
       "    <tr>\n",
       "      <th>3</th>\n",
       "      <td>Kenneth Lonergan</td>\n",
       "      <td>186</td>\n",
       "      <td>46495.0</td>\n",
       "      <td>Drama</td>\n",
       "      <td>Margaret</td>\n",
       "      <td>2011</td>\n",
       "      <td>English</td>\n",
       "      <td>usa</td>\n",
       "      <td>14000000.0</td>\n",
       "      <td>6.5</td>\n",
       "      <td>Matt Damon,Kieran Culkin,John Gallagher Jr.</td>\n",
       "      <td>0</td>\n",
       "    </tr>\n",
       "    <tr>\n",
       "      <th>4</th>\n",
       "      <td>Peter Jackson</td>\n",
       "      <td>186</td>\n",
       "      <td>258355354.0</td>\n",
       "      <td>Adventure|Fantasy</td>\n",
       "      <td>The Hobbit: The Desolation of Smaug</td>\n",
       "      <td>2013</td>\n",
       "      <td>English</td>\n",
       "      <td>USA</td>\n",
       "      <td>225000000.0</td>\n",
       "      <td>7.9</td>\n",
       "      <td>Aidan Turner,Adam Brown,James Nesbitt</td>\n",
       "      <td>83000</td>\n",
       "    </tr>\n",
       "    <tr>\n",
       "      <th>...</th>\n",
       "      <td>...</td>\n",
       "      <td>...</td>\n",
       "      <td>...</td>\n",
       "      <td>...</td>\n",
       "      <td>...</td>\n",
       "      <td>...</td>\n",
       "      <td>...</td>\n",
       "      <td>...</td>\n",
       "      <td>...</td>\n",
       "      <td>...</td>\n",
       "      <td>...</td>\n",
       "      <td>...</td>\n",
       "    </tr>\n",
       "    <tr>\n",
       "      <th>85</th>\n",
       "      <td>Steve McQueen</td>\n",
       "      <td>134</td>\n",
       "      <td>56667870.0</td>\n",
       "      <td>Biography|Drama|History</td>\n",
       "      <td>12 Years a Slave</td>\n",
       "      <td>2013</td>\n",
       "      <td>English</td>\n",
       "      <td>USA</td>\n",
       "      <td>20000000.0</td>\n",
       "      <td>8.1</td>\n",
       "      <td>Quvenzhané Wallis,Scoot McNairy,Taran Killam</td>\n",
       "      <td>83000</td>\n",
       "    </tr>\n",
       "    <tr>\n",
       "      <th>86</th>\n",
       "      <td>Richard J. Lewis</td>\n",
       "      <td>134</td>\n",
       "      <td>7501404.0</td>\n",
       "      <td>Comedy|Drama</td>\n",
       "      <td>Barney's Version</td>\n",
       "      <td>2010</td>\n",
       "      <td>English</td>\n",
       "      <td>Canada</td>\n",
       "      <td>NaN</td>\n",
       "      <td>7.3</td>\n",
       "      <td>Mark Addy,Atom Egoyan,Paul Gross</td>\n",
       "      <td>0</td>\n",
       "    </tr>\n",
       "    <tr>\n",
       "      <th>87</th>\n",
       "      <td>Paul Greengrass</td>\n",
       "      <td>134</td>\n",
       "      <td>107100855.0</td>\n",
       "      <td>Biography|Drama|Thriller</td>\n",
       "      <td>Captain Phillips</td>\n",
       "      <td>2013</td>\n",
       "      <td>English</td>\n",
       "      <td>USA</td>\n",
       "      <td>55000000.0</td>\n",
       "      <td>7.9</td>\n",
       "      <td>Tom Hanks,Chris Mulkey,Michael Chernus</td>\n",
       "      <td>65000</td>\n",
       "    </tr>\n",
       "    <tr>\n",
       "      <th>88</th>\n",
       "      <td>David Ayer</td>\n",
       "      <td>134</td>\n",
       "      <td>85707116.0</td>\n",
       "      <td>Action|Drama|War</td>\n",
       "      <td>Fury</td>\n",
       "      <td>2014</td>\n",
       "      <td>English</td>\n",
       "      <td>USA</td>\n",
       "      <td>68000000.0</td>\n",
       "      <td>7.6</td>\n",
       "      <td>Brad Pitt,Logan Lerman,Jim Parrack</td>\n",
       "      <td>82000</td>\n",
       "    </tr>\n",
       "    <tr>\n",
       "      <th>89</th>\n",
       "      <td>Clint Eastwood</td>\n",
       "      <td>5</td>\n",
       "      <td>47034272.0</td>\n",
       "      <td>Biography|Drama|Music|Musical</td>\n",
       "      <td>Jersey Boys</td>\n",
       "      <td>2014</td>\n",
       "      <td>English</td>\n",
       "      <td>USA</td>\n",
       "      <td>40000000.0</td>\n",
       "      <td>6.9</td>\n",
       "      <td>Johnny Cannizzaro,Steve Schirripa,Scott Vance</td>\n",
       "      <td>16000</td>\n",
       "    </tr>\n",
       "  </tbody>\n",
       "</table>\n",
       "<p>90 rows × 12 columns</p>\n",
       "</div>"
      ],
      "text/plain": [
       "        director_name  duration        gross  \\\n",
       "0     Martin Scorsese       240  116866727.0   \n",
       "1         Shane Black       195  408992272.0   \n",
       "2   Quentin Tarantino       187   54116191.0   \n",
       "3    Kenneth Lonergan       186      46495.0   \n",
       "4       Peter Jackson       186  258355354.0   \n",
       "..                ...       ...          ...   \n",
       "85      Steve McQueen       134   56667870.0   \n",
       "86   Richard J. Lewis       134    7501404.0   \n",
       "87    Paul Greengrass       134  107100855.0   \n",
       "88         David Ayer       134   85707116.0   \n",
       "89     Clint Eastwood         5   47034272.0   \n",
       "\n",
       "                                  genres                          movie_title  \\\n",
       "0           Biography|Comedy|Crime|Drama              The Wolf of Wall Street   \n",
       "1                Action|Adventure|Sci-Fi                           Iron Man 3   \n",
       "2   Crime|Drama|Mystery|Thriller|Western                    The Hateful Eight   \n",
       "3                                  Drama                             Margaret   \n",
       "4                      Adventure|Fantasy  The Hobbit: The Desolation of Smaug   \n",
       "..                                   ...                                  ...   \n",
       "85               Biography|Drama|History                     12 Years a Slave   \n",
       "86                          Comedy|Drama                     Barney's Version   \n",
       "87              Biography|Drama|Thriller                     Captain Phillips   \n",
       "88                      Action|Drama|War                                 Fury   \n",
       "89         Biography|Drama|Music|Musical                          Jersey Boys   \n",
       "\n",
       "    title_year language country       budget  imdb_score  \\\n",
       "0         2013  English     USA  100000000.0         8.2   \n",
       "1         2013  English     USA  200000000.0         7.2   \n",
       "2         2015  English     USA   44000000.0         7.9   \n",
       "3         2011  English     usa   14000000.0         6.5   \n",
       "4         2013  English     USA  225000000.0         7.9   \n",
       "..         ...      ...     ...          ...         ...   \n",
       "85        2013  English     USA   20000000.0         8.1   \n",
       "86        2010  English  Canada          NaN         7.3   \n",
       "87        2013  English     USA   55000000.0         7.9   \n",
       "88        2014  English     USA   68000000.0         7.6   \n",
       "89        2014  English     USA   40000000.0         6.9   \n",
       "\n",
       "                                               actors  movie_facebook_likes  \n",
       "0   Leonardo DiCaprio,Matthew McConaughey,Jon Favreau                138000  \n",
       "1           Robert Downey Jr.,Jon Favreau,Don Cheadle                 95000  \n",
       "2           Craig Stark,Jennifer Jason Leigh,Zoë Bell                114000  \n",
       "3         Matt Damon,Kieran Culkin,John Gallagher Jr.                     0  \n",
       "4               Aidan Turner,Adam Brown,James Nesbitt                 83000  \n",
       "..                                                ...                   ...  \n",
       "85       Quvenzhané Wallis,Scoot McNairy,Taran Killam                 83000  \n",
       "86                   Mark Addy,Atom Egoyan,Paul Gross                     0  \n",
       "87             Tom Hanks,Chris Mulkey,Michael Chernus                 65000  \n",
       "88                 Brad Pitt,Logan Lerman,Jim Parrack                 82000  \n",
       "89      Johnny Cannizzaro,Steve Schirripa,Scott Vance                 16000  \n",
       "\n",
       "[90 rows x 12 columns]"
      ]
     },
     "execution_count": 45,
     "metadata": {},
     "output_type": "execute_result"
    }
   ],
   "source": [
    "imdb3"
   ]
  },
  {
   "cell_type": "code",
   "execution_count": 46,
   "id": "f397e4b6",
   "metadata": {
    "_cell_guid": "e18cf699-3f61-42a2-8f5d-117836edec2b",
    "_uuid": "2d587364-ab7b-439e-82cf-d84fe2908571",
    "collapsed": false,
    "execution": {
     "iopub.execute_input": "2024-01-04T19:23:58.700394Z",
     "iopub.status.busy": "2024-01-04T19:23:58.699978Z",
     "iopub.status.idle": "2024-01-04T19:23:58.713864Z",
     "shell.execute_reply": "2024-01-04T19:23:58.712249Z"
    },
    "id": "I1g6hRT9GRMX",
    "jupyter": {
     "outputs_hidden": false
    },
    "outputId": "957c09cc-11e0-428f-a566-bf0e75841fd2",
    "papermill": {
     "duration": 0.070702,
     "end_time": "2024-01-04T19:23:58.717507",
     "exception": false,
     "start_time": "2024-01-04T19:23:58.646805",
     "status": "completed"
    },
    "tags": []
   },
   "outputs": [
    {
     "data": {
      "text/plain": [
       "director_name           0\n",
       "duration                0\n",
       "gross                   0\n",
       "genres                  0\n",
       "movie_title             0\n",
       "title_year              0\n",
       "language                0\n",
       "country                 0\n",
       "budget                  4\n",
       "imdb_score              0\n",
       "actors                  0\n",
       "movie_facebook_likes    0\n",
       "dtype: int64"
      ]
     },
     "execution_count": 46,
     "metadata": {},
     "output_type": "execute_result"
    }
   ],
   "source": [
    "imdb3.isnull().sum()"
   ]
  },
  {
   "cell_type": "code",
   "execution_count": 47,
   "id": "c1e14ce9",
   "metadata": {
    "_cell_guid": "d1786752-167c-491c-a382-102149de2c1b",
    "_uuid": "f9f8caa9-015c-4651-862a-2a52b61fbd89",
    "collapsed": false,
    "execution": {
     "iopub.execute_input": "2024-01-04T19:23:58.826311Z",
     "iopub.status.busy": "2024-01-04T19:23:58.825792Z",
     "iopub.status.idle": "2024-01-04T19:23:58.833841Z",
     "shell.execute_reply": "2024-01-04T19:23:58.832596Z"
    },
    "id": "-LzOGhANGnGE",
    "jupyter": {
     "outputs_hidden": false
    },
    "outputId": "bf4348b8-ce3d-41fa-9c81-a9ac66fbcf30",
    "papermill": {
     "duration": 0.06452,
     "end_time": "2024-01-04T19:23:58.836509",
     "exception": false,
     "start_time": "2024-01-04T19:23:58.771989",
     "status": "completed"
    },
    "tags": []
   },
   "outputs": [
    {
     "data": {
      "text/plain": [
       "90"
      ]
     },
     "execution_count": 47,
     "metadata": {},
     "output_type": "execute_result"
    }
   ],
   "source": [
    "len(imdb3)"
   ]
  },
  {
   "cell_type": "code",
   "execution_count": 48,
   "id": "2191ad4b",
   "metadata": {
    "_cell_guid": "985fbee8-1a89-4e08-89d2-7e5506a80cb1",
    "_uuid": "4564aa38-2528-48c6-9473-8b783b1812cf",
    "collapsed": false,
    "execution": {
     "iopub.execute_input": "2024-01-04T19:23:58.933939Z",
     "iopub.status.busy": "2024-01-04T19:23:58.933502Z",
     "iopub.status.idle": "2024-01-04T19:23:59.335928Z",
     "shell.execute_reply": "2024-01-04T19:23:59.334640Z"
    },
    "id": "wFWnAG3KGpAZ",
    "jupyter": {
     "outputs_hidden": false
    },
    "outputId": "80bc759c-2af1-41d2-8d0a-770158714321",
    "papermill": {
     "duration": 0.454328,
     "end_time": "2024-01-04T19:23:59.338862",
     "exception": false,
     "start_time": "2024-01-04T19:23:58.884534",
     "status": "completed"
    },
    "tags": []
   },
   "outputs": [
    {
     "data": {
      "text/plain": [
       "array([[<Axes: title={'center': 'budget'}>]], dtype=object)"
      ]
     },
     "execution_count": 48,
     "metadata": {},
     "output_type": "execute_result"
    },
    {
     "data": {
      "image/png": "[encoded data removed]",
      "text/plain": [
       "<Figure size 640x480 with 1 Axes>"
      ]
     },
     "metadata": {},
     "output_type": "display_data"
    }
   ],
   "source": [
    "imdb3.hist('budget')"
   ]
  },
  {
   "cell_type": "code",
   "execution_count": 49,
   "id": "19610d85",
   "metadata": {
    "_cell_guid": "9811597e-1c9f-4d4c-95bb-ec9548608763",
    "_uuid": "c0d387ca-96fe-443f-8363-0a449fb95a90",
    "collapsed": false,
    "execution": {
     "iopub.execute_input": "2024-01-04T19:23:59.441853Z",
     "iopub.status.busy": "2024-01-04T19:23:59.441410Z",
     "iopub.status.idle": "2024-01-04T19:23:59.447592Z",
     "shell.execute_reply": "2024-01-04T19:23:59.446187Z"
    },
    "id": "6KW-5dHeGxGm",
    "jupyter": {
     "outputs_hidden": false
    },
    "papermill": {
     "duration": 0.061139,
     "end_time": "2024-01-04T19:23:59.450327",
     "exception": false,
     "start_time": "2024-01-04T19:23:59.389188",
     "status": "completed"
    },
    "tags": []
   },
   "outputs": [],
   "source": [
    "median_budget=imdb3['budget'].median()"
   ]
  },
  {
   "cell_type": "code",
   "execution_count": 50,
   "id": "ced4d704",
   "metadata": {
    "_cell_guid": "3b95f165-c2ba-4595-94c2-5fc303abb3aa",
    "_uuid": "314f5436-07d0-4f75-ae2e-c70788cc484c",
    "collapsed": false,
    "execution": {
     "iopub.execute_input": "2024-01-04T19:23:59.554157Z",
     "iopub.status.busy": "2024-01-04T19:23:59.553009Z",
     "iopub.status.idle": "2024-01-04T19:23:59.558451Z",
     "shell.execute_reply": "2024-01-04T19:23:59.557690Z"
    },
    "id": "NKDh4GapG-Ga",
    "jupyter": {
     "outputs_hidden": false
    },
    "papermill": {
     "duration": 0.060828,
     "end_time": "2024-01-04T19:23:59.561783",
     "exception": false,
     "start_time": "2024-01-04T19:23:59.500955",
     "status": "completed"
    },
    "tags": []
   },
   "outputs": [],
   "source": [
    "imdb3['budget'].fillna(median_budget,inplace=True)"
   ]
  },
  {
   "cell_type": "code",
   "execution_count": 51,
   "id": "bc90f4c7",
   "metadata": {
    "_cell_guid": "1a32fddf-fc83-452b-b75c-c733692d4e84",
    "_uuid": "5774ca30-ec9c-4c2d-b5ce-033b16ffbbd4",
    "collapsed": false,
    "execution": {
     "iopub.execute_input": "2024-01-04T19:23:59.663807Z",
     "iopub.status.busy": "2024-01-04T19:23:59.663342Z",
     "iopub.status.idle": "2024-01-04T19:23:59.674737Z",
     "shell.execute_reply": "2024-01-04T19:23:59.673428Z"
    },
    "id": "2VwVnvLoHUug",
    "jupyter": {
     "outputs_hidden": false
    },
    "outputId": "a9e1b497-2f70-42d6-8c4b-42617539c8cf",
    "papermill": {
     "duration": 0.065764,
     "end_time": "2024-01-04T19:23:59.677886",
     "exception": false,
     "start_time": "2024-01-04T19:23:59.612122",
     "status": "completed"
    },
    "tags": []
   },
   "outputs": [
    {
     "data": {
      "text/plain": [
       "director_name           0\n",
       "duration                0\n",
       "gross                   0\n",
       "genres                  0\n",
       "movie_title             0\n",
       "title_year              0\n",
       "language                0\n",
       "country                 0\n",
       "budget                  0\n",
       "imdb_score              0\n",
       "actors                  0\n",
       "movie_facebook_likes    0\n",
       "dtype: int64"
      ]
     },
     "execution_count": 51,
     "metadata": {},
     "output_type": "execute_result"
    }
   ],
   "source": [
    "imdb3.isnull().sum()"
   ]
  },
  {
   "cell_type": "code",
   "execution_count": 52,
   "id": "14072224",
   "metadata": {
    "_cell_guid": "4e531a4d-2141-4881-baa3-927ac6af5324",
    "_uuid": "91ef8cbc-8348-4e51-8bb6-77797f596562",
    "collapsed": false,
    "execution": {
     "iopub.execute_input": "2024-01-04T19:23:59.783443Z",
     "iopub.status.busy": "2024-01-04T19:23:59.782257Z",
     "iopub.status.idle": "2024-01-04T19:24:00.233172Z",
     "shell.execute_reply": "2024-01-04T19:24:00.231881Z"
    },
    "id": "99uRODGpHW26",
    "jupyter": {
     "outputs_hidden": false
    },
    "outputId": "7dbec981-ce34-4993-8d2c-e8e70d500ab4",
    "papermill": {
     "duration": 0.507084,
     "end_time": "2024-01-04T19:24:00.236374",
     "exception": false,
     "start_time": "2024-01-04T19:23:59.729290",
     "status": "completed"
    },
    "tags": []
   },
   "outputs": [
    {
     "data": {
      "text/plain": [
       "array([[<Axes: title={'center': 'budget'}>]], dtype=object)"
      ]
     },
     "execution_count": 52,
     "metadata": {},
     "output_type": "execute_result"
    },
    {
     "data": {
      "image/png": "[encoded data removed]",
      "text/plain": [
       "<Figure size 640x480 with 1 Axes>"
      ]
     },
     "metadata": {},
     "output_type": "display_data"
    }
   ],
   "source": [
    "imdb3.hist('budget')"
   ]
  },
  {
   "cell_type": "code",
   "execution_count": 53,
   "id": "d6a46347",
   "metadata": {
    "_cell_guid": "00eeb828-1c53-4aa1-a860-33fa8ba9baa6",
    "_uuid": "05eeeb9d-e074-49fc-b511-789e0a65b84e",
    "collapsed": false,
    "execution": {
     "iopub.execute_input": "2024-01-04T19:24:00.343023Z",
     "iopub.status.busy": "2024-01-04T19:24:00.342485Z",
     "iopub.status.idle": "2024-01-04T19:24:00.349757Z",
     "shell.execute_reply": "2024-01-04T19:24:00.348327Z"
    },
    "id": "Jqp0yTvMHdVc",
    "jupyter": {
     "outputs_hidden": false
    },
    "papermill": {
     "duration": 0.065887,
     "end_time": "2024-01-04T19:24:00.352684",
     "exception": false,
     "start_time": "2024-01-04T19:24:00.286797",
     "status": "completed"
    },
    "tags": []
   },
   "outputs": [],
   "source": [
    "imdb4=imdb3.copy()"
   ]
  },
  {
   "cell_type": "code",
   "execution_count": 54,
   "id": "01c9031f",
   "metadata": {
    "_cell_guid": "57646c6e-4db3-4bee-ad61-6e6e762ab901",
    "_uuid": "69237fe8-c0eb-4838-9ea0-521053f2fa8f",
    "collapsed": false,
    "execution": {
     "iopub.execute_input": "2024-01-04T19:24:00.459392Z",
     "iopub.status.busy": "2024-01-04T19:24:00.458966Z",
     "iopub.status.idle": "2024-01-04T19:24:00.475867Z",
     "shell.execute_reply": "2024-01-04T19:24:00.474025Z"
    },
    "id": "5b7xAo7jHsaH",
    "jupyter": {
     "outputs_hidden": false
    },
    "outputId": "1e77f9ae-c7fe-487b-c028-27c39af6ee97",
    "papermill": {
     "duration": 0.075326,
     "end_time": "2024-01-04T19:24:00.479270",
     "exception": false,
     "start_time": "2024-01-04T19:24:00.403944",
     "status": "completed"
    },
    "tags": []
   },
   "outputs": [
    {
     "name": "stdout",
     "output_type": "stream",
     "text": [
      "<class 'pandas.core.frame.DataFrame'>\n",
      "RangeIndex: 90 entries, 0 to 89\n",
      "Data columns (total 12 columns):\n",
      " #   Column                Non-Null Count  Dtype  \n",
      "---  ------                --------------  -----  \n",
      " 0   director_name         90 non-null     object \n",
      " 1   duration              90 non-null     int64  \n",
      " 2   gross                 90 non-null     float64\n",
      " 3   genres                90 non-null     object \n",
      " 4   movie_title           90 non-null     object \n",
      " 5   title_year            90 non-null     int64  \n",
      " 6   language              90 non-null     object \n",
      " 7   country               90 non-null     object \n",
      " 8   budget                90 non-null     float64\n",
      " 9   imdb_score            90 non-null     float64\n",
      " 10  actors                90 non-null     object \n",
      " 11  movie_facebook_likes  90 non-null     int64  \n",
      "dtypes: float64(3), int64(3), object(6)\n",
      "memory usage: 8.6+ KB\n"
     ]
    }
   ],
   "source": [
    "imdb4.info()"
   ]
  },
  {
   "cell_type": "code",
   "execution_count": 55,
   "id": "37b0d8f3",
   "metadata": {
    "_cell_guid": "81e9c632-edd7-43ad-9a46-5dcbbe729f5a",
    "_uuid": "7ac44a64-8b05-456d-a0d0-8e707245d0f5",
    "collapsed": false,
    "execution": {
     "iopub.execute_input": "2024-01-04T19:24:00.586084Z",
     "iopub.status.busy": "2024-01-04T19:24:00.585652Z",
     "iopub.status.idle": "2024-01-04T19:24:00.966003Z",
     "shell.execute_reply": "2024-01-04T19:24:00.964826Z"
    },
    "id": "Gr9dAOSpHt98",
    "jupyter": {
     "outputs_hidden": false
    },
    "outputId": "1830c768-516b-4f27-84d0-6025c04a9378",
    "papermill": {
     "duration": 0.436979,
     "end_time": "2024-01-04T19:24:00.968832",
     "exception": false,
     "start_time": "2024-01-04T19:24:00.531853",
     "status": "completed"
    },
    "tags": []
   },
   "outputs": [
    {
     "data": {
      "text/plain": [
       "array([[<Axes: title={'center': 'duration'}>]], dtype=object)"
      ]
     },
     "execution_count": 55,
     "metadata": {},
     "output_type": "execute_result"
    },
    {
     "data": {
      "image/png": "[encoded data removed]",
      "text/plain": [
       "<Figure size 640x480 with 1 Axes>"
      ]
     },
     "metadata": {},
     "output_type": "display_data"
    }
   ],
   "source": [
    "imdb4.hist('duration')"
   ]
  },
  {
   "cell_type": "code",
   "execution_count": 56,
   "id": "63a32065",
   "metadata": {
    "_cell_guid": "78547d0c-2883-480b-a16f-84264f4dc4b2",
    "_uuid": "69c5c3f2-d31e-4c29-9ad0-e0aa90e85f37",
    "collapsed": false,
    "execution": {
     "iopub.execute_input": "2024-01-04T19:24:01.072281Z",
     "iopub.status.busy": "2024-01-04T19:24:01.070888Z",
     "iopub.status.idle": "2024-01-04T19:24:01.089778Z",
     "shell.execute_reply": "2024-01-04T19:24:01.088618Z"
    },
    "id": "G-yVJx1mH82t",
    "jupyter": {
     "outputs_hidden": false
    },
    "outputId": "dd8efc4c-3df3-45ed-8764-f215c1a6b75c",
    "papermill": {
     "duration": 0.071954,
     "end_time": "2024-01-04T19:24:01.092296",
     "exception": false,
     "start_time": "2024-01-04T19:24:01.020342",
     "status": "completed"
    },
    "tags": []
   },
   "outputs": [
    {
     "data": {
      "text/html": [
       "<div>\n",
       "<style scoped>\n",
       "    .dataframe tbody tr th:only-of-type {\n",
       "        vertical-align: middle;\n",
       "    }\n",
       "\n",
       "    .dataframe tbody tr th {\n",
       "        vertical-align: top;\n",
       "    }\n",
       "\n",
       "    .dataframe thead th {\n",
       "        text-align: right;\n",
       "    }\n",
       "</style>\n",
       "<table border=\"1\" class=\"dataframe\">\n",
       "  <thead>\n",
       "    <tr style=\"text-align: right;\">\n",
       "      <th></th>\n",
       "      <th>director_name</th>\n",
       "      <th>duration</th>\n",
       "      <th>gross</th>\n",
       "      <th>genres</th>\n",
       "      <th>movie_title</th>\n",
       "      <th>title_year</th>\n",
       "      <th>language</th>\n",
       "      <th>country</th>\n",
       "      <th>budget</th>\n",
       "      <th>imdb_score</th>\n",
       "      <th>actors</th>\n",
       "      <th>movie_facebook_likes</th>\n",
       "    </tr>\n",
       "  </thead>\n",
       "  <tbody>\n",
       "    <tr>\n",
       "      <th>6</th>\n",
       "      <td>Peter Jackson</td>\n",
       "      <td>-50</td>\n",
       "      <td>303001229.0</td>\n",
       "      <td>Adventure|Fantasy</td>\n",
       "      <td>The Hobbit: An Unexpected Journey</td>\n",
       "      <td>2012</td>\n",
       "      <td>English</td>\n",
       "      <td>USA</td>\n",
       "      <td>180000000.0</td>\n",
       "      <td>7.9</td>\n",
       "      <td>Aidan Turner,Adam Brown,James Nesbitt</td>\n",
       "      <td>166000</td>\n",
       "    </tr>\n",
       "    <tr>\n",
       "      <th>89</th>\n",
       "      <td>Clint Eastwood</td>\n",
       "      <td>5</td>\n",
       "      <td>47034272.0</td>\n",
       "      <td>Biography|Drama|Music|Musical</td>\n",
       "      <td>Jersey Boys</td>\n",
       "      <td>2014</td>\n",
       "      <td>English</td>\n",
       "      <td>USA</td>\n",
       "      <td>40000000.0</td>\n",
       "      <td>6.9</td>\n",
       "      <td>Johnny Cannizzaro,Steve Schirripa,Scott Vance</td>\n",
       "      <td>16000</td>\n",
       "    </tr>\n",
       "  </tbody>\n",
       "</table>\n",
       "</div>"
      ],
      "text/plain": [
       "     director_name  duration        gross                         genres  \\\n",
       "6    Peter Jackson       -50  303001229.0              Adventure|Fantasy   \n",
       "89  Clint Eastwood         5   47034272.0  Biography|Drama|Music|Musical   \n",
       "\n",
       "                          movie_title  title_year language country  \\\n",
       "6   The Hobbit: An Unexpected Journey        2012  English     USA   \n",
       "89                        Jersey Boys        2014  English     USA   \n",
       "\n",
       "         budget  imdb_score                                         actors  \\\n",
       "6   180000000.0         7.9          Aidan Turner,Adam Brown,James Nesbitt   \n",
       "89   40000000.0         6.9  Johnny Cannizzaro,Steve Schirripa,Scott Vance   \n",
       "\n",
       "    movie_facebook_likes  \n",
       "6                 166000  \n",
       "89                 16000  "
      ]
     },
     "execution_count": 56,
     "metadata": {},
     "output_type": "execute_result"
    }
   ],
   "source": [
    "imdb4[imdb4['duration']<50]"
   ]
  },
  {
   "cell_type": "code",
   "execution_count": 57,
   "id": "6e1eb632",
   "metadata": {
    "_cell_guid": "355d8ed1-a3e1-4024-9768-904292484a73",
    "_uuid": "22f11648-e646-46bd-aa3b-8831ec6ee343",
    "collapsed": false,
    "execution": {
     "iopub.execute_input": "2024-01-04T19:24:01.195105Z",
     "iopub.status.busy": "2024-01-04T19:24:01.193326Z",
     "iopub.status.idle": "2024-01-04T19:24:01.212477Z",
     "shell.execute_reply": "2024-01-04T19:24:01.211293Z"
    },
    "id": "AYr4ComVIHfh",
    "jupyter": {
     "outputs_hidden": false
    },
    "outputId": "b900a7ae-d820-4667-8b76-4ca9f5dffb47",
    "papermill": {
     "duration": 0.072347,
     "end_time": "2024-01-04T19:24:01.215039",
     "exception": false,
     "start_time": "2024-01-04T19:24:01.142692",
     "status": "completed"
    },
    "tags": []
   },
   "outputs": [
    {
     "data": {
      "text/html": [
       "<div>\n",
       "<style scoped>\n",
       "    .dataframe tbody tr th:only-of-type {\n",
       "        vertical-align: middle;\n",
       "    }\n",
       "\n",
       "    .dataframe tbody tr th {\n",
       "        vertical-align: top;\n",
       "    }\n",
       "\n",
       "    .dataframe thead th {\n",
       "        text-align: right;\n",
       "    }\n",
       "</style>\n",
       "<table border=\"1\" class=\"dataframe\">\n",
       "  <thead>\n",
       "    <tr style=\"text-align: right;\">\n",
       "      <th></th>\n",
       "      <th>director_name</th>\n",
       "      <th>duration</th>\n",
       "      <th>gross</th>\n",
       "      <th>genres</th>\n",
       "      <th>movie_title</th>\n",
       "      <th>title_year</th>\n",
       "      <th>language</th>\n",
       "      <th>country</th>\n",
       "      <th>budget</th>\n",
       "      <th>imdb_score</th>\n",
       "      <th>actors</th>\n",
       "      <th>movie_facebook_likes</th>\n",
       "    </tr>\n",
       "  </thead>\n",
       "  <tbody>\n",
       "    <tr>\n",
       "      <th>13</th>\n",
       "      <td>Quentin Tarantino</td>\n",
       "      <td>580</td>\n",
       "      <td>162804648.0</td>\n",
       "      <td>Drama|Western</td>\n",
       "      <td>Django Unchained</td>\n",
       "      <td>2012</td>\n",
       "      <td>English</td>\n",
       "      <td>USA</td>\n",
       "      <td>100000000.0</td>\n",
       "      <td>8.5</td>\n",
       "      <td>Leonardo DiCaprio,Christoph Waltz,Ato Essandoh</td>\n",
       "      <td>199000</td>\n",
       "    </tr>\n",
       "    <tr>\n",
       "      <th>28</th>\n",
       "      <td>Gore Verbinski</td>\n",
       "      <td>650</td>\n",
       "      <td>89289910.0</td>\n",
       "      <td>Action|Adventure|Western</td>\n",
       "      <td>The Lone Ranger</td>\n",
       "      <td>2013</td>\n",
       "      <td>English</td>\n",
       "      <td>USA</td>\n",
       "      <td>215000000.0</td>\n",
       "      <td>6.5</td>\n",
       "      <td>Johnny Depp,Ruth Wilson,Tom Wilkinson</td>\n",
       "      <td>48000</td>\n",
       "    </tr>\n",
       "  </tbody>\n",
       "</table>\n",
       "</div>"
      ],
      "text/plain": [
       "        director_name  duration        gross                    genres  \\\n",
       "13  Quentin Tarantino       580  162804648.0             Drama|Western   \n",
       "28     Gore Verbinski       650   89289910.0  Action|Adventure|Western   \n",
       "\n",
       "         movie_title  title_year language country       budget  imdb_score  \\\n",
       "13  Django Unchained        2012  English     USA  100000000.0         8.5   \n",
       "28   The Lone Ranger        2013  English     USA  215000000.0         6.5   \n",
       "\n",
       "                                            actors  movie_facebook_likes  \n",
       "13  Leonardo DiCaprio,Christoph Waltz,Ato Essandoh                199000  \n",
       "28           Johnny Depp,Ruth Wilson,Tom Wilkinson                 48000  "
      ]
     },
     "execution_count": 57,
     "metadata": {},
     "output_type": "execute_result"
    }
   ],
   "source": [
    "imdb4[imdb4['duration']>500]"
   ]
  },
  {
   "cell_type": "code",
   "execution_count": 58,
   "id": "a3b1c3ad",
   "metadata": {
    "_cell_guid": "9c908b0b-1a16-432f-a514-65173d8f16d4",
    "_uuid": "91862262-5f6f-49f4-8ea8-390e94556365",
    "collapsed": false,
    "execution": {
     "iopub.execute_input": "2024-01-04T19:24:01.320344Z",
     "iopub.status.busy": "2024-01-04T19:24:01.319187Z",
     "iopub.status.idle": "2024-01-04T19:24:01.347351Z",
     "shell.execute_reply": "2024-01-04T19:24:01.345682Z"
    },
    "id": "XUs--5UXIP5R",
    "jupyter": {
     "outputs_hidden": false
    },
    "outputId": "b3a94ac2-e8c5-488d-9cd7-36666ae05fcb",
    "papermill": {
     "duration": 0.08438,
     "end_time": "2024-01-04T19:24:01.350413",
     "exception": false,
     "start_time": "2024-01-04T19:24:01.266033",
     "status": "completed"
    },
    "tags": []
   },
   "outputs": [
    {
     "data": {
      "text/html": [
       "<div>\n",
       "<style scoped>\n",
       "    .dataframe tbody tr th:only-of-type {\n",
       "        vertical-align: middle;\n",
       "    }\n",
       "\n",
       "    .dataframe tbody tr th {\n",
       "        vertical-align: top;\n",
       "    }\n",
       "\n",
       "    .dataframe thead th {\n",
       "        text-align: right;\n",
       "    }\n",
       "</style>\n",
       "<table border=\"1\" class=\"dataframe\">\n",
       "  <thead>\n",
       "    <tr style=\"text-align: right;\">\n",
       "      <th></th>\n",
       "      <th>director_name</th>\n",
       "      <th>duration</th>\n",
       "      <th>gross</th>\n",
       "      <th>genres</th>\n",
       "      <th>movie_title</th>\n",
       "      <th>title_year</th>\n",
       "      <th>language</th>\n",
       "      <th>country</th>\n",
       "      <th>budget</th>\n",
       "      <th>imdb_score</th>\n",
       "      <th>actors</th>\n",
       "      <th>movie_facebook_likes</th>\n",
       "    </tr>\n",
       "  </thead>\n",
       "  <tbody>\n",
       "    <tr>\n",
       "      <th>6</th>\n",
       "      <td>Peter Jackson</td>\n",
       "      <td>-50</td>\n",
       "      <td>303001229.0</td>\n",
       "      <td>Adventure|Fantasy</td>\n",
       "      <td>The Hobbit: An Unexpected Journey</td>\n",
       "      <td>2012</td>\n",
       "      <td>English</td>\n",
       "      <td>USA</td>\n",
       "      <td>180000000.0</td>\n",
       "      <td>7.9</td>\n",
       "      <td>Aidan Turner,Adam Brown,James Nesbitt</td>\n",
       "      <td>166000</td>\n",
       "    </tr>\n",
       "    <tr>\n",
       "      <th>13</th>\n",
       "      <td>Quentin Tarantino</td>\n",
       "      <td>580</td>\n",
       "      <td>162804648.0</td>\n",
       "      <td>Drama|Western</td>\n",
       "      <td>Django Unchained</td>\n",
       "      <td>2012</td>\n",
       "      <td>English</td>\n",
       "      <td>USA</td>\n",
       "      <td>100000000.0</td>\n",
       "      <td>8.5</td>\n",
       "      <td>Leonardo DiCaprio,Christoph Waltz,Ato Essandoh</td>\n",
       "      <td>199000</td>\n",
       "    </tr>\n",
       "    <tr>\n",
       "      <th>28</th>\n",
       "      <td>Gore Verbinski</td>\n",
       "      <td>650</td>\n",
       "      <td>89289910.0</td>\n",
       "      <td>Action|Adventure|Western</td>\n",
       "      <td>The Lone Ranger</td>\n",
       "      <td>2013</td>\n",
       "      <td>English</td>\n",
       "      <td>USA</td>\n",
       "      <td>215000000.0</td>\n",
       "      <td>6.5</td>\n",
       "      <td>Johnny Depp,Ruth Wilson,Tom Wilkinson</td>\n",
       "      <td>48000</td>\n",
       "    </tr>\n",
       "    <tr>\n",
       "      <th>89</th>\n",
       "      <td>Clint Eastwood</td>\n",
       "      <td>5</td>\n",
       "      <td>47034272.0</td>\n",
       "      <td>Biography|Drama|Music|Musical</td>\n",
       "      <td>Jersey Boys</td>\n",
       "      <td>2014</td>\n",
       "      <td>English</td>\n",
       "      <td>USA</td>\n",
       "      <td>40000000.0</td>\n",
       "      <td>6.9</td>\n",
       "      <td>Johnny Cannizzaro,Steve Schirripa,Scott Vance</td>\n",
       "      <td>16000</td>\n",
       "    </tr>\n",
       "  </tbody>\n",
       "</table>\n",
       "</div>"
      ],
      "text/plain": [
       "        director_name  duration        gross                         genres  \\\n",
       "6       Peter Jackson       -50  303001229.0              Adventure|Fantasy   \n",
       "13  Quentin Tarantino       580  162804648.0                  Drama|Western   \n",
       "28     Gore Verbinski       650   89289910.0       Action|Adventure|Western   \n",
       "89     Clint Eastwood         5   47034272.0  Biography|Drama|Music|Musical   \n",
       "\n",
       "                          movie_title  title_year language country  \\\n",
       "6   The Hobbit: An Unexpected Journey        2012  English     USA   \n",
       "13                   Django Unchained        2012  English     USA   \n",
       "28                    The Lone Ranger        2013  English     USA   \n",
       "89                        Jersey Boys        2014  English     USA   \n",
       "\n",
       "         budget  imdb_score                                          actors  \\\n",
       "6   180000000.0         7.9           Aidan Turner,Adam Brown,James Nesbitt   \n",
       "13  100000000.0         8.5  Leonardo DiCaprio,Christoph Waltz,Ato Essandoh   \n",
       "28  215000000.0         6.5           Johnny Depp,Ruth Wilson,Tom Wilkinson   \n",
       "89   40000000.0         6.9   Johnny Cannizzaro,Steve Schirripa,Scott Vance   \n",
       "\n",
       "    movie_facebook_likes  \n",
       "6                 166000  \n",
       "13                199000  \n",
       "28                 48000  \n",
       "89                 16000  "
      ]
     },
     "execution_count": 58,
     "metadata": {},
     "output_type": "execute_result"
    }
   ],
   "source": [
    "imdb4[(imdb4['duration']<50) | (imdb4['duration']>500)]"
   ]
  },
  {
   "cell_type": "code",
   "execution_count": 59,
   "id": "4829804f",
   "metadata": {
    "_cell_guid": "b76d496f-c941-4a5e-aca1-0c4d57a3e231",
    "_uuid": "29c368a9-f2f9-40c3-8c3d-cc0fc5b06163",
    "collapsed": false,
    "execution": {
     "iopub.execute_input": "2024-01-04T19:24:01.456163Z",
     "iopub.status.busy": "2024-01-04T19:24:01.455521Z",
     "iopub.status.idle": "2024-01-04T19:24:01.466153Z",
     "shell.execute_reply": "2024-01-04T19:24:01.464272Z"
    },
    "id": "htFSnoobIdR_",
    "jupyter": {
     "outputs_hidden": false
    },
    "outputId": "95221548-0f1a-40f8-af92-f5ccffa4baf4",
    "papermill": {
     "duration": 0.067735,
     "end_time": "2024-01-04T19:24:01.469636",
     "exception": false,
     "start_time": "2024-01-04T19:24:01.401901",
     "status": "completed"
    },
    "tags": []
   },
   "outputs": [
    {
     "data": {
      "text/plain": [
       "155.63333333333333"
      ]
     },
     "execution_count": 59,
     "metadata": {},
     "output_type": "execute_result"
    }
   ],
   "source": [
    "imdb4['duration'].mean()"
   ]
  },
  {
   "cell_type": "code",
   "execution_count": 60,
   "id": "450185fd",
   "metadata": {
    "_cell_guid": "21c80760-8df7-4041-910d-03bef4dd5c46",
    "_uuid": "b84aac75-72f3-4db6-a968-7dbebc465fed",
    "collapsed": false,
    "execution": {
     "iopub.execute_input": "2024-01-04T19:24:01.577528Z",
     "iopub.status.busy": "2024-01-04T19:24:01.576612Z",
     "iopub.status.idle": "2024-01-04T19:24:01.606833Z",
     "shell.execute_reply": "2024-01-04T19:24:01.605274Z"
    },
    "id": "fMb6O_zCI4ic",
    "jupyter": {
     "outputs_hidden": false
    },
    "outputId": "caa6c0e7-47fc-4127-8f34-7a0015e13dc4",
    "papermill": {
     "duration": 0.085632,
     "end_time": "2024-01-04T19:24:01.609737",
     "exception": false,
     "start_time": "2024-01-04T19:24:01.524105",
     "status": "completed"
    },
    "tags": []
   },
   "outputs": [
    {
     "data": {
      "text/html": [
       "<div>\n",
       "<style scoped>\n",
       "    .dataframe tbody tr th:only-of-type {\n",
       "        vertical-align: middle;\n",
       "    }\n",
       "\n",
       "    .dataframe tbody tr th {\n",
       "        vertical-align: top;\n",
       "    }\n",
       "\n",
       "    .dataframe thead th {\n",
       "        text-align: right;\n",
       "    }\n",
       "</style>\n",
       "<table border=\"1\" class=\"dataframe\">\n",
       "  <thead>\n",
       "    <tr style=\"text-align: right;\">\n",
       "      <th></th>\n",
       "      <th>director_name</th>\n",
       "      <th>duration</th>\n",
       "      <th>gross</th>\n",
       "      <th>genres</th>\n",
       "      <th>movie_title</th>\n",
       "      <th>title_year</th>\n",
       "      <th>language</th>\n",
       "      <th>country</th>\n",
       "      <th>budget</th>\n",
       "      <th>imdb_score</th>\n",
       "      <th>actors</th>\n",
       "      <th>movie_facebook_likes</th>\n",
       "    </tr>\n",
       "  </thead>\n",
       "  <tbody>\n",
       "    <tr>\n",
       "      <th>0</th>\n",
       "      <td>Martin Scorsese</td>\n",
       "      <td>240</td>\n",
       "      <td>116866727.0</td>\n",
       "      <td>Biography|Comedy|Crime|Drama</td>\n",
       "      <td>The Wolf of Wall Street</td>\n",
       "      <td>2013</td>\n",
       "      <td>English</td>\n",
       "      <td>USA</td>\n",
       "      <td>100000000.0</td>\n",
       "      <td>8.2</td>\n",
       "      <td>Leonardo DiCaprio,Matthew McConaughey,Jon Favreau</td>\n",
       "      <td>138000</td>\n",
       "    </tr>\n",
       "    <tr>\n",
       "      <th>1</th>\n",
       "      <td>Shane Black</td>\n",
       "      <td>195</td>\n",
       "      <td>408992272.0</td>\n",
       "      <td>Action|Adventure|Sci-Fi</td>\n",
       "      <td>Iron Man 3</td>\n",
       "      <td>2013</td>\n",
       "      <td>English</td>\n",
       "      <td>USA</td>\n",
       "      <td>200000000.0</td>\n",
       "      <td>7.2</td>\n",
       "      <td>Robert Downey Jr.,Jon Favreau,Don Cheadle</td>\n",
       "      <td>95000</td>\n",
       "    </tr>\n",
       "    <tr>\n",
       "      <th>2</th>\n",
       "      <td>Quentin Tarantino</td>\n",
       "      <td>187</td>\n",
       "      <td>54116191.0</td>\n",
       "      <td>Crime|Drama|Mystery|Thriller|Western</td>\n",
       "      <td>The Hateful Eight</td>\n",
       "      <td>2015</td>\n",
       "      <td>English</td>\n",
       "      <td>USA</td>\n",
       "      <td>44000000.0</td>\n",
       "      <td>7.9</td>\n",
       "      <td>Craig Stark,Jennifer Jason Leigh,Zoë Bell</td>\n",
       "      <td>114000</td>\n",
       "    </tr>\n",
       "    <tr>\n",
       "      <th>3</th>\n",
       "      <td>Kenneth Lonergan</td>\n",
       "      <td>186</td>\n",
       "      <td>46495.0</td>\n",
       "      <td>Drama</td>\n",
       "      <td>Margaret</td>\n",
       "      <td>2011</td>\n",
       "      <td>English</td>\n",
       "      <td>usa</td>\n",
       "      <td>14000000.0</td>\n",
       "      <td>6.5</td>\n",
       "      <td>Matt Damon,Kieran Culkin,John Gallagher Jr.</td>\n",
       "      <td>0</td>\n",
       "    </tr>\n",
       "    <tr>\n",
       "      <th>4</th>\n",
       "      <td>Peter Jackson</td>\n",
       "      <td>186</td>\n",
       "      <td>258355354.0</td>\n",
       "      <td>Adventure|Fantasy</td>\n",
       "      <td>The Hobbit: The Desolation of Smaug</td>\n",
       "      <td>2013</td>\n",
       "      <td>English</td>\n",
       "      <td>USA</td>\n",
       "      <td>225000000.0</td>\n",
       "      <td>7.9</td>\n",
       "      <td>Aidan Turner,Adam Brown,James Nesbitt</td>\n",
       "      <td>83000</td>\n",
       "    </tr>\n",
       "    <tr>\n",
       "      <th>...</th>\n",
       "      <td>...</td>\n",
       "      <td>...</td>\n",
       "      <td>...</td>\n",
       "      <td>...</td>\n",
       "      <td>...</td>\n",
       "      <td>...</td>\n",
       "      <td>...</td>\n",
       "      <td>...</td>\n",
       "      <td>...</td>\n",
       "      <td>...</td>\n",
       "      <td>...</td>\n",
       "      <td>...</td>\n",
       "    </tr>\n",
       "    <tr>\n",
       "      <th>85</th>\n",
       "      <td>Steve McQueen</td>\n",
       "      <td>134</td>\n",
       "      <td>56667870.0</td>\n",
       "      <td>Biography|Drama|History</td>\n",
       "      <td>12 Years a Slave</td>\n",
       "      <td>2013</td>\n",
       "      <td>English</td>\n",
       "      <td>USA</td>\n",
       "      <td>20000000.0</td>\n",
       "      <td>8.1</td>\n",
       "      <td>Quvenzhané Wallis,Scoot McNairy,Taran Killam</td>\n",
       "      <td>83000</td>\n",
       "    </tr>\n",
       "    <tr>\n",
       "      <th>86</th>\n",
       "      <td>Richard J. Lewis</td>\n",
       "      <td>134</td>\n",
       "      <td>7501404.0</td>\n",
       "      <td>Comedy|Drama</td>\n",
       "      <td>Barney's Version</td>\n",
       "      <td>2010</td>\n",
       "      <td>English</td>\n",
       "      <td>Canada</td>\n",
       "      <td>72500000.0</td>\n",
       "      <td>7.3</td>\n",
       "      <td>Mark Addy,Atom Egoyan,Paul Gross</td>\n",
       "      <td>0</td>\n",
       "    </tr>\n",
       "    <tr>\n",
       "      <th>87</th>\n",
       "      <td>Paul Greengrass</td>\n",
       "      <td>134</td>\n",
       "      <td>107100855.0</td>\n",
       "      <td>Biography|Drama|Thriller</td>\n",
       "      <td>Captain Phillips</td>\n",
       "      <td>2013</td>\n",
       "      <td>English</td>\n",
       "      <td>USA</td>\n",
       "      <td>55000000.0</td>\n",
       "      <td>7.9</td>\n",
       "      <td>Tom Hanks,Chris Mulkey,Michael Chernus</td>\n",
       "      <td>65000</td>\n",
       "    </tr>\n",
       "    <tr>\n",
       "      <th>88</th>\n",
       "      <td>David Ayer</td>\n",
       "      <td>134</td>\n",
       "      <td>85707116.0</td>\n",
       "      <td>Action|Drama|War</td>\n",
       "      <td>Fury</td>\n",
       "      <td>2014</td>\n",
       "      <td>English</td>\n",
       "      <td>USA</td>\n",
       "      <td>68000000.0</td>\n",
       "      <td>7.6</td>\n",
       "      <td>Brad Pitt,Logan Lerman,Jim Parrack</td>\n",
       "      <td>82000</td>\n",
       "    </tr>\n",
       "    <tr>\n",
       "      <th>89</th>\n",
       "      <td>Clint Eastwood</td>\n",
       "      <td>5</td>\n",
       "      <td>47034272.0</td>\n",
       "      <td>Biography|Drama|Music|Musical</td>\n",
       "      <td>Jersey Boys</td>\n",
       "      <td>2014</td>\n",
       "      <td>English</td>\n",
       "      <td>USA</td>\n",
       "      <td>40000000.0</td>\n",
       "      <td>6.9</td>\n",
       "      <td>Johnny Cannizzaro,Steve Schirripa,Scott Vance</td>\n",
       "      <td>16000</td>\n",
       "    </tr>\n",
       "  </tbody>\n",
       "</table>\n",
       "<p>90 rows × 12 columns</p>\n",
       "</div>"
      ],
      "text/plain": [
       "        director_name  duration        gross  \\\n",
       "0     Martin Scorsese       240  116866727.0   \n",
       "1         Shane Black       195  408992272.0   \n",
       "2   Quentin Tarantino       187   54116191.0   \n",
       "3    Kenneth Lonergan       186      46495.0   \n",
       "4       Peter Jackson       186  258355354.0   \n",
       "..                ...       ...          ...   \n",
       "85      Steve McQueen       134   56667870.0   \n",
       "86   Richard J. Lewis       134    7501404.0   \n",
       "87    Paul Greengrass       134  107100855.0   \n",
       "88         David Ayer       134   85707116.0   \n",
       "89     Clint Eastwood         5   47034272.0   \n",
       "\n",
       "                                  genres                          movie_title  \\\n",
       "0           Biography|Comedy|Crime|Drama              The Wolf of Wall Street   \n",
       "1                Action|Adventure|Sci-Fi                           Iron Man 3   \n",
       "2   Crime|Drama|Mystery|Thriller|Western                    The Hateful Eight   \n",
       "3                                  Drama                             Margaret   \n",
       "4                      Adventure|Fantasy  The Hobbit: The Desolation of Smaug   \n",
       "..                                   ...                                  ...   \n",
       "85               Biography|Drama|History                     12 Years a Slave   \n",
       "86                          Comedy|Drama                     Barney's Version   \n",
       "87              Biography|Drama|Thriller                     Captain Phillips   \n",
       "88                      Action|Drama|War                                 Fury   \n",
       "89         Biography|Drama|Music|Musical                          Jersey Boys   \n",
       "\n",
       "    title_year language country       budget  imdb_score  \\\n",
       "0         2013  English     USA  100000000.0         8.2   \n",
       "1         2013  English     USA  200000000.0         7.2   \n",
       "2         2015  English     USA   44000000.0         7.9   \n",
       "3         2011  English     usa   14000000.0         6.5   \n",
       "4         2013  English     USA  225000000.0         7.9   \n",
       "..         ...      ...     ...          ...         ...   \n",
       "85        2013  English     USA   20000000.0         8.1   \n",
       "86        2010  English  Canada   72500000.0         7.3   \n",
       "87        2013  English     USA   55000000.0         7.9   \n",
       "88        2014  English     USA   68000000.0         7.6   \n",
       "89        2014  English     USA   40000000.0         6.9   \n",
       "\n",
       "                                               actors  movie_facebook_likes  \n",
       "0   Leonardo DiCaprio,Matthew McConaughey,Jon Favreau                138000  \n",
       "1           Robert Downey Jr.,Jon Favreau,Don Cheadle                 95000  \n",
       "2           Craig Stark,Jennifer Jason Leigh,Zoë Bell                114000  \n",
       "3         Matt Damon,Kieran Culkin,John Gallagher Jr.                     0  \n",
       "4               Aidan Turner,Adam Brown,James Nesbitt                 83000  \n",
       "..                                                ...                   ...  \n",
       "85       Quvenzhané Wallis,Scoot McNairy,Taran Killam                 83000  \n",
       "86                   Mark Addy,Atom Egoyan,Paul Gross                     0  \n",
       "87             Tom Hanks,Chris Mulkey,Michael Chernus                 65000  \n",
       "88                 Brad Pitt,Logan Lerman,Jim Parrack                 82000  \n",
       "89      Johnny Cannizzaro,Steve Schirripa,Scott Vance                 16000  \n",
       "\n",
       "[90 rows x 12 columns]"
      ]
     },
     "execution_count": 60,
     "metadata": {},
     "output_type": "execute_result"
    }
   ],
   "source": [
    "imdb4[(imdb4['duration']>50) | (imdb4['duration']<500)]"
   ]
  },
  {
   "cell_type": "code",
   "execution_count": 61,
   "id": "57051a6b",
   "metadata": {
    "_cell_guid": "3255b9f3-9950-4f6b-a191-fdbfa7cdaed0",
    "_uuid": "90f77eb8-0f1c-40b5-be9a-8d27509d54fc",
    "collapsed": false,
    "execution": {
     "iopub.execute_input": "2024-01-04T19:24:01.715493Z",
     "iopub.status.busy": "2024-01-04T19:24:01.715085Z",
     "iopub.status.idle": "2024-01-04T19:24:01.724933Z",
     "shell.execute_reply": "2024-01-04T19:24:01.723417Z"
    },
    "id": "l8wdWEvxJFH3",
    "jupyter": {
     "outputs_hidden": false
    },
    "outputId": "911d4afa-2728-400a-e2b2-5585e9c53092",
    "papermill": {
     "duration": 0.066294,
     "end_time": "2024-01-04T19:24:01.727364",
     "exception": false,
     "start_time": "2024-01-04T19:24:01.661070",
     "status": "completed"
    },
    "tags": []
   },
   "outputs": [
    {
     "data": {
      "text/plain": [
       "90"
      ]
     },
     "execution_count": 61,
     "metadata": {},
     "output_type": "execute_result"
    }
   ],
   "source": [
    "len(imdb4[(imdb4['duration']>50) | (imdb4['duration']<500)])"
   ]
  },
  {
   "cell_type": "code",
   "execution_count": 62,
   "id": "eec922e9",
   "metadata": {
    "_cell_guid": "e1148b3e-fbc4-4913-b2fc-e9dd51bc5f64",
    "_uuid": "b1824e76-e9b4-4e67-aad1-5106f3220073",
    "collapsed": false,
    "execution": {
     "iopub.execute_input": "2024-01-04T19:24:01.833214Z",
     "iopub.status.busy": "2024-01-04T19:24:01.832810Z",
     "iopub.status.idle": "2024-01-04T19:24:01.840027Z",
     "shell.execute_reply": "2024-01-04T19:24:01.839031Z"
    },
    "id": "5KVYi6zHJI2D",
    "jupyter": {
     "outputs_hidden": false
    },
    "papermill": {
     "duration": 0.061596,
     "end_time": "2024-01-04T19:24:01.842440",
     "exception": false,
     "start_time": "2024-01-04T19:24:01.780844",
     "status": "completed"
    },
    "tags": []
   },
   "outputs": [],
   "source": [
    "mean_duration=imdb4[(imdb4['duration']>50) & (imdb4['duration']<500)]['duration'].mean()"
   ]
  },
  {
   "cell_type": "code",
   "execution_count": 63,
   "id": "c341e220",
   "metadata": {
    "_cell_guid": "37f38f6e-5dba-48c1-926e-96fa983ac1d2",
    "_uuid": "4cab5156-ca57-46ea-8702-999bee53cd8b",
    "collapsed": false,
    "execution": {
     "iopub.execute_input": "2024-01-04T19:24:01.949413Z",
     "iopub.status.busy": "2024-01-04T19:24:01.948791Z",
     "iopub.status.idle": "2024-01-04T19:24:01.957010Z",
     "shell.execute_reply": "2024-01-04T19:24:01.955384Z"
    },
    "id": "YYpdnymyJjOd",
    "jupyter": {
     "outputs_hidden": false
    },
    "outputId": "94483bdc-263a-41dd-f2a1-291fcde90370",
    "papermill": {
     "duration": 0.064924,
     "end_time": "2024-01-04T19:24:01.960208",
     "exception": false,
     "start_time": "2024-01-04T19:24:01.895284",
     "status": "completed"
    },
    "tags": []
   },
   "outputs": [
    {
     "data": {
      "text/plain": [
       "149.09302325581396"
      ]
     },
     "execution_count": 63,
     "metadata": {},
     "output_type": "execute_result"
    }
   ],
   "source": [
    "mean_duration"
   ]
  },
  {
   "cell_type": "code",
   "execution_count": 64,
   "id": "c7c11155",
   "metadata": {
    "_cell_guid": "b1d4fa27-ba02-47dd-9b1c-2cf283f327eb",
    "_uuid": "72281b3a-d3c5-404b-9ba5-beec2a6abc57",
    "collapsed": false,
    "execution": {
     "iopub.execute_input": "2024-01-04T19:24:02.078405Z",
     "iopub.status.busy": "2024-01-04T19:24:02.077967Z",
     "iopub.status.idle": "2024-01-04T19:24:02.487930Z",
     "shell.execute_reply": "2024-01-04T19:24:02.486413Z"
    },
    "id": "2FvlQ-DcKGhx",
    "jupyter": {
     "outputs_hidden": false
    },
    "outputId": "0aaebfab-03da-4195-959a-92f898194859",
    "papermill": {
     "duration": 0.474052,
     "end_time": "2024-01-04T19:24:02.491039",
     "exception": false,
     "start_time": "2024-01-04T19:24:02.016987",
     "status": "completed"
    },
    "tags": []
   },
   "outputs": [
    {
     "data": {
      "text/plain": [
       "array([[<Axes: title={'center': 'duration'}>]], dtype=object)"
      ]
     },
     "execution_count": 64,
     "metadata": {},
     "output_type": "execute_result"
    },
    {
     "data": {
      "image/png": "[encoded data removed]",
      "text/plain": [
       "<Figure size 640x480 with 1 Axes>"
      ]
     },
     "metadata": {},
     "output_type": "display_data"
    }
   ],
   "source": [
    "imdb4.hist('duration')"
   ]
  },
  {
   "cell_type": "code",
   "execution_count": 65,
   "id": "e232f680",
   "metadata": {
    "_cell_guid": "b967d74f-bfd9-4638-bca9-bb100b20f6b0",
    "_uuid": "5f69757c-f846-499f-88d5-dc9f66833d20",
    "collapsed": false,
    "execution": {
     "iopub.execute_input": "2024-01-04T19:24:02.606203Z",
     "iopub.status.busy": "2024-01-04T19:24:02.605775Z",
     "iopub.status.idle": "2024-01-04T19:24:02.612073Z",
     "shell.execute_reply": "2024-01-04T19:24:02.610301Z"
    },
    "id": "Ln60mKNOtTAn",
    "jupyter": {
     "outputs_hidden": false
    },
    "papermill": {
     "duration": 0.067965,
     "end_time": "2024-01-04T19:24:02.615062",
     "exception": false,
     "start_time": "2024-01-04T19:24:02.547097",
     "status": "completed"
    },
    "tags": []
   },
   "outputs": [],
   "source": [
    "#una forma de reemplazar:"
   ]
  },
  {
   "cell_type": "code",
   "execution_count": 66,
   "id": "91b75787",
   "metadata": {
    "_cell_guid": "609a5e40-0da9-46dd-b3c3-dc3f36e03424",
    "_uuid": "fd4ea23e-391b-4711-ad23-6b09c84472bd",
    "collapsed": false,
    "execution": {
     "iopub.execute_input": "2024-01-04T19:24:02.735350Z",
     "iopub.status.busy": "2024-01-04T19:24:02.734822Z",
     "iopub.status.idle": "2024-01-04T19:24:02.766010Z",
     "shell.execute_reply": "2024-01-04T19:24:02.764961Z"
    },
    "id": "JecW3IuTtW8q",
    "jupyter": {
     "outputs_hidden": false
    },
    "outputId": "3c499a20-e670-4ddd-a996-6fc8825ec2d8",
    "papermill": {
     "duration": 0.097928,
     "end_time": "2024-01-04T19:24:02.768964",
     "exception": false,
     "start_time": "2024-01-04T19:24:02.671036",
     "status": "completed"
    },
    "tags": []
   },
   "outputs": [
    {
     "data": {
      "text/html": [
       "<div>\n",
       "<style scoped>\n",
       "    .dataframe tbody tr th:only-of-type {\n",
       "        vertical-align: middle;\n",
       "    }\n",
       "\n",
       "    .dataframe tbody tr th {\n",
       "        vertical-align: top;\n",
       "    }\n",
       "\n",
       "    .dataframe thead th {\n",
       "        text-align: right;\n",
       "    }\n",
       "</style>\n",
       "<table border=\"1\" class=\"dataframe\">\n",
       "  <thead>\n",
       "    <tr style=\"text-align: right;\">\n",
       "      <th></th>\n",
       "      <th>director_name</th>\n",
       "      <th>duration</th>\n",
       "      <th>gross</th>\n",
       "      <th>genres</th>\n",
       "      <th>movie_title</th>\n",
       "      <th>title_year</th>\n",
       "      <th>language</th>\n",
       "      <th>country</th>\n",
       "      <th>budget</th>\n",
       "      <th>imdb_score</th>\n",
       "      <th>actors</th>\n",
       "      <th>movie_facebook_likes</th>\n",
       "    </tr>\n",
       "  </thead>\n",
       "  <tbody>\n",
       "    <tr>\n",
       "      <th>0</th>\n",
       "      <td>Martin Scorsese</td>\n",
       "      <td>240</td>\n",
       "      <td>1.168667e+08</td>\n",
       "      <td>Biography|Comedy|Crime|Drama</td>\n",
       "      <td>The Wolf of Wall Street</td>\n",
       "      <td>2013</td>\n",
       "      <td>English</td>\n",
       "      <td>USA</td>\n",
       "      <td>100000000.0</td>\n",
       "      <td>8.2</td>\n",
       "      <td>Leonardo DiCaprio,Matthew McConaughey,Jon Favreau</td>\n",
       "      <td>138000</td>\n",
       "    </tr>\n",
       "    <tr>\n",
       "      <th>1</th>\n",
       "      <td>Shane Black</td>\n",
       "      <td>195</td>\n",
       "      <td>4.089923e+08</td>\n",
       "      <td>Action|Adventure|Sci-Fi</td>\n",
       "      <td>Iron Man 3</td>\n",
       "      <td>2013</td>\n",
       "      <td>English</td>\n",
       "      <td>USA</td>\n",
       "      <td>200000000.0</td>\n",
       "      <td>7.2</td>\n",
       "      <td>Robert Downey Jr.,Jon Favreau,Don Cheadle</td>\n",
       "      <td>95000</td>\n",
       "    </tr>\n",
       "    <tr>\n",
       "      <th>2</th>\n",
       "      <td>Quentin Tarantino</td>\n",
       "      <td>187</td>\n",
       "      <td>5.411619e+07</td>\n",
       "      <td>Crime|Drama|Mystery|Thriller|Western</td>\n",
       "      <td>The Hateful Eight</td>\n",
       "      <td>2015</td>\n",
       "      <td>English</td>\n",
       "      <td>USA</td>\n",
       "      <td>44000000.0</td>\n",
       "      <td>7.9</td>\n",
       "      <td>Craig Stark,Jennifer Jason Leigh,Zoë Bell</td>\n",
       "      <td>114000</td>\n",
       "    </tr>\n",
       "    <tr>\n",
       "      <th>3</th>\n",
       "      <td>Kenneth Lonergan</td>\n",
       "      <td>186</td>\n",
       "      <td>4.649500e+04</td>\n",
       "      <td>Drama</td>\n",
       "      <td>Margaret</td>\n",
       "      <td>2011</td>\n",
       "      <td>English</td>\n",
       "      <td>usa</td>\n",
       "      <td>14000000.0</td>\n",
       "      <td>6.5</td>\n",
       "      <td>Matt Damon,Kieran Culkin,John Gallagher Jr.</td>\n",
       "      <td>0</td>\n",
       "    </tr>\n",
       "    <tr>\n",
       "      <th>4</th>\n",
       "      <td>Peter Jackson</td>\n",
       "      <td>186</td>\n",
       "      <td>2.583554e+08</td>\n",
       "      <td>Adventure|Fantasy</td>\n",
       "      <td>The Hobbit: The Desolation of Smaug</td>\n",
       "      <td>2013</td>\n",
       "      <td>English</td>\n",
       "      <td>USA</td>\n",
       "      <td>225000000.0</td>\n",
       "      <td>7.9</td>\n",
       "      <td>Aidan Turner,Adam Brown,James Nesbitt</td>\n",
       "      <td>83000</td>\n",
       "    </tr>\n",
       "    <tr>\n",
       "      <th>5</th>\n",
       "      <td>SIN DIRECTOR</td>\n",
       "      <td>183</td>\n",
       "      <td>3.302491e+08</td>\n",
       "      <td>Action|Adventure|Sci-Fi</td>\n",
       "      <td>Batman v Superman: Dawn of Justice</td>\n",
       "      <td>202</td>\n",
       "      <td>English</td>\n",
       "      <td>USA</td>\n",
       "      <td>250000000.0</td>\n",
       "      <td>6.9</td>\n",
       "      <td>Henry Cavill,Lauren Cohan,Alan D. Purwin</td>\n",
       "      <td>197000</td>\n",
       "    </tr>\n",
       "    <tr>\n",
       "      <th>6</th>\n",
       "      <td>Peter Jackson</td>\n",
       "      <td>-50</td>\n",
       "      <td>3.030012e+08</td>\n",
       "      <td>Adventure|Fantasy</td>\n",
       "      <td>The Hobbit: An Unexpected Journey</td>\n",
       "      <td>2012</td>\n",
       "      <td>English</td>\n",
       "      <td>USA</td>\n",
       "      <td>180000000.0</td>\n",
       "      <td>7.9</td>\n",
       "      <td>Aidan Turner,Adam Brown,James Nesbitt</td>\n",
       "      <td>166000</td>\n",
       "    </tr>\n",
       "    <tr>\n",
       "      <th>7</th>\n",
       "      <td>Edward Hall</td>\n",
       "      <td>180</td>\n",
       "      <td>1.477886e+08</td>\n",
       "      <td>Drama|Romance</td>\n",
       "      <td>Restless</td>\n",
       "      <td>2012</td>\n",
       "      <td>English</td>\n",
       "      <td>UK</td>\n",
       "      <td>72500000.0</td>\n",
       "      <td>7.2</td>\n",
       "      <td>Rufus Sewell,Hayley Atwell,Charlotte Rampling</td>\n",
       "      <td>434</td>\n",
       "    </tr>\n",
       "    <tr>\n",
       "      <th>8</th>\n",
       "      <td>Joss Whedon</td>\n",
       "      <td>173</td>\n",
       "      <td>6.232795e+08</td>\n",
       "      <td>Action|Adventure|Sci-Fi</td>\n",
       "      <td>The Avengers</td>\n",
       "      <td>2012</td>\n",
       "      <td>English</td>\n",
       "      <td>USA</td>\n",
       "      <td>220000000.0</td>\n",
       "      <td>8.1</td>\n",
       "      <td>Chris Hemsworth,Robert Downey Jr.,Scarlett Joh...</td>\n",
       "      <td>123000</td>\n",
       "    </tr>\n",
       "    <tr>\n",
       "      <th>9</th>\n",
       "      <td>Tom Tykwer</td>\n",
       "      <td>172</td>\n",
       "      <td>2.709858e+07</td>\n",
       "      <td>Drama|Sci-Fi</td>\n",
       "      <td>Cloud Atlas</td>\n",
       "      <td>2012</td>\n",
       "      <td>English</td>\n",
       "      <td>Germany</td>\n",
       "      <td>102000000.0</td>\n",
       "      <td>-7.5</td>\n",
       "      <td>Tom Hanks,Jim Sturgess,Jim Broadbent</td>\n",
       "      <td>124000</td>\n",
       "    </tr>\n",
       "  </tbody>\n",
       "</table>\n",
       "</div>"
      ],
      "text/plain": [
       "       director_name  duration         gross  \\\n",
       "0    Martin Scorsese       240  1.168667e+08   \n",
       "1        Shane Black       195  4.089923e+08   \n",
       "2  Quentin Tarantino       187  5.411619e+07   \n",
       "3   Kenneth Lonergan       186  4.649500e+04   \n",
       "4      Peter Jackson       186  2.583554e+08   \n",
       "5       SIN DIRECTOR       183  3.302491e+08   \n",
       "6      Peter Jackson       -50  3.030012e+08   \n",
       "7        Edward Hall       180  1.477886e+08   \n",
       "8        Joss Whedon       173  6.232795e+08   \n",
       "9         Tom Tykwer       172  2.709858e+07   \n",
       "\n",
       "                                 genres                          movie_title  \\\n",
       "0          Biography|Comedy|Crime|Drama              The Wolf of Wall Street   \n",
       "1               Action|Adventure|Sci-Fi                           Iron Man 3   \n",
       "2  Crime|Drama|Mystery|Thriller|Western                    The Hateful Eight   \n",
       "3                                 Drama                             Margaret   \n",
       "4                     Adventure|Fantasy  The Hobbit: The Desolation of Smaug   \n",
       "5               Action|Adventure|Sci-Fi   Batman v Superman: Dawn of Justice   \n",
       "6                     Adventure|Fantasy    The Hobbit: An Unexpected Journey   \n",
       "7                         Drama|Romance                             Restless   \n",
       "8               Action|Adventure|Sci-Fi                         The Avengers   \n",
       "9                          Drama|Sci-Fi                          Cloud Atlas   \n",
       "\n",
       "   title_year language  country       budget  imdb_score  \\\n",
       "0        2013  English      USA  100000000.0         8.2   \n",
       "1        2013  English      USA  200000000.0         7.2   \n",
       "2        2015  English      USA   44000000.0         7.9   \n",
       "3        2011  English      usa   14000000.0         6.5   \n",
       "4        2013  English      USA  225000000.0         7.9   \n",
       "5         202  English      USA  250000000.0         6.9   \n",
       "6        2012  English      USA  180000000.0         7.9   \n",
       "7        2012  English       UK   72500000.0         7.2   \n",
       "8        2012  English      USA  220000000.0         8.1   \n",
       "9        2012  English  Germany  102000000.0        -7.5   \n",
       "\n",
       "                                              actors  movie_facebook_likes  \n",
       "0  Leonardo DiCaprio,Matthew McConaughey,Jon Favreau                138000  \n",
       "1          Robert Downey Jr.,Jon Favreau,Don Cheadle                 95000  \n",
       "2          Craig Stark,Jennifer Jason Leigh,Zoë Bell                114000  \n",
       "3        Matt Damon,Kieran Culkin,John Gallagher Jr.                     0  \n",
       "4              Aidan Turner,Adam Brown,James Nesbitt                 83000  \n",
       "5           Henry Cavill,Lauren Cohan,Alan D. Purwin                197000  \n",
       "6              Aidan Turner,Adam Brown,James Nesbitt                166000  \n",
       "7      Rufus Sewell,Hayley Atwell,Charlotte Rampling                   434  \n",
       "8  Chris Hemsworth,Robert Downey Jr.,Scarlett Joh...                123000  \n",
       "9               Tom Hanks,Jim Sturgess,Jim Broadbent                124000  "
      ]
     },
     "execution_count": 66,
     "metadata": {},
     "output_type": "execute_result"
    }
   ],
   "source": [
    "imdb4.head(10)"
   ]
  },
  {
   "cell_type": "code",
   "execution_count": 67,
   "id": "99315687",
   "metadata": {
    "_cell_guid": "3f13fddb-4986-4170-8af8-ce33c579cc07",
    "_uuid": "b363f7cb-50ac-473d-bea5-d24e92e7e15a",
    "collapsed": false,
    "execution": {
     "iopub.execute_input": "2024-01-04T19:24:02.889403Z",
     "iopub.status.busy": "2024-01-04T19:24:02.888483Z",
     "iopub.status.idle": "2024-01-04T19:24:02.898681Z",
     "shell.execute_reply": "2024-01-04T19:24:02.897309Z"
    },
    "id": "24oOVuPjtYRt",
    "jupyter": {
     "outputs_hidden": false
    },
    "papermill": {
     "duration": 0.073376,
     "end_time": "2024-01-04T19:24:02.901379",
     "exception": false,
     "start_time": "2024-01-04T19:24:02.828003",
     "status": "completed"
    },
    "tags": []
   },
   "outputs": [],
   "source": [
    "imdb4.loc[(imdb4['duration']<50),'duration']=mean_duration"
   ]
  },
  {
   "cell_type": "code",
   "execution_count": 68,
   "id": "981b4222",
   "metadata": {
    "_cell_guid": "dca5873f-0f23-4758-84b0-623ffc69f0b5",
    "_uuid": "49ee3484-08a5-47f0-a132-3d17343f06ba",
    "collapsed": false,
    "execution": {
     "iopub.execute_input": "2024-01-04T19:24:03.009821Z",
     "iopub.status.busy": "2024-01-04T19:24:03.009340Z",
     "iopub.status.idle": "2024-01-04T19:24:03.039654Z",
     "shell.execute_reply": "2024-01-04T19:24:03.038177Z"
    },
    "id": "KN8FxXrFthfn",
    "jupyter": {
     "outputs_hidden": false
    },
    "outputId": "c76e9f18-751e-45e3-beb7-79070aed609f",
    "papermill": {
     "duration": 0.089181,
     "end_time": "2024-01-04T19:24:03.043061",
     "exception": false,
     "start_time": "2024-01-04T19:24:02.953880",
     "status": "completed"
    },
    "tags": []
   },
   "outputs": [
    {
     "data": {
      "text/html": [
       "<div>\n",
       "<style scoped>\n",
       "    .dataframe tbody tr th:only-of-type {\n",
       "        vertical-align: middle;\n",
       "    }\n",
       "\n",
       "    .dataframe tbody tr th {\n",
       "        vertical-align: top;\n",
       "    }\n",
       "\n",
       "    .dataframe thead th {\n",
       "        text-align: right;\n",
       "    }\n",
       "</style>\n",
       "<table border=\"1\" class=\"dataframe\">\n",
       "  <thead>\n",
       "    <tr style=\"text-align: right;\">\n",
       "      <th></th>\n",
       "      <th>color</th>\n",
       "      <th>director_name</th>\n",
       "      <th>duration</th>\n",
       "      <th>gross</th>\n",
       "      <th>genres</th>\n",
       "      <th>movie_title</th>\n",
       "      <th>title_year</th>\n",
       "      <th>language</th>\n",
       "      <th>country</th>\n",
       "      <th>budget</th>\n",
       "      <th>imdb_score</th>\n",
       "      <th>actors</th>\n",
       "      <th>movie_facebook_likes</th>\n",
       "    </tr>\n",
       "  </thead>\n",
       "  <tbody>\n",
       "    <tr>\n",
       "      <th>0</th>\n",
       "      <td>Color</td>\n",
       "      <td>Martin Scorsese</td>\n",
       "      <td>240</td>\n",
       "      <td>116866727.0</td>\n",
       "      <td>Biography|Comedy|Crime|Drama</td>\n",
       "      <td>The Wolf of Wall Street</td>\n",
       "      <td>2013</td>\n",
       "      <td>English</td>\n",
       "      <td>USA</td>\n",
       "      <td>100000000.0</td>\n",
       "      <td>8.2</td>\n",
       "      <td>Leonardo DiCaprio,Matthew McConaughey,Jon Favreau</td>\n",
       "      <td>138000</td>\n",
       "    </tr>\n",
       "    <tr>\n",
       "      <th>1</th>\n",
       "      <td>Color</td>\n",
       "      <td>Shane Black</td>\n",
       "      <td>195</td>\n",
       "      <td>408992272.0</td>\n",
       "      <td>Action|Adventure|Sci-Fi</td>\n",
       "      <td>Iron Man 3</td>\n",
       "      <td>2013</td>\n",
       "      <td>English</td>\n",
       "      <td>USA</td>\n",
       "      <td>200000000.0</td>\n",
       "      <td>7.2</td>\n",
       "      <td>Robert Downey Jr.,Jon Favreau,Don Cheadle</td>\n",
       "      <td>95000</td>\n",
       "    </tr>\n",
       "    <tr>\n",
       "      <th>2</th>\n",
       "      <td>color</td>\n",
       "      <td>Quentin Tarantino</td>\n",
       "      <td>187</td>\n",
       "      <td>54116191.0</td>\n",
       "      <td>Crime|Drama|Mystery|Thriller|Western</td>\n",
       "      <td>The Hateful Eight</td>\n",
       "      <td>2015</td>\n",
       "      <td>English</td>\n",
       "      <td>USA</td>\n",
       "      <td>44000000.0</td>\n",
       "      <td>7.9</td>\n",
       "      <td>Craig Stark,Jennifer Jason Leigh,Zoë Bell</td>\n",
       "      <td>114000</td>\n",
       "    </tr>\n",
       "    <tr>\n",
       "      <th>3</th>\n",
       "      <td>Color</td>\n",
       "      <td>Kenneth Lonergan</td>\n",
       "      <td>186</td>\n",
       "      <td>46495.0</td>\n",
       "      <td>Drama</td>\n",
       "      <td>Margaret</td>\n",
       "      <td>2011</td>\n",
       "      <td>English</td>\n",
       "      <td>usa</td>\n",
       "      <td>14000000.0</td>\n",
       "      <td>6.5</td>\n",
       "      <td>Matt Damon,Kieran Culkin,John Gallagher Jr.</td>\n",
       "      <td>0</td>\n",
       "    </tr>\n",
       "    <tr>\n",
       "      <th>4</th>\n",
       "      <td>Color</td>\n",
       "      <td>Peter Jackson</td>\n",
       "      <td>186</td>\n",
       "      <td>258355354.0</td>\n",
       "      <td>Adventure|Fantasy</td>\n",
       "      <td>The Hobbit: The Desolation of Smaug</td>\n",
       "      <td>2013</td>\n",
       "      <td>English</td>\n",
       "      <td>USA</td>\n",
       "      <td>225000000.0</td>\n",
       "      <td>7.9</td>\n",
       "      <td>Aidan Turner,Adam Brown,James Nesbitt</td>\n",
       "      <td>83000</td>\n",
       "    </tr>\n",
       "    <tr>\n",
       "      <th>5</th>\n",
       "      <td>NaN</td>\n",
       "      <td>NaN</td>\n",
       "      <td>183</td>\n",
       "      <td>330249062.0</td>\n",
       "      <td>Action|Adventure|Sci-Fi</td>\n",
       "      <td>Batman v Superman: Dawn of Justice</td>\n",
       "      <td>202</td>\n",
       "      <td>English</td>\n",
       "      <td>USA</td>\n",
       "      <td>250000000.0</td>\n",
       "      <td>6.9</td>\n",
       "      <td>Henry Cavill,Lauren Cohan,Alan D. Purwin</td>\n",
       "      <td>197000</td>\n",
       "    </tr>\n",
       "    <tr>\n",
       "      <th>6</th>\n",
       "      <td>Color</td>\n",
       "      <td>Peter Jackson</td>\n",
       "      <td>-50</td>\n",
       "      <td>303001229.0</td>\n",
       "      <td>Adventure|Fantasy</td>\n",
       "      <td>The Hobbit: An Unexpected Journey</td>\n",
       "      <td>2012</td>\n",
       "      <td>English</td>\n",
       "      <td>USA</td>\n",
       "      <td>180000000.0</td>\n",
       "      <td>7.9</td>\n",
       "      <td>Aidan Turner,Adam Brown,James Nesbitt</td>\n",
       "      <td>166000</td>\n",
       "    </tr>\n",
       "    <tr>\n",
       "      <th>7</th>\n",
       "      <td>Color</td>\n",
       "      <td>Edward Hall</td>\n",
       "      <td>180</td>\n",
       "      <td>NaN</td>\n",
       "      <td>Drama|Romance</td>\n",
       "      <td>Restless</td>\n",
       "      <td>2012</td>\n",
       "      <td>English</td>\n",
       "      <td>UK</td>\n",
       "      <td>NaN</td>\n",
       "      <td>7.2</td>\n",
       "      <td>Rufus Sewell,Hayley Atwell,Charlotte Rampling</td>\n",
       "      <td>434</td>\n",
       "    </tr>\n",
       "    <tr>\n",
       "      <th>8</th>\n",
       "      <td>Color</td>\n",
       "      <td>Joss Whedon</td>\n",
       "      <td>173</td>\n",
       "      <td>623279547.0</td>\n",
       "      <td>Action|Adventure|Sci-Fi</td>\n",
       "      <td>The Avengers</td>\n",
       "      <td>2012</td>\n",
       "      <td>English</td>\n",
       "      <td>USA</td>\n",
       "      <td>220000000.0</td>\n",
       "      <td>8.1</td>\n",
       "      <td>Chris Hemsworth,Robert Downey Jr.,Scarlett Joh...</td>\n",
       "      <td>123000</td>\n",
       "    </tr>\n",
       "    <tr>\n",
       "      <th>9</th>\n",
       "      <td>Color</td>\n",
       "      <td>Joss Whedon</td>\n",
       "      <td>173</td>\n",
       "      <td>623279547.0</td>\n",
       "      <td>Action|Adventure|Sci-Fi</td>\n",
       "      <td>The Avengers</td>\n",
       "      <td>2012</td>\n",
       "      <td>English</td>\n",
       "      <td>USA</td>\n",
       "      <td>220000000.0</td>\n",
       "      <td>8.1</td>\n",
       "      <td>Chris Hemsworth,Robert Downey Jr.,Scarlett Joh...</td>\n",
       "      <td>123000</td>\n",
       "    </tr>\n",
       "  </tbody>\n",
       "</table>\n",
       "</div>"
      ],
      "text/plain": [
       "    color      director_name  duration        gross  \\\n",
       "0   Color    Martin Scorsese       240  116866727.0   \n",
       "1   Color        Shane Black       195  408992272.0   \n",
       "2  color   Quentin Tarantino       187   54116191.0   \n",
       "3   Color   Kenneth Lonergan       186      46495.0   \n",
       "4   Color      Peter Jackson       186  258355354.0   \n",
       "5     NaN                NaN       183  330249062.0   \n",
       "6   Color      Peter Jackson       -50  303001229.0   \n",
       "7   Color        Edward Hall       180          NaN   \n",
       "8   Color        Joss Whedon       173  623279547.0   \n",
       "9   Color        Joss Whedon       173  623279547.0   \n",
       "\n",
       "                                 genres                          movie_title  \\\n",
       "0          Biography|Comedy|Crime|Drama              The Wolf of Wall Street   \n",
       "1               Action|Adventure|Sci-Fi                           Iron Man 3   \n",
       "2  Crime|Drama|Mystery|Thriller|Western                    The Hateful Eight   \n",
       "3                                 Drama                             Margaret   \n",
       "4                     Adventure|Fantasy  The Hobbit: The Desolation of Smaug   \n",
       "5               Action|Adventure|Sci-Fi   Batman v Superman: Dawn of Justice   \n",
       "6                     Adventure|Fantasy    The Hobbit: An Unexpected Journey   \n",
       "7                         Drama|Romance                             Restless   \n",
       "8               Action|Adventure|Sci-Fi                         The Avengers   \n",
       "9               Action|Adventure|Sci-Fi                         The Avengers   \n",
       "\n",
       "   title_year language country       budget  imdb_score  \\\n",
       "0        2013  English     USA  100000000.0         8.2   \n",
       "1        2013  English     USA  200000000.0         7.2   \n",
       "2        2015  English     USA   44000000.0         7.9   \n",
       "3        2011  English     usa   14000000.0         6.5   \n",
       "4        2013  English     USA  225000000.0         7.9   \n",
       "5         202  English     USA  250000000.0         6.9   \n",
       "6        2012  English     USA  180000000.0         7.9   \n",
       "7        2012  English      UK          NaN         7.2   \n",
       "8        2012  English     USA  220000000.0         8.1   \n",
       "9        2012  English     USA  220000000.0         8.1   \n",
       "\n",
       "                                              actors  movie_facebook_likes  \n",
       "0  Leonardo DiCaprio,Matthew McConaughey,Jon Favreau                138000  \n",
       "1          Robert Downey Jr.,Jon Favreau,Don Cheadle                 95000  \n",
       "2          Craig Stark,Jennifer Jason Leigh,Zoë Bell                114000  \n",
       "3        Matt Damon,Kieran Culkin,John Gallagher Jr.                     0  \n",
       "4              Aidan Turner,Adam Brown,James Nesbitt                 83000  \n",
       "5           Henry Cavill,Lauren Cohan,Alan D. Purwin                197000  \n",
       "6              Aidan Turner,Adam Brown,James Nesbitt                166000  \n",
       "7      Rufus Sewell,Hayley Atwell,Charlotte Rampling                   434  \n",
       "8  Chris Hemsworth,Robert Downey Jr.,Scarlett Joh...                123000  \n",
       "9  Chris Hemsworth,Robert Downey Jr.,Scarlett Joh...                123000  "
      ]
     },
     "execution_count": 68,
     "metadata": {},
     "output_type": "execute_result"
    }
   ],
   "source": [
    "imdb.head(10)"
   ]
  },
  {
   "cell_type": "code",
   "execution_count": 69,
   "id": "7b4eb58f",
   "metadata": {
    "_cell_guid": "807a94a8-48c9-4aa2-86ad-8db2c4013ca6",
    "_uuid": "7c333b2c-211e-451c-9ea2-dd2d993966a1",
    "collapsed": false,
    "execution": {
     "iopub.execute_input": "2024-01-04T19:24:03.157459Z",
     "iopub.status.busy": "2024-01-04T19:24:03.156947Z",
     "iopub.status.idle": "2024-01-04T19:24:03.163519Z",
     "shell.execute_reply": "2024-01-04T19:24:03.162503Z"
    },
    "id": "cwBLQYs9t9Uk",
    "jupyter": {
     "outputs_hidden": false
    },
    "papermill": {
     "duration": 0.069736,
     "end_time": "2024-01-04T19:24:03.166044",
     "exception": false,
     "start_time": "2024-01-04T19:24:03.096308",
     "status": "completed"
    },
    "tags": []
   },
   "outputs": [],
   "source": [
    "imdb4.loc[(imdb4['duration']>5000),'duration']=mean_duration"
   ]
  },
  {
   "cell_type": "code",
   "execution_count": 70,
   "id": "708dafa1",
   "metadata": {
    "_cell_guid": "9f139725-6d0d-421d-8703-01625423f835",
    "_uuid": "7ebc0617-2d02-4b91-8182-fa81c80d80b1",
    "collapsed": false,
    "execution": {
     "iopub.execute_input": "2024-01-04T19:24:03.286434Z",
     "iopub.status.busy": "2024-01-04T19:24:03.285529Z",
     "iopub.status.idle": "2024-01-04T19:24:03.636161Z",
     "shell.execute_reply": "2024-01-04T19:24:03.634420Z"
    },
    "id": "5E2hBOVXuGL9",
    "jupyter": {
     "outputs_hidden": false
    },
    "outputId": "38ec974f-4da2-42ff-d64e-52ab330a781c",
    "papermill": {
     "duration": 0.415117,
     "end_time": "2024-01-04T19:24:03.639498",
     "exception": false,
     "start_time": "2024-01-04T19:24:03.224381",
     "status": "completed"
    },
    "tags": []
   },
   "outputs": [
    {
     "data": {
      "text/plain": [
       "array([[<Axes: title={'center': 'duration'}>]], dtype=object)"
      ]
     },
     "execution_count": 70,
     "metadata": {},
     "output_type": "execute_result"
    },
    {
     "data": {
      "image/png": "[encoded data removed]",
      "text/plain": [
       "<Figure size 640x480 with 1 Axes>"
      ]
     },
     "metadata": {},
     "output_type": "display_data"
    }
   ],
   "source": [
    "imdb4.hist('duration')"
   ]
  },
  {
   "cell_type": "code",
   "execution_count": 71,
   "id": "85bc3bea",
   "metadata": {
    "_cell_guid": "b5a584da-5992-495c-8ada-a4cc40037db5",
    "_uuid": "5a8d2279-a435-4690-b986-f439d5b6af56",
    "collapsed": false,
    "execution": {
     "iopub.execute_input": "2024-01-04T19:24:03.757367Z",
     "iopub.status.busy": "2024-01-04T19:24:03.756901Z",
     "iopub.status.idle": "2024-01-04T19:24:03.761747Z",
     "shell.execute_reply": "2024-01-04T19:24:03.760621Z"
    },
    "id": "GhzcioAIuIIG",
    "jupyter": {
     "outputs_hidden": false
    },
    "papermill": {
     "duration": 0.067662,
     "end_time": "2024-01-04T19:24:03.764570",
     "exception": false,
     "start_time": "2024-01-04T19:24:03.696908",
     "status": "completed"
    },
    "tags": []
   },
   "outputs": [],
   "source": [
    "#otra forma"
   ]
  },
  {
   "cell_type": "code",
   "execution_count": 72,
   "id": "2246056f",
   "metadata": {
    "_cell_guid": "ce9afa13-4500-48b0-9ed6-69a8b021d813",
    "_uuid": "7e314046-6c7f-4e81-a22a-5995eb92f8c7",
    "collapsed": false,
    "execution": {
     "iopub.execute_input": "2024-01-04T19:24:03.883235Z",
     "iopub.status.busy": "2024-01-04T19:24:03.882097Z",
     "iopub.status.idle": "2024-01-04T19:24:03.888771Z",
     "shell.execute_reply": "2024-01-04T19:24:03.887614Z"
    },
    "id": "6d6GRDaZuVnK",
    "jupyter": {
     "outputs_hidden": false
    },
    "papermill": {
     "duration": 0.0696,
     "end_time": "2024-01-04T19:24:03.892094",
     "exception": false,
     "start_time": "2024-01-04T19:24:03.822494",
     "status": "completed"
    },
    "tags": []
   },
   "outputs": [],
   "source": [
    "imdb4=imdb3.copy()"
   ]
  },
  {
   "cell_type": "code",
   "execution_count": 73,
   "id": "566e2fe6",
   "metadata": {
    "_cell_guid": "2d6049c2-3c13-4f2b-bc3a-ea7bcde22536",
    "_uuid": "8e998a95-0872-4739-8f1e-10357cd8cc9a",
    "collapsed": false,
    "execution": {
     "iopub.execute_input": "2024-01-04T19:24:04.006957Z",
     "iopub.status.busy": "2024-01-04T19:24:04.006439Z",
     "iopub.status.idle": "2024-01-04T19:24:04.014252Z",
     "shell.execute_reply": "2024-01-04T19:24:04.012757Z"
    },
    "id": "kS5FX7NpuZ_6",
    "jupyter": {
     "outputs_hidden": false
    },
    "papermill": {
     "duration": 0.067976,
     "end_time": "2024-01-04T19:24:04.016788",
     "exception": false,
     "start_time": "2024-01-04T19:24:03.948812",
     "status": "completed"
    },
    "tags": []
   },
   "outputs": [],
   "source": [
    "imdb4['duration']=np.where(imdb4['duration']<50,mean_duration,imdb4['duration'])"
   ]
  },
  {
   "cell_type": "code",
   "execution_count": 74,
   "id": "97bf11bc",
   "metadata": {
    "_cell_guid": "67a1cda4-92f2-447c-81fa-94e64d45d4e0",
    "_uuid": "1dcfe10f-848f-46cc-bd52-b8806f6b4656",
    "collapsed": false,
    "execution": {
     "iopub.execute_input": "2024-01-04T19:24:04.126221Z",
     "iopub.status.busy": "2024-01-04T19:24:04.125695Z",
     "iopub.status.idle": "2024-01-04T19:24:04.135258Z",
     "shell.execute_reply": "2024-01-04T19:24:04.133488Z"
    },
    "id": "1mY2LxQsvJtD",
    "jupyter": {
     "outputs_hidden": false
    },
    "papermill": {
     "duration": 0.068548,
     "end_time": "2024-01-04T19:24:04.138233",
     "exception": false,
     "start_time": "2024-01-04T19:24:04.069685",
     "status": "completed"
    },
    "tags": []
   },
   "outputs": [],
   "source": [
    "imdb4['duration']=np.where(imdb4['duration']>500,mean_duration,imdb4['duration'])"
   ]
  },
  {
   "cell_type": "code",
   "execution_count": 75,
   "id": "d1647cca",
   "metadata": {
    "_cell_guid": "fc76584f-78c4-4b6d-82d2-3e3c714c2b1a",
    "_uuid": "6e359a11-1b17-41f9-97bc-c571202ea72a",
    "collapsed": false,
    "execution": {
     "iopub.execute_input": "2024-01-04T19:24:04.249969Z",
     "iopub.status.busy": "2024-01-04T19:24:04.247874Z",
     "iopub.status.idle": "2024-01-04T19:24:04.254516Z",
     "shell.execute_reply": "2024-01-04T19:24:04.253026Z"
    },
    "id": "xiJWcnfkvMPm",
    "jupyter": {
     "outputs_hidden": false
    },
    "papermill": {
     "duration": 0.064598,
     "end_time": "2024-01-04T19:24:04.257441",
     "exception": false,
     "start_time": "2024-01-04T19:24:04.192843",
     "status": "completed"
    },
    "tags": []
   },
   "outputs": [],
   "source": [
    "#otra forma de hacerlo : voy a eliminar"
   ]
  },
  {
   "cell_type": "code",
   "execution_count": 76,
   "id": "f8e72947",
   "metadata": {
    "_cell_guid": "d40c2d3c-4ff5-462e-bade-ae97508fcee1",
    "_uuid": "b97fb56a-21b4-4b9d-809a-fc118a360cbc",
    "collapsed": false,
    "execution": {
     "iopub.execute_input": "2024-01-04T19:24:04.372791Z",
     "iopub.status.busy": "2024-01-04T19:24:04.372264Z",
     "iopub.status.idle": "2024-01-04T19:24:04.379562Z",
     "shell.execute_reply": "2024-01-04T19:24:04.378008Z"
    },
    "id": "6rp0_3MJvQpZ",
    "jupyter": {
     "outputs_hidden": false
    },
    "papermill": {
     "duration": 0.069742,
     "end_time": "2024-01-04T19:24:04.382125",
     "exception": false,
     "start_time": "2024-01-04T19:24:04.312383",
     "status": "completed"
    },
    "tags": []
   },
   "outputs": [],
   "source": [
    "imdb4=imdb3.copy()"
   ]
  },
  {
   "cell_type": "code",
   "execution_count": 77,
   "id": "1c9ed2d2",
   "metadata": {
    "_cell_guid": "fa8faab6-071e-4e5a-9d39-d0ee82446085",
    "_uuid": "1be969d3-e6a0-4c3b-ae32-09c4d7c2cd47",
    "collapsed": false,
    "execution": {
     "iopub.execute_input": "2024-01-04T19:24:04.493674Z",
     "iopub.status.busy": "2024-01-04T19:24:04.493214Z",
     "iopub.status.idle": "2024-01-04T19:24:04.501858Z",
     "shell.execute_reply": "2024-01-04T19:24:04.500648Z"
    },
    "id": "GZyRy0MJve53",
    "jupyter": {
     "outputs_hidden": false
    },
    "papermill": {
     "duration": 0.066607,
     "end_time": "2024-01-04T19:24:04.504363",
     "exception": false,
     "start_time": "2024-01-04T19:24:04.437756",
     "status": "completed"
    },
    "tags": []
   },
   "outputs": [],
   "source": [
    "indices_eliminar=imdb4[(imdb4['duration']<50) | (imdb4['duration']>500)].index"
   ]
  },
  {
   "cell_type": "code",
   "execution_count": 78,
   "id": "8484b534",
   "metadata": {
    "_cell_guid": "22783fed-a1d6-4abc-a9bb-36011963172d",
    "_uuid": "95ae26e6-26ec-4f1a-a6fa-7f6e2a695b39",
    "collapsed": false,
    "execution": {
     "iopub.execute_input": "2024-01-04T19:24:04.616009Z",
     "iopub.status.busy": "2024-01-04T19:24:04.615503Z",
     "iopub.status.idle": "2024-01-04T19:24:04.624076Z",
     "shell.execute_reply": "2024-01-04T19:24:04.622234Z"
    },
    "id": "-s-nf8VVvSLH",
    "jupyter": {
     "outputs_hidden": false
    },
    "papermill": {
     "duration": 0.068921,
     "end_time": "2024-01-04T19:24:04.626756",
     "exception": false,
     "start_time": "2024-01-04T19:24:04.557835",
     "status": "completed"
    },
    "tags": []
   },
   "outputs": [],
   "source": [
    "imdb4.drop(indices_eliminar,inplace=True)"
   ]
  },
  {
   "cell_type": "code",
   "execution_count": 79,
   "id": "50707c68",
   "metadata": {
    "_cell_guid": "a7c209f0-56b7-478b-92e3-fc666a896d18",
    "_uuid": "59cc2653-851d-4d52-a77d-b5084b1b032f",
    "collapsed": false,
    "execution": {
     "iopub.execute_input": "2024-01-04T19:24:04.745318Z",
     "iopub.status.busy": "2024-01-04T19:24:04.743782Z",
     "iopub.status.idle": "2024-01-04T19:24:05.089924Z",
     "shell.execute_reply": "2024-01-04T19:24:05.088597Z"
    },
    "id": "bspVCVrKwHXu",
    "jupyter": {
     "outputs_hidden": false
    },
    "outputId": "e5d99526-1f2c-4fbd-dccb-fac1da5c0089",
    "papermill": {
     "duration": 0.410199,
     "end_time": "2024-01-04T19:24:05.092763",
     "exception": false,
     "start_time": "2024-01-04T19:24:04.682564",
     "status": "completed"
    },
    "tags": []
   },
   "outputs": [
    {
     "data": {
      "text/plain": [
       "array([[<Axes: title={'center': 'duration'}>]], dtype=object)"
      ]
     },
     "execution_count": 79,
     "metadata": {},
     "output_type": "execute_result"
    },
    {
     "data": {
      "image/png": "[encoded data removed]",
      "text/plain": [
       "<Figure size 640x480 with 1 Axes>"
      ]
     },
     "metadata": {},
     "output_type": "display_data"
    }
   ],
   "source": [
    "imdb4.hist('duration')"
   ]
  },
  {
   "cell_type": "code",
   "execution_count": 80,
   "id": "40f631b1",
   "metadata": {
    "_cell_guid": "80a6391d-5444-41d8-a0e7-0d59b9695c62",
    "_uuid": "291c54e2-fe5f-45b8-b12d-b89ae3b6ec7e",
    "collapsed": false,
    "execution": {
     "iopub.execute_input": "2024-01-04T19:24:05.203478Z",
     "iopub.status.busy": "2024-01-04T19:24:05.202989Z",
     "iopub.status.idle": "2024-01-04T19:24:05.224386Z",
     "shell.execute_reply": "2024-01-04T19:24:05.223095Z"
    },
    "id": "p7yHPCoNwJXO",
    "jupyter": {
     "outputs_hidden": false
    },
    "outputId": "c40ee8d3-b0b2-4b78-ca25-9f0cd60a15bb",
    "papermill": {
     "duration": 0.079673,
     "end_time": "2024-01-04T19:24:05.227209",
     "exception": false,
     "start_time": "2024-01-04T19:24:05.147536",
     "status": "completed"
    },
    "tags": []
   },
   "outputs": [
    {
     "data": {
      "text/html": [
       "<div>\n",
       "<style scoped>\n",
       "    .dataframe tbody tr th:only-of-type {\n",
       "        vertical-align: middle;\n",
       "    }\n",
       "\n",
       "    .dataframe tbody tr th {\n",
       "        vertical-align: top;\n",
       "    }\n",
       "\n",
       "    .dataframe thead th {\n",
       "        text-align: right;\n",
       "    }\n",
       "</style>\n",
       "<table border=\"1\" class=\"dataframe\">\n",
       "  <thead>\n",
       "    <tr style=\"text-align: right;\">\n",
       "      <th></th>\n",
       "      <th>director_name</th>\n",
       "      <th>duration</th>\n",
       "      <th>gross</th>\n",
       "      <th>genres</th>\n",
       "      <th>movie_title</th>\n",
       "      <th>title_year</th>\n",
       "      <th>language</th>\n",
       "      <th>country</th>\n",
       "      <th>budget</th>\n",
       "      <th>imdb_score</th>\n",
       "      <th>actors</th>\n",
       "      <th>movie_facebook_likes</th>\n",
       "    </tr>\n",
       "  </thead>\n",
       "  <tbody>\n",
       "    <tr>\n",
       "      <th>0</th>\n",
       "      <td>Martin Scorsese</td>\n",
       "      <td>240</td>\n",
       "      <td>116866727.0</td>\n",
       "      <td>Biography|Comedy|Crime|Drama</td>\n",
       "      <td>The Wolf of Wall Street</td>\n",
       "      <td>2013</td>\n",
       "      <td>English</td>\n",
       "      <td>USA</td>\n",
       "      <td>100000000.0</td>\n",
       "      <td>8.2</td>\n",
       "      <td>Leonardo DiCaprio,Matthew McConaughey,Jon Favreau</td>\n",
       "      <td>138000</td>\n",
       "    </tr>\n",
       "    <tr>\n",
       "      <th>1</th>\n",
       "      <td>Shane Black</td>\n",
       "      <td>195</td>\n",
       "      <td>408992272.0</td>\n",
       "      <td>Action|Adventure|Sci-Fi</td>\n",
       "      <td>Iron Man 3</td>\n",
       "      <td>2013</td>\n",
       "      <td>English</td>\n",
       "      <td>USA</td>\n",
       "      <td>200000000.0</td>\n",
       "      <td>7.2</td>\n",
       "      <td>Robert Downey Jr.,Jon Favreau,Don Cheadle</td>\n",
       "      <td>95000</td>\n",
       "    </tr>\n",
       "    <tr>\n",
       "      <th>2</th>\n",
       "      <td>Quentin Tarantino</td>\n",
       "      <td>187</td>\n",
       "      <td>54116191.0</td>\n",
       "      <td>Crime|Drama|Mystery|Thriller|Western</td>\n",
       "      <td>The Hateful Eight</td>\n",
       "      <td>2015</td>\n",
       "      <td>English</td>\n",
       "      <td>USA</td>\n",
       "      <td>44000000.0</td>\n",
       "      <td>7.9</td>\n",
       "      <td>Craig Stark,Jennifer Jason Leigh,Zoë Bell</td>\n",
       "      <td>114000</td>\n",
       "    </tr>\n",
       "    <tr>\n",
       "      <th>3</th>\n",
       "      <td>Kenneth Lonergan</td>\n",
       "      <td>186</td>\n",
       "      <td>46495.0</td>\n",
       "      <td>Drama</td>\n",
       "      <td>Margaret</td>\n",
       "      <td>2011</td>\n",
       "      <td>English</td>\n",
       "      <td>usa</td>\n",
       "      <td>14000000.0</td>\n",
       "      <td>6.5</td>\n",
       "      <td>Matt Damon,Kieran Culkin,John Gallagher Jr.</td>\n",
       "      <td>0</td>\n",
       "    </tr>\n",
       "    <tr>\n",
       "      <th>4</th>\n",
       "      <td>Peter Jackson</td>\n",
       "      <td>186</td>\n",
       "      <td>258355354.0</td>\n",
       "      <td>Adventure|Fantasy</td>\n",
       "      <td>The Hobbit: The Desolation of Smaug</td>\n",
       "      <td>2013</td>\n",
       "      <td>English</td>\n",
       "      <td>USA</td>\n",
       "      <td>225000000.0</td>\n",
       "      <td>7.9</td>\n",
       "      <td>Aidan Turner,Adam Brown,James Nesbitt</td>\n",
       "      <td>83000</td>\n",
       "    </tr>\n",
       "  </tbody>\n",
       "</table>\n",
       "</div>"
      ],
      "text/plain": [
       "       director_name  duration        gross  \\\n",
       "0    Martin Scorsese       240  116866727.0   \n",
       "1        Shane Black       195  408992272.0   \n",
       "2  Quentin Tarantino       187   54116191.0   \n",
       "3   Kenneth Lonergan       186      46495.0   \n",
       "4      Peter Jackson       186  258355354.0   \n",
       "\n",
       "                                 genres                          movie_title  \\\n",
       "0          Biography|Comedy|Crime|Drama              The Wolf of Wall Street   \n",
       "1               Action|Adventure|Sci-Fi                           Iron Man 3   \n",
       "2  Crime|Drama|Mystery|Thriller|Western                    The Hateful Eight   \n",
       "3                                 Drama                             Margaret   \n",
       "4                     Adventure|Fantasy  The Hobbit: The Desolation of Smaug   \n",
       "\n",
       "   title_year language country       budget  imdb_score  \\\n",
       "0        2013  English     USA  100000000.0         8.2   \n",
       "1        2013  English     USA  200000000.0         7.2   \n",
       "2        2015  English     USA   44000000.0         7.9   \n",
       "3        2011  English     usa   14000000.0         6.5   \n",
       "4        2013  English     USA  225000000.0         7.9   \n",
       "\n",
       "                                              actors  movie_facebook_likes  \n",
       "0  Leonardo DiCaprio,Matthew McConaughey,Jon Favreau                138000  \n",
       "1          Robert Downey Jr.,Jon Favreau,Don Cheadle                 95000  \n",
       "2          Craig Stark,Jennifer Jason Leigh,Zoë Bell                114000  \n",
       "3        Matt Damon,Kieran Culkin,John Gallagher Jr.                     0  \n",
       "4              Aidan Turner,Adam Brown,James Nesbitt                 83000  "
      ]
     },
     "execution_count": 80,
     "metadata": {},
     "output_type": "execute_result"
    }
   ],
   "source": [
    "imdb4.head()"
   ]
  },
  {
   "cell_type": "code",
   "execution_count": 81,
   "id": "d97c2a7a",
   "metadata": {
    "_cell_guid": "f5a3e661-ade2-4adf-906a-fffcc378b18c",
    "_uuid": "d828ddaa-3222-4398-b349-41b04c520e46",
    "collapsed": false,
    "execution": {
     "iopub.execute_input": "2024-01-04T19:24:05.347201Z",
     "iopub.status.busy": "2024-01-04T19:24:05.346750Z",
     "iopub.status.idle": "2024-01-04T19:24:05.355535Z",
     "shell.execute_reply": "2024-01-04T19:24:05.352782Z"
    },
    "id": "49UdTqw7xTjd",
    "jupyter": {
     "outputs_hidden": false
    },
    "papermill": {
     "duration": 0.074782,
     "end_time": "2024-01-04T19:24:05.359206",
     "exception": false,
     "start_time": "2024-01-04T19:24:05.284424",
     "status": "completed"
    },
    "tags": []
   },
   "outputs": [],
   "source": [
    "genero_list=imdb4['genres'].str.split('|',expand=True)"
   ]
  },
  {
   "cell_type": "code",
   "execution_count": 82,
   "id": "1515fe8d",
   "metadata": {
    "_cell_guid": "6eaaabff-d3b5-45cc-a23d-29c199bca8cc",
    "_uuid": "ba8eb37b-6a30-40c9-a24c-78b869f7a8dc",
    "collapsed": false,
    "execution": {
     "iopub.execute_input": "2024-01-04T19:24:05.477931Z",
     "iopub.status.busy": "2024-01-04T19:24:05.477483Z",
     "iopub.status.idle": "2024-01-04T19:24:05.484748Z",
     "shell.execute_reply": "2024-01-04T19:24:05.483334Z"
    },
    "id": "YEDHCXi3xjwu",
    "jupyter": {
     "outputs_hidden": false
    },
    "papermill": {
     "duration": 0.069218,
     "end_time": "2024-01-04T19:24:05.487683",
     "exception": false,
     "start_time": "2024-01-04T19:24:05.418465",
     "status": "completed"
    },
    "tags": []
   },
   "outputs": [],
   "source": [
    "genero_list.fillna('SIN GENERO',inplace=True)"
   ]
  },
  {
   "cell_type": "code",
   "execution_count": 83,
   "id": "ea4396a3",
   "metadata": {
    "_cell_guid": "0ded9b94-0bd9-46dd-8661-eacea3ac11d3",
    "_uuid": "5bd8d487-6ea8-4cd2-9c88-8d3f62f919a4",
    "collapsed": false,
    "execution": {
     "iopub.execute_input": "2024-01-04T19:24:05.599979Z",
     "iopub.status.busy": "2024-01-04T19:24:05.599471Z",
     "iopub.status.idle": "2024-01-04T19:24:05.618800Z",
     "shell.execute_reply": "2024-01-04T19:24:05.617140Z"
    },
    "id": "47Iw5eUpx-w8",
    "jupyter": {
     "outputs_hidden": false
    },
    "outputId": "24cf6192-6f58-49fb-8ba6-126f7f6914b7",
    "papermill": {
     "duration": 0.078797,
     "end_time": "2024-01-04T19:24:05.621871",
     "exception": false,
     "start_time": "2024-01-04T19:24:05.543074",
     "status": "completed"
    },
    "tags": []
   },
   "outputs": [
    {
     "data": {
      "text/html": [
       "<div>\n",
       "<style scoped>\n",
       "    .dataframe tbody tr th:only-of-type {\n",
       "        vertical-align: middle;\n",
       "    }\n",
       "\n",
       "    .dataframe tbody tr th {\n",
       "        vertical-align: top;\n",
       "    }\n",
       "\n",
       "    .dataframe thead th {\n",
       "        text-align: right;\n",
       "    }\n",
       "</style>\n",
       "<table border=\"1\" class=\"dataframe\">\n",
       "  <thead>\n",
       "    <tr style=\"text-align: right;\">\n",
       "      <th></th>\n",
       "      <th>0</th>\n",
       "      <th>1</th>\n",
       "      <th>2</th>\n",
       "      <th>3</th>\n",
       "      <th>4</th>\n",
       "    </tr>\n",
       "  </thead>\n",
       "  <tbody>\n",
       "    <tr>\n",
       "      <th>0</th>\n",
       "      <td>Biography</td>\n",
       "      <td>Comedy</td>\n",
       "      <td>Crime</td>\n",
       "      <td>Drama</td>\n",
       "      <td>SIN GENERO</td>\n",
       "    </tr>\n",
       "    <tr>\n",
       "      <th>1</th>\n",
       "      <td>Action</td>\n",
       "      <td>Adventure</td>\n",
       "      <td>Sci-Fi</td>\n",
       "      <td>SIN GENERO</td>\n",
       "      <td>SIN GENERO</td>\n",
       "    </tr>\n",
       "    <tr>\n",
       "      <th>2</th>\n",
       "      <td>Crime</td>\n",
       "      <td>Drama</td>\n",
       "      <td>Mystery</td>\n",
       "      <td>Thriller</td>\n",
       "      <td>Western</td>\n",
       "    </tr>\n",
       "    <tr>\n",
       "      <th>3</th>\n",
       "      <td>Drama</td>\n",
       "      <td>SIN GENERO</td>\n",
       "      <td>SIN GENERO</td>\n",
       "      <td>SIN GENERO</td>\n",
       "      <td>SIN GENERO</td>\n",
       "    </tr>\n",
       "    <tr>\n",
       "      <th>4</th>\n",
       "      <td>Adventure</td>\n",
       "      <td>Fantasy</td>\n",
       "      <td>SIN GENERO</td>\n",
       "      <td>SIN GENERO</td>\n",
       "      <td>SIN GENERO</td>\n",
       "    </tr>\n",
       "    <tr>\n",
       "      <th>...</th>\n",
       "      <td>...</td>\n",
       "      <td>...</td>\n",
       "      <td>...</td>\n",
       "      <td>...</td>\n",
       "      <td>...</td>\n",
       "    </tr>\n",
       "    <tr>\n",
       "      <th>84</th>\n",
       "      <td>Action</td>\n",
       "      <td>Adventure</td>\n",
       "      <td>Thriller</td>\n",
       "      <td>SIN GENERO</td>\n",
       "      <td>SIN GENERO</td>\n",
       "    </tr>\n",
       "    <tr>\n",
       "      <th>85</th>\n",
       "      <td>Biography</td>\n",
       "      <td>Drama</td>\n",
       "      <td>History</td>\n",
       "      <td>SIN GENERO</td>\n",
       "      <td>SIN GENERO</td>\n",
       "    </tr>\n",
       "    <tr>\n",
       "      <th>86</th>\n",
       "      <td>Comedy</td>\n",
       "      <td>Drama</td>\n",
       "      <td>SIN GENERO</td>\n",
       "      <td>SIN GENERO</td>\n",
       "      <td>SIN GENERO</td>\n",
       "    </tr>\n",
       "    <tr>\n",
       "      <th>87</th>\n",
       "      <td>Biography</td>\n",
       "      <td>Drama</td>\n",
       "      <td>Thriller</td>\n",
       "      <td>SIN GENERO</td>\n",
       "      <td>SIN GENERO</td>\n",
       "    </tr>\n",
       "    <tr>\n",
       "      <th>88</th>\n",
       "      <td>Action</td>\n",
       "      <td>Drama</td>\n",
       "      <td>War</td>\n",
       "      <td>SIN GENERO</td>\n",
       "      <td>SIN GENERO</td>\n",
       "    </tr>\n",
       "  </tbody>\n",
       "</table>\n",
       "<p>86 rows × 5 columns</p>\n",
       "</div>"
      ],
      "text/plain": [
       "            0           1           2           3           4\n",
       "0   Biography      Comedy       Crime       Drama  SIN GENERO\n",
       "1      Action   Adventure      Sci-Fi  SIN GENERO  SIN GENERO\n",
       "2       Crime       Drama     Mystery    Thriller     Western\n",
       "3       Drama  SIN GENERO  SIN GENERO  SIN GENERO  SIN GENERO\n",
       "4   Adventure     Fantasy  SIN GENERO  SIN GENERO  SIN GENERO\n",
       "..        ...         ...         ...         ...         ...\n",
       "84     Action   Adventure    Thriller  SIN GENERO  SIN GENERO\n",
       "85  Biography       Drama     History  SIN GENERO  SIN GENERO\n",
       "86     Comedy       Drama  SIN GENERO  SIN GENERO  SIN GENERO\n",
       "87  Biography       Drama    Thriller  SIN GENERO  SIN GENERO\n",
       "88     Action       Drama         War  SIN GENERO  SIN GENERO\n",
       "\n",
       "[86 rows x 5 columns]"
      ]
     },
     "execution_count": 83,
     "metadata": {},
     "output_type": "execute_result"
    }
   ],
   "source": [
    "genero_list"
   ]
  },
  {
   "cell_type": "code",
   "execution_count": 84,
   "id": "ec720efe",
   "metadata": {
    "_cell_guid": "911c596c-d3e6-4568-ab52-0a9505edace2",
    "_uuid": "244ebaa0-97e7-4ec5-a64b-e10cc7655f68",
    "collapsed": false,
    "execution": {
     "iopub.execute_input": "2024-01-04T19:24:05.741336Z",
     "iopub.status.busy": "2024-01-04T19:24:05.740938Z",
     "iopub.status.idle": "2024-01-04T19:24:05.749840Z",
     "shell.execute_reply": "2024-01-04T19:24:05.748301Z"
    },
    "id": "W6hd9wqzyFkt",
    "jupyter": {
     "outputs_hidden": false
    },
    "papermill": {
     "duration": 0.072593,
     "end_time": "2024-01-04T19:24:05.752908",
     "exception": false,
     "start_time": "2024-01-04T19:24:05.680315",
     "status": "completed"
    },
    "tags": []
   },
   "outputs": [],
   "source": [
    "for i in genero_list:\n",
    "  imdb4['genero_'+str(i)]=genero_list[i]"
   ]
  },
  {
   "cell_type": "code",
   "execution_count": 85,
   "id": "60c0f190",
   "metadata": {
    "_cell_guid": "175370c0-aa64-49d9-a8c4-62aab1b7fde5",
    "_uuid": "2ec1312f-b4ac-4010-baf7-8964791108ed",
    "collapsed": false,
    "execution": {
     "iopub.execute_input": "2024-01-04T19:24:05.874867Z",
     "iopub.status.busy": "2024-01-04T19:24:05.874159Z",
     "iopub.status.idle": "2024-01-04T19:24:05.902737Z",
     "shell.execute_reply": "2024-01-04T19:24:05.901669Z"
    },
    "id": "KjjM-i6HyPF8",
    "jupyter": {
     "outputs_hidden": false
    },
    "outputId": "c3a499ad-0d96-4a5d-c9ad-040fd08ba1c9",
    "papermill": {
     "duration": 0.092465,
     "end_time": "2024-01-04T19:24:05.905248",
     "exception": false,
     "start_time": "2024-01-04T19:24:05.812783",
     "status": "completed"
    },
    "tags": []
   },
   "outputs": [
    {
     "data": {
      "text/html": [
       "<div>\n",
       "<style scoped>\n",
       "    .dataframe tbody tr th:only-of-type {\n",
       "        vertical-align: middle;\n",
       "    }\n",
       "\n",
       "    .dataframe tbody tr th {\n",
       "        vertical-align: top;\n",
       "    }\n",
       "\n",
       "    .dataframe thead th {\n",
       "        text-align: right;\n",
       "    }\n",
       "</style>\n",
       "<table border=\"1\" class=\"dataframe\">\n",
       "  <thead>\n",
       "    <tr style=\"text-align: right;\">\n",
       "      <th></th>\n",
       "      <th>director_name</th>\n",
       "      <th>duration</th>\n",
       "      <th>gross</th>\n",
       "      <th>genres</th>\n",
       "      <th>movie_title</th>\n",
       "      <th>title_year</th>\n",
       "      <th>language</th>\n",
       "      <th>country</th>\n",
       "      <th>budget</th>\n",
       "      <th>imdb_score</th>\n",
       "      <th>actors</th>\n",
       "      <th>movie_facebook_likes</th>\n",
       "      <th>genero_0</th>\n",
       "      <th>genero_1</th>\n",
       "      <th>genero_2</th>\n",
       "      <th>genero_3</th>\n",
       "      <th>genero_4</th>\n",
       "    </tr>\n",
       "  </thead>\n",
       "  <tbody>\n",
       "    <tr>\n",
       "      <th>0</th>\n",
       "      <td>Martin Scorsese</td>\n",
       "      <td>240</td>\n",
       "      <td>116866727.0</td>\n",
       "      <td>Biography|Comedy|Crime|Drama</td>\n",
       "      <td>The Wolf of Wall Street</td>\n",
       "      <td>2013</td>\n",
       "      <td>English</td>\n",
       "      <td>USA</td>\n",
       "      <td>100000000.0</td>\n",
       "      <td>8.2</td>\n",
       "      <td>Leonardo DiCaprio,Matthew McConaughey,Jon Favreau</td>\n",
       "      <td>138000</td>\n",
       "      <td>Biography</td>\n",
       "      <td>Comedy</td>\n",
       "      <td>Crime</td>\n",
       "      <td>Drama</td>\n",
       "      <td>SIN GENERO</td>\n",
       "    </tr>\n",
       "    <tr>\n",
       "      <th>1</th>\n",
       "      <td>Shane Black</td>\n",
       "      <td>195</td>\n",
       "      <td>408992272.0</td>\n",
       "      <td>Action|Adventure|Sci-Fi</td>\n",
       "      <td>Iron Man 3</td>\n",
       "      <td>2013</td>\n",
       "      <td>English</td>\n",
       "      <td>USA</td>\n",
       "      <td>200000000.0</td>\n",
       "      <td>7.2</td>\n",
       "      <td>Robert Downey Jr.,Jon Favreau,Don Cheadle</td>\n",
       "      <td>95000</td>\n",
       "      <td>Action</td>\n",
       "      <td>Adventure</td>\n",
       "      <td>Sci-Fi</td>\n",
       "      <td>SIN GENERO</td>\n",
       "      <td>SIN GENERO</td>\n",
       "    </tr>\n",
       "    <tr>\n",
       "      <th>2</th>\n",
       "      <td>Quentin Tarantino</td>\n",
       "      <td>187</td>\n",
       "      <td>54116191.0</td>\n",
       "      <td>Crime|Drama|Mystery|Thriller|Western</td>\n",
       "      <td>The Hateful Eight</td>\n",
       "      <td>2015</td>\n",
       "      <td>English</td>\n",
       "      <td>USA</td>\n",
       "      <td>44000000.0</td>\n",
       "      <td>7.9</td>\n",
       "      <td>Craig Stark,Jennifer Jason Leigh,Zoë Bell</td>\n",
       "      <td>114000</td>\n",
       "      <td>Crime</td>\n",
       "      <td>Drama</td>\n",
       "      <td>Mystery</td>\n",
       "      <td>Thriller</td>\n",
       "      <td>Western</td>\n",
       "    </tr>\n",
       "    <tr>\n",
       "      <th>3</th>\n",
       "      <td>Kenneth Lonergan</td>\n",
       "      <td>186</td>\n",
       "      <td>46495.0</td>\n",
       "      <td>Drama</td>\n",
       "      <td>Margaret</td>\n",
       "      <td>2011</td>\n",
       "      <td>English</td>\n",
       "      <td>usa</td>\n",
       "      <td>14000000.0</td>\n",
       "      <td>6.5</td>\n",
       "      <td>Matt Damon,Kieran Culkin,John Gallagher Jr.</td>\n",
       "      <td>0</td>\n",
       "      <td>Drama</td>\n",
       "      <td>SIN GENERO</td>\n",
       "      <td>SIN GENERO</td>\n",
       "      <td>SIN GENERO</td>\n",
       "      <td>SIN GENERO</td>\n",
       "    </tr>\n",
       "    <tr>\n",
       "      <th>4</th>\n",
       "      <td>Peter Jackson</td>\n",
       "      <td>186</td>\n",
       "      <td>258355354.0</td>\n",
       "      <td>Adventure|Fantasy</td>\n",
       "      <td>The Hobbit: The Desolation of Smaug</td>\n",
       "      <td>2013</td>\n",
       "      <td>English</td>\n",
       "      <td>USA</td>\n",
       "      <td>225000000.0</td>\n",
       "      <td>7.9</td>\n",
       "      <td>Aidan Turner,Adam Brown,James Nesbitt</td>\n",
       "      <td>83000</td>\n",
       "      <td>Adventure</td>\n",
       "      <td>Fantasy</td>\n",
       "      <td>SIN GENERO</td>\n",
       "      <td>SIN GENERO</td>\n",
       "      <td>SIN GENERO</td>\n",
       "    </tr>\n",
       "  </tbody>\n",
       "</table>\n",
       "</div>"
      ],
      "text/plain": [
       "       director_name  duration        gross  \\\n",
       "0    Martin Scorsese       240  116866727.0   \n",
       "1        Shane Black       195  408992272.0   \n",
       "2  Quentin Tarantino       187   54116191.0   \n",
       "3   Kenneth Lonergan       186      46495.0   \n",
       "4      Peter Jackson       186  258355354.0   \n",
       "\n",
       "                                 genres                          movie_title  \\\n",
       "0          Biography|Comedy|Crime|Drama              The Wolf of Wall Street   \n",
       "1               Action|Adventure|Sci-Fi                           Iron Man 3   \n",
       "2  Crime|Drama|Mystery|Thriller|Western                    The Hateful Eight   \n",
       "3                                 Drama                             Margaret   \n",
       "4                     Adventure|Fantasy  The Hobbit: The Desolation of Smaug   \n",
       "\n",
       "   title_year language country       budget  imdb_score  \\\n",
       "0        2013  English     USA  100000000.0         8.2   \n",
       "1        2013  English     USA  200000000.0         7.2   \n",
       "2        2015  English     USA   44000000.0         7.9   \n",
       "3        2011  English     usa   14000000.0         6.5   \n",
       "4        2013  English     USA  225000000.0         7.9   \n",
       "\n",
       "                                              actors  movie_facebook_likes  \\\n",
       "0  Leonardo DiCaprio,Matthew McConaughey,Jon Favreau                138000   \n",
       "1          Robert Downey Jr.,Jon Favreau,Don Cheadle                 95000   \n",
       "2          Craig Stark,Jennifer Jason Leigh,Zoë Bell                114000   \n",
       "3        Matt Damon,Kieran Culkin,John Gallagher Jr.                     0   \n",
       "4              Aidan Turner,Adam Brown,James Nesbitt                 83000   \n",
       "\n",
       "    genero_0    genero_1    genero_2    genero_3    genero_4  \n",
       "0  Biography      Comedy       Crime       Drama  SIN GENERO  \n",
       "1     Action   Adventure      Sci-Fi  SIN GENERO  SIN GENERO  \n",
       "2      Crime       Drama     Mystery    Thriller     Western  \n",
       "3      Drama  SIN GENERO  SIN GENERO  SIN GENERO  SIN GENERO  \n",
       "4  Adventure     Fantasy  SIN GENERO  SIN GENERO  SIN GENERO  "
      ]
     },
     "execution_count": 85,
     "metadata": {},
     "output_type": "execute_result"
    }
   ],
   "source": [
    "imdb4.head()"
   ]
  },
  {
   "cell_type": "code",
   "execution_count": 86,
   "id": "6cf85537",
   "metadata": {
    "_cell_guid": "daa50cd4-43f8-4878-a4b0-410ed0fc355d",
    "_uuid": "010db5e9-42b7-4fda-a4bf-e9a03f02c28d",
    "collapsed": false,
    "execution": {
     "iopub.execute_input": "2024-01-04T19:24:06.017808Z",
     "iopub.status.busy": "2024-01-04T19:24:06.017016Z",
     "iopub.status.idle": "2024-01-04T19:24:06.023159Z",
     "shell.execute_reply": "2024-01-04T19:24:06.022079Z"
    },
    "id": "YZ52nh-LyYjK",
    "jupyter": {
     "outputs_hidden": false
    },
    "papermill": {
     "duration": 0.064498,
     "end_time": "2024-01-04T19:24:06.025516",
     "exception": false,
     "start_time": "2024-01-04T19:24:05.961018",
     "status": "completed"
    },
    "tags": []
   },
   "outputs": [],
   "source": [
    "imdb5=imdb4.copy()"
   ]
  },
  {
   "cell_type": "code",
   "execution_count": 87,
   "id": "6a444b0a",
   "metadata": {
    "_cell_guid": "ade3d3c9-eab7-410d-a13d-1d5554081c63",
    "_uuid": "031b3837-bdaf-4f64-9616-6185c965cf33",
    "collapsed": false,
    "execution": {
     "iopub.execute_input": "2024-01-04T19:24:06.136693Z",
     "iopub.status.busy": "2024-01-04T19:24:06.136121Z",
     "iopub.status.idle": "2024-01-04T19:24:06.144860Z",
     "shell.execute_reply": "2024-01-04T19:24:06.142846Z"
    },
    "id": "oYMHVk_PydkI",
    "jupyter": {
     "outputs_hidden": false
    },
    "papermill": {
     "duration": 0.068434,
     "end_time": "2024-01-04T19:24:06.148013",
     "exception": false,
     "start_time": "2024-01-04T19:24:06.079579",
     "status": "completed"
    },
    "tags": []
   },
   "outputs": [],
   "source": [
    "del(imdb5['genres'])"
   ]
  },
  {
   "cell_type": "code",
   "execution_count": 88,
   "id": "272b3cf0",
   "metadata": {
    "_cell_guid": "5a3f6497-72b5-4123-9f11-614e4bb3e311",
    "_uuid": "50bb7b97-95ed-4218-93e1-80539568ae7c",
    "collapsed": false,
    "execution": {
     "iopub.execute_input": "2024-01-04T19:24:06.266652Z",
     "iopub.status.busy": "2024-01-04T19:24:06.265826Z",
     "iopub.status.idle": "2024-01-04T19:24:06.293300Z",
     "shell.execute_reply": "2024-01-04T19:24:06.292133Z"
    },
    "id": "CVoyhdNEyh_r",
    "jupyter": {
     "outputs_hidden": false
    },
    "outputId": "7bb0138d-02ef-4852-d793-dbe6623f905d",
    "papermill": {
     "duration": 0.092875,
     "end_time": "2024-01-04T19:24:06.295940",
     "exception": false,
     "start_time": "2024-01-04T19:24:06.203065",
     "status": "completed"
    },
    "tags": []
   },
   "outputs": [
    {
     "data": {
      "text/html": [
       "<div>\n",
       "<style scoped>\n",
       "    .dataframe tbody tr th:only-of-type {\n",
       "        vertical-align: middle;\n",
       "    }\n",
       "\n",
       "    .dataframe tbody tr th {\n",
       "        vertical-align: top;\n",
       "    }\n",
       "\n",
       "    .dataframe thead th {\n",
       "        text-align: right;\n",
       "    }\n",
       "</style>\n",
       "<table border=\"1\" class=\"dataframe\">\n",
       "  <thead>\n",
       "    <tr style=\"text-align: right;\">\n",
       "      <th></th>\n",
       "      <th>director_name</th>\n",
       "      <th>duration</th>\n",
       "      <th>gross</th>\n",
       "      <th>movie_title</th>\n",
       "      <th>title_year</th>\n",
       "      <th>language</th>\n",
       "      <th>country</th>\n",
       "      <th>budget</th>\n",
       "      <th>imdb_score</th>\n",
       "      <th>actors</th>\n",
       "      <th>movie_facebook_likes</th>\n",
       "      <th>genero_0</th>\n",
       "      <th>genero_1</th>\n",
       "      <th>genero_2</th>\n",
       "      <th>genero_3</th>\n",
       "      <th>genero_4</th>\n",
       "    </tr>\n",
       "  </thead>\n",
       "  <tbody>\n",
       "    <tr>\n",
       "      <th>0</th>\n",
       "      <td>Martin Scorsese</td>\n",
       "      <td>240</td>\n",
       "      <td>116866727.0</td>\n",
       "      <td>The Wolf of Wall Street</td>\n",
       "      <td>2013</td>\n",
       "      <td>English</td>\n",
       "      <td>USA</td>\n",
       "      <td>100000000.0</td>\n",
       "      <td>8.2</td>\n",
       "      <td>Leonardo DiCaprio,Matthew McConaughey,Jon Favreau</td>\n",
       "      <td>138000</td>\n",
       "      <td>Biography</td>\n",
       "      <td>Comedy</td>\n",
       "      <td>Crime</td>\n",
       "      <td>Drama</td>\n",
       "      <td>SIN GENERO</td>\n",
       "    </tr>\n",
       "    <tr>\n",
       "      <th>1</th>\n",
       "      <td>Shane Black</td>\n",
       "      <td>195</td>\n",
       "      <td>408992272.0</td>\n",
       "      <td>Iron Man 3</td>\n",
       "      <td>2013</td>\n",
       "      <td>English</td>\n",
       "      <td>USA</td>\n",
       "      <td>200000000.0</td>\n",
       "      <td>7.2</td>\n",
       "      <td>Robert Downey Jr.,Jon Favreau,Don Cheadle</td>\n",
       "      <td>95000</td>\n",
       "      <td>Action</td>\n",
       "      <td>Adventure</td>\n",
       "      <td>Sci-Fi</td>\n",
       "      <td>SIN GENERO</td>\n",
       "      <td>SIN GENERO</td>\n",
       "    </tr>\n",
       "    <tr>\n",
       "      <th>2</th>\n",
       "      <td>Quentin Tarantino</td>\n",
       "      <td>187</td>\n",
       "      <td>54116191.0</td>\n",
       "      <td>The Hateful Eight</td>\n",
       "      <td>2015</td>\n",
       "      <td>English</td>\n",
       "      <td>USA</td>\n",
       "      <td>44000000.0</td>\n",
       "      <td>7.9</td>\n",
       "      <td>Craig Stark,Jennifer Jason Leigh,Zoë Bell</td>\n",
       "      <td>114000</td>\n",
       "      <td>Crime</td>\n",
       "      <td>Drama</td>\n",
       "      <td>Mystery</td>\n",
       "      <td>Thriller</td>\n",
       "      <td>Western</td>\n",
       "    </tr>\n",
       "    <tr>\n",
       "      <th>3</th>\n",
       "      <td>Kenneth Lonergan</td>\n",
       "      <td>186</td>\n",
       "      <td>46495.0</td>\n",
       "      <td>Margaret</td>\n",
       "      <td>2011</td>\n",
       "      <td>English</td>\n",
       "      <td>usa</td>\n",
       "      <td>14000000.0</td>\n",
       "      <td>6.5</td>\n",
       "      <td>Matt Damon,Kieran Culkin,John Gallagher Jr.</td>\n",
       "      <td>0</td>\n",
       "      <td>Drama</td>\n",
       "      <td>SIN GENERO</td>\n",
       "      <td>SIN GENERO</td>\n",
       "      <td>SIN GENERO</td>\n",
       "      <td>SIN GENERO</td>\n",
       "    </tr>\n",
       "    <tr>\n",
       "      <th>4</th>\n",
       "      <td>Peter Jackson</td>\n",
       "      <td>186</td>\n",
       "      <td>258355354.0</td>\n",
       "      <td>The Hobbit: The Desolation of Smaug</td>\n",
       "      <td>2013</td>\n",
       "      <td>English</td>\n",
       "      <td>USA</td>\n",
       "      <td>225000000.0</td>\n",
       "      <td>7.9</td>\n",
       "      <td>Aidan Turner,Adam Brown,James Nesbitt</td>\n",
       "      <td>83000</td>\n",
       "      <td>Adventure</td>\n",
       "      <td>Fantasy</td>\n",
       "      <td>SIN GENERO</td>\n",
       "      <td>SIN GENERO</td>\n",
       "      <td>SIN GENERO</td>\n",
       "    </tr>\n",
       "  </tbody>\n",
       "</table>\n",
       "</div>"
      ],
      "text/plain": [
       "       director_name  duration        gross  \\\n",
       "0    Martin Scorsese       240  116866727.0   \n",
       "1        Shane Black       195  408992272.0   \n",
       "2  Quentin Tarantino       187   54116191.0   \n",
       "3   Kenneth Lonergan       186      46495.0   \n",
       "4      Peter Jackson       186  258355354.0   \n",
       "\n",
       "                           movie_title  title_year language country  \\\n",
       "0              The Wolf of Wall Street        2013  English     USA   \n",
       "1                           Iron Man 3        2013  English     USA   \n",
       "2                    The Hateful Eight        2015  English     USA   \n",
       "3                             Margaret        2011  English     usa   \n",
       "4  The Hobbit: The Desolation of Smaug        2013  English     USA   \n",
       "\n",
       "        budget  imdb_score                                             actors  \\\n",
       "0  100000000.0         8.2  Leonardo DiCaprio,Matthew McConaughey,Jon Favreau   \n",
       "1  200000000.0         7.2          Robert Downey Jr.,Jon Favreau,Don Cheadle   \n",
       "2   44000000.0         7.9          Craig Stark,Jennifer Jason Leigh,Zoë Bell   \n",
       "3   14000000.0         6.5        Matt Damon,Kieran Culkin,John Gallagher Jr.   \n",
       "4  225000000.0         7.9              Aidan Turner,Adam Brown,James Nesbitt   \n",
       "\n",
       "   movie_facebook_likes   genero_0    genero_1    genero_2    genero_3  \\\n",
       "0                138000  Biography      Comedy       Crime       Drama   \n",
       "1                 95000     Action   Adventure      Sci-Fi  SIN GENERO   \n",
       "2                114000      Crime       Drama     Mystery    Thriller   \n",
       "3                     0      Drama  SIN GENERO  SIN GENERO  SIN GENERO   \n",
       "4                 83000  Adventure     Fantasy  SIN GENERO  SIN GENERO   \n",
       "\n",
       "     genero_4  \n",
       "0  SIN GENERO  \n",
       "1  SIN GENERO  \n",
       "2     Western  \n",
       "3  SIN GENERO  \n",
       "4  SIN GENERO  "
      ]
     },
     "execution_count": 88,
     "metadata": {},
     "output_type": "execute_result"
    }
   ],
   "source": [
    "imdb5.head()"
   ]
  },
  {
   "cell_type": "code",
   "execution_count": 89,
   "id": "a893451d",
   "metadata": {
    "_cell_guid": "66278302-3f6c-41e3-9655-f2162a16d1db",
    "_uuid": "ea8e2754-9b5e-40c9-acbd-daffacdde5f7",
    "collapsed": false,
    "execution": {
     "iopub.execute_input": "2024-01-04T19:24:06.409840Z",
     "iopub.status.busy": "2024-01-04T19:24:06.409069Z",
     "iopub.status.idle": "2024-01-04T19:24:06.415075Z",
     "shell.execute_reply": "2024-01-04T19:24:06.413906Z"
    },
    "id": "jQUzuKrVykDS",
    "jupyter": {
     "outputs_hidden": false
    },
    "papermill": {
     "duration": 0.067148,
     "end_time": "2024-01-04T19:24:06.417609",
     "exception": false,
     "start_time": "2024-01-04T19:24:06.350461",
     "status": "completed"
    },
    "tags": []
   },
   "outputs": [],
   "source": [
    "imdb4.reset_index(drop=True,inplace=True)"
   ]
  },
  {
   "cell_type": "code",
   "execution_count": 90,
   "id": "f0fcee3d",
   "metadata": {
    "_cell_guid": "7c496dfb-2eb0-4a01-b24c-fe56b0f0662c",
    "_uuid": "d76bf9f4-6c44-4139-ab19-5f66906cdc41",
    "collapsed": false,
    "execution": {
     "iopub.execute_input": "2024-01-04T19:24:06.549675Z",
     "iopub.status.busy": "2024-01-04T19:24:06.548749Z",
     "iopub.status.idle": "2024-01-04T19:24:06.566180Z",
     "shell.execute_reply": "2024-01-04T19:24:06.564554Z"
    },
    "id": "6BzSL4KwylmG",
    "jupyter": {
     "outputs_hidden": false
    },
    "outputId": "4c83d77e-2581-42f4-e150-127ad81cdc2b",
    "papermill": {
     "duration": 0.091303,
     "end_time": "2024-01-04T19:24:06.569612",
     "exception": false,
     "start_time": "2024-01-04T19:24:06.478309",
     "status": "completed"
    },
    "tags": []
   },
   "outputs": [
    {
     "name": "stdout",
     "output_type": "stream",
     "text": [
      "<class 'pandas.core.frame.DataFrame'>\n",
      "Index: 86 entries, 0 to 88\n",
      "Data columns (total 16 columns):\n",
      " #   Column                Non-Null Count  Dtype  \n",
      "---  ------                --------------  -----  \n",
      " 0   director_name         86 non-null     object \n",
      " 1   duration              86 non-null     int64  \n",
      " 2   gross                 86 non-null     float64\n",
      " 3   movie_title           86 non-null     object \n",
      " 4   title_year            86 non-null     int64  \n",
      " 5   language              86 non-null     object \n",
      " 6   country               86 non-null     object \n",
      " 7   budget                86 non-null     float64\n",
      " 8   imdb_score            86 non-null     float64\n",
      " 9   actors                86 non-null     object \n",
      " 10  movie_facebook_likes  86 non-null     int64  \n",
      " 11  genero_0              86 non-null     object \n",
      " 12  genero_1              86 non-null     object \n",
      " 13  genero_2              86 non-null     object \n",
      " 14  genero_3              86 non-null     object \n",
      " 15  genero_4              86 non-null     object \n",
      "dtypes: float64(3), int64(3), object(10)\n",
      "memory usage: 11.4+ KB\n"
     ]
    }
   ],
   "source": [
    "imdb5.info()"
   ]
  },
  {
   "cell_type": "markdown",
   "id": "0b01d6e3",
   "metadata": {
    "_cell_guid": "6540c210-ad86-4b23-9c62-89a747632993",
    "_uuid": "a048577e-fb55-470c-b4a9-69f79871fd14",
    "id": "RFAjeSrVhbzs",
    "papermill": {
     "duration": 0.055015,
     "end_time": "2024-01-04T19:24:06.679769",
     "exception": false,
     "start_time": "2024-01-04T19:24:06.624754",
     "status": "completed"
    },
    "tags": []
   },
   "source": [
    "#PREGUNTAS DEL CUESTIONARIO \"Preguntas relacionadas a la tarea de IMDBPreguntas relacionadas a la tarea de IMDB\" enviadas por Jospeh en un Google Form:"
   ]
  },
  {
   "cell_type": "code",
   "execution_count": 91,
   "id": "e08ec075",
   "metadata": {
    "_cell_guid": "d4f78053-7610-4b16-865a-ced389c4c9bd",
    "_uuid": "5cdb359e-a2de-40c9-9072-db89de57dfe0",
    "collapsed": false,
    "execution": {
     "iopub.execute_input": "2024-01-04T19:24:06.796943Z",
     "iopub.status.busy": "2024-01-04T19:24:06.795297Z",
     "iopub.status.idle": "2024-01-04T19:24:06.820409Z",
     "shell.execute_reply": "2024-01-04T19:24:06.818494Z"
    },
    "id": "OEcTitlSysDh",
    "jupyter": {
     "outputs_hidden": false
    },
    "outputId": "5c339a5d-7879-461f-fecb-c00c34b4329d",
    "papermill": {
     "duration": 0.087037,
     "end_time": "2024-01-04T19:24:06.823122",
     "exception": false,
     "start_time": "2024-01-04T19:24:06.736085",
     "status": "completed"
    },
    "tags": []
   },
   "outputs": [
    {
     "data": {
      "text/html": [
       "<div>\n",
       "<style scoped>\n",
       "    .dataframe tbody tr th:only-of-type {\n",
       "        vertical-align: middle;\n",
       "    }\n",
       "\n",
       "    .dataframe tbody tr th {\n",
       "        vertical-align: top;\n",
       "    }\n",
       "\n",
       "    .dataframe thead th {\n",
       "        text-align: right;\n",
       "    }\n",
       "</style>\n",
       "<table border=\"1\" class=\"dataframe\">\n",
       "  <thead>\n",
       "    <tr style=\"text-align: right;\">\n",
       "      <th></th>\n",
       "      <th>director_name</th>\n",
       "      <th>duration</th>\n",
       "      <th>gross</th>\n",
       "      <th>movie_title</th>\n",
       "      <th>title_year</th>\n",
       "      <th>language</th>\n",
       "      <th>country</th>\n",
       "      <th>budget</th>\n",
       "      <th>imdb_score</th>\n",
       "      <th>actors</th>\n",
       "      <th>movie_facebook_likes</th>\n",
       "      <th>genero_0</th>\n",
       "      <th>genero_1</th>\n",
       "      <th>genero_2</th>\n",
       "      <th>genero_3</th>\n",
       "      <th>genero_4</th>\n",
       "    </tr>\n",
       "  </thead>\n",
       "  <tbody>\n",
       "    <tr>\n",
       "      <th>5</th>\n",
       "      <td>SIN DIRECTOR</td>\n",
       "      <td>183</td>\n",
       "      <td>330249062.0</td>\n",
       "      <td>Batman v Superman: Dawn of Justice</td>\n",
       "      <td>202</td>\n",
       "      <td>English</td>\n",
       "      <td>USA</td>\n",
       "      <td>250000000.0</td>\n",
       "      <td>6.9</td>\n",
       "      <td>Henry Cavill,Lauren Cohan,Alan D. Purwin</td>\n",
       "      <td>197000</td>\n",
       "      <td>Action</td>\n",
       "      <td>Adventure</td>\n",
       "      <td>Sci-Fi</td>\n",
       "      <td>SIN GENERO</td>\n",
       "      <td>SIN GENERO</td>\n",
       "    </tr>\n",
       "    <tr>\n",
       "      <th>72</th>\n",
       "      <td>Daniel Espinosa</td>\n",
       "      <td>137</td>\n",
       "      <td>1206135.0</td>\n",
       "      <td>Child 44</td>\n",
       "      <td>205</td>\n",
       "      <td>English</td>\n",
       "      <td>Czech Republic</td>\n",
       "      <td>50000000.0</td>\n",
       "      <td>6.4</td>\n",
       "      <td>Tom Hardy,Fares Fares,Michael Nardone</td>\n",
       "      <td>18000</td>\n",
       "      <td>Crime</td>\n",
       "      <td>Drama</td>\n",
       "      <td>Thriller</td>\n",
       "      <td>SIN GENERO</td>\n",
       "      <td>SIN GENERO</td>\n",
       "    </tr>\n",
       "  </tbody>\n",
       "</table>\n",
       "</div>"
      ],
      "text/plain": [
       "      director_name  duration        gross  \\\n",
       "5      SIN DIRECTOR       183  330249062.0   \n",
       "72  Daniel Espinosa       137    1206135.0   \n",
       "\n",
       "                           movie_title  title_year language         country  \\\n",
       "5   Batman v Superman: Dawn of Justice         202  English             USA   \n",
       "72                            Child 44         205  English  Czech Republic   \n",
       "\n",
       "         budget  imdb_score                                    actors  \\\n",
       "5   250000000.0         6.9  Henry Cavill,Lauren Cohan,Alan D. Purwin   \n",
       "72   50000000.0         6.4     Tom Hardy,Fares Fares,Michael Nardone   \n",
       "\n",
       "    movie_facebook_likes genero_0   genero_1  genero_2    genero_3    genero_4  \n",
       "5                 197000   Action  Adventure    Sci-Fi  SIN GENERO  SIN GENERO  \n",
       "72                 18000    Crime      Drama  Thriller  SIN GENERO  SIN GENERO  "
      ]
     },
     "execution_count": 91,
     "metadata": {},
     "output_type": "execute_result"
    }
   ],
   "source": [
    "#¿Hay algún problema con el año de la película (\"title_year\")?\n",
    "imdb5[imdb5['title_year']<1950]"
   ]
  },
  {
   "cell_type": "code",
   "execution_count": 92,
   "id": "c6f8c603",
   "metadata": {
    "_cell_guid": "b811a0fc-8ebd-4f7a-b5d0-7df2d4296414",
    "_uuid": "ff5f24f4-caa9-445a-93b6-1c4983e19dec",
    "collapsed": false,
    "execution": {
     "iopub.execute_input": "2024-01-04T19:24:06.940593Z",
     "iopub.status.busy": "2024-01-04T19:24:06.940073Z",
     "iopub.status.idle": "2024-01-04T19:24:07.273390Z",
     "shell.execute_reply": "2024-01-04T19:24:07.272183Z"
    },
    "id": "2oEFX8huUoDC",
    "jupyter": {
     "outputs_hidden": false
    },
    "outputId": "be0c3fff-7767-4fe3-c622-c715172591ab",
    "papermill": {
     "duration": 0.39669,
     "end_time": "2024-01-04T19:24:07.276100",
     "exception": false,
     "start_time": "2024-01-04T19:24:06.879410",
     "status": "completed"
    },
    "tags": []
   },
   "outputs": [
    {
     "data": {
      "text/plain": [
       "array([[<Axes: title={'center': 'title_year'}>]], dtype=object)"
      ]
     },
     "execution_count": 92,
     "metadata": {},
     "output_type": "execute_result"
    },
    {
     "data": {
      "image/png": "[encoded data removed]",
      "text/plain": [
       "<Figure size 640x480 with 1 Axes>"
      ]
     },
     "metadata": {},
     "output_type": "display_data"
    }
   ],
   "source": [
    "imdb5.hist('title_year')"
   ]
  },
  {
   "cell_type": "code",
   "execution_count": 93,
   "id": "18ee06f3",
   "metadata": {
    "_cell_guid": "f4da92ad-c962-4750-a7de-e06751d7cbe3",
    "_uuid": "3c6cfafb-0d50-4e93-bba4-92d836b808ae",
    "collapsed": false,
    "execution": {
     "iopub.execute_input": "2024-01-04T19:24:07.394670Z",
     "iopub.status.busy": "2024-01-04T19:24:07.393917Z",
     "iopub.status.idle": "2024-01-04T19:24:07.404411Z",
     "shell.execute_reply": "2024-01-04T19:24:07.403185Z"
    },
    "id": "fTE7NUcKU8UB",
    "jupyter": {
     "outputs_hidden": false
    },
    "outputId": "c9a60c55-7cf1-47de-d035-bd032f85efff",
    "papermill": {
     "duration": 0.074701,
     "end_time": "2024-01-04T19:24:07.406961",
     "exception": false,
     "start_time": "2024-01-04T19:24:07.332260",
     "status": "completed"
    },
    "tags": []
   },
   "outputs": [
    {
     "data": {
      "text/plain": [
       "<bound method Series.unique of 0     English\n",
       "1     English\n",
       "2     English\n",
       "3     English\n",
       "4     English\n",
       "       ...   \n",
       "84    English\n",
       "85    English\n",
       "86    English\n",
       "87    English\n",
       "88    English\n",
       "Name: language, Length: 86, dtype: object>"
      ]
     },
     "execution_count": 93,
     "metadata": {},
     "output_type": "execute_result"
    }
   ],
   "source": [
    "imdb5['language'].unique"
   ]
  },
  {
   "cell_type": "code",
   "execution_count": 94,
   "id": "f5813b76",
   "metadata": {
    "_cell_guid": "78bd78d5-d143-4b7e-92a9-dd3b7a0804ec",
    "_uuid": "9e681860-adad-4daf-be54-4fd9affce432",
    "collapsed": false,
    "execution": {
     "iopub.execute_input": "2024-01-04T19:24:07.521382Z",
     "iopub.status.busy": "2024-01-04T19:24:07.520528Z",
     "iopub.status.idle": "2024-01-04T19:24:07.531204Z",
     "shell.execute_reply": "2024-01-04T19:24:07.529624Z"
    },
    "id": "B3M2o0QVV4a9",
    "jupyter": {
     "outputs_hidden": false
    },
    "outputId": "7a04fb0a-2a41-40af-af8a-88f98a751dc2",
    "papermill": {
     "duration": 0.070765,
     "end_time": "2024-01-04T19:24:07.533671",
     "exception": false,
     "start_time": "2024-01-04T19:24:07.462906",
     "status": "completed"
    },
    "tags": []
   },
   "outputs": [
    {
     "data": {
      "text/plain": [
       "0     8.2\n",
       "1     7.2\n",
       "2     7.9\n",
       "3     6.5\n",
       "4     7.9\n",
       "     ... \n",
       "84    6.7\n",
       "85    8.1\n",
       "86    7.3\n",
       "87    7.9\n",
       "88    7.6\n",
       "Name: imdb_score, Length: 86, dtype: float64"
      ]
     },
     "execution_count": 94,
     "metadata": {},
     "output_type": "execute_result"
    }
   ],
   "source": [
    "imdb5['imdb_score']"
   ]
  },
  {
   "cell_type": "code",
   "execution_count": 95,
   "id": "92a02b0c",
   "metadata": {
    "_cell_guid": "dd4173f6-6a13-474c-a750-56a45a3e6051",
    "_uuid": "1c31898d-ee57-4497-baad-e88cab4a356b",
    "collapsed": false,
    "execution": {
     "iopub.execute_input": "2024-01-04T19:24:07.648746Z",
     "iopub.status.busy": "2024-01-04T19:24:07.648292Z",
     "iopub.status.idle": "2024-01-04T19:24:08.026695Z",
     "shell.execute_reply": "2024-01-04T19:24:08.024938Z"
    },
    "id": "r3IT_6QEYChI",
    "jupyter": {
     "outputs_hidden": false
    },
    "outputId": "deb62608-53a5-4a33-d2b8-420ecf159cfe",
    "papermill": {
     "duration": 0.439272,
     "end_time": "2024-01-04T19:24:08.029684",
     "exception": false,
     "start_time": "2024-01-04T19:24:07.590412",
     "status": "completed"
    },
    "tags": []
   },
   "outputs": [
    {
     "data": {
      "text/plain": [
       "array([[<Axes: title={'center': 'imdb_score'}>]], dtype=object)"
      ]
     },
     "execution_count": 95,
     "metadata": {},
     "output_type": "execute_result"
    },
    {
     "data": {
      "image/png": "[encoded data removed]",
      "text/plain": [
       "<Figure size 640x480 with 1 Axes>"
      ]
     },
     "metadata": {},
     "output_type": "display_data"
    }
   ],
   "source": [
    "imdb5.hist('imdb_score')"
   ]
  },
  {
   "cell_type": "code",
   "execution_count": 96,
   "id": "54bf5a15",
   "metadata": {
    "_cell_guid": "7c3e0116-e2c0-481e-bce6-2a04a3df872c",
    "_uuid": "9b47c35b-f51d-48d9-8809-038646eb55fb",
    "collapsed": false,
    "execution": {
     "iopub.execute_input": "2024-01-04T19:24:08.153451Z",
     "iopub.status.busy": "2024-01-04T19:24:08.152983Z",
     "iopub.status.idle": "2024-01-04T19:24:08.161785Z",
     "shell.execute_reply": "2024-01-04T19:24:08.160626Z"
    },
    "id": "tlh7BvhsYIbl",
    "jupyter": {
     "outputs_hidden": false
    },
    "outputId": "ff2ab06f-c776-49f2-8160-250dbca35cf6",
    "papermill": {
     "duration": 0.075313,
     "end_time": "2024-01-04T19:24:08.165076",
     "exception": false,
     "start_time": "2024-01-04T19:24:08.089763",
     "status": "completed"
    },
    "tags": []
   },
   "outputs": [
    {
     "data": {
      "text/plain": [
       "8.8"
      ]
     },
     "execution_count": 96,
     "metadata": {},
     "output_type": "execute_result"
    }
   ],
   "source": [
    "imdb5['imdb_score'].max()"
   ]
  },
  {
   "cell_type": "code",
   "execution_count": 97,
   "id": "81f07894",
   "metadata": {
    "_cell_guid": "f487de8d-ab1a-47a7-8e41-1b08dcbce586",
    "_uuid": "08ecba25-d905-41bc-add9-0ed146789de6",
    "collapsed": false,
    "execution": {
     "iopub.execute_input": "2024-01-04T19:24:08.293626Z",
     "iopub.status.busy": "2024-01-04T19:24:08.293165Z",
     "iopub.status.idle": "2024-01-04T19:24:08.298598Z",
     "shell.execute_reply": "2024-01-04T19:24:08.297361Z"
    },
    "id": "QHZpJbtYg4-A",
    "jupyter": {
     "outputs_hidden": false
    },
    "papermill": {
     "duration": 0.071977,
     "end_time": "2024-01-04T19:24:08.301783",
     "exception": false,
     "start_time": "2024-01-04T19:24:08.229806",
     "status": "completed"
    },
    "tags": []
   },
   "outputs": [],
   "source": [
    "#¿Cuál es el nombre de película que tiene más de 250.000 likes en Facebook (campo movie_facebook_likes)?"
   ]
  },
  {
   "cell_type": "code",
   "execution_count": 98,
   "id": "06d2aefe",
   "metadata": {
    "_cell_guid": "bd4eaf3b-7a6d-4248-9914-1a1d0461984c",
    "_uuid": "7464dee1-c869-4bbe-a7b3-2443988eefa7",
    "collapsed": false,
    "execution": {
     "iopub.execute_input": "2024-01-04T19:24:08.432171Z",
     "iopub.status.busy": "2024-01-04T19:24:08.431708Z",
     "iopub.status.idle": "2024-01-04T19:24:08.452586Z",
     "shell.execute_reply": "2024-01-04T19:24:08.451323Z"
    },
    "id": "YQSUaNvYYLiC",
    "jupyter": {
     "outputs_hidden": false
    },
    "outputId": "88a3589e-402b-4ada-f655-6342873b8f3e",
    "papermill": {
     "duration": 0.090753,
     "end_time": "2024-01-04T19:24:08.455113",
     "exception": false,
     "start_time": "2024-01-04T19:24:08.364360",
     "status": "completed"
    },
    "tags": []
   },
   "outputs": [
    {
     "data": {
      "text/html": [
       "<div>\n",
       "<style scoped>\n",
       "    .dataframe tbody tr th:only-of-type {\n",
       "        vertical-align: middle;\n",
       "    }\n",
       "\n",
       "    .dataframe tbody tr th {\n",
       "        vertical-align: top;\n",
       "    }\n",
       "\n",
       "    .dataframe thead th {\n",
       "        text-align: right;\n",
       "    }\n",
       "</style>\n",
       "<table border=\"1\" class=\"dataframe\">\n",
       "  <thead>\n",
       "    <tr style=\"text-align: right;\">\n",
       "      <th></th>\n",
       "      <th>director_name</th>\n",
       "      <th>duration</th>\n",
       "      <th>gross</th>\n",
       "      <th>movie_title</th>\n",
       "      <th>title_year</th>\n",
       "      <th>language</th>\n",
       "      <th>country</th>\n",
       "      <th>budget</th>\n",
       "      <th>imdb_score</th>\n",
       "      <th>actors</th>\n",
       "      <th>movie_facebook_likes</th>\n",
       "      <th>genero_0</th>\n",
       "      <th>genero_1</th>\n",
       "      <th>genero_2</th>\n",
       "      <th>genero_3</th>\n",
       "      <th>genero_4</th>\n",
       "    </tr>\n",
       "  </thead>\n",
       "  <tbody>\n",
       "    <tr>\n",
       "      <th>10</th>\n",
       "      <td>Christopher Nolan</td>\n",
       "      <td>169</td>\n",
       "      <td>187991439.0</td>\n",
       "      <td>Interstellar</td>\n",
       "      <td>2014</td>\n",
       "      <td>English</td>\n",
       "      <td>USA</td>\n",
       "      <td>165000000.0</td>\n",
       "      <td>8.6</td>\n",
       "      <td>Matthew McConaughey,Anne Hathaway,Mackenzie Foy</td>\n",
       "      <td>349000</td>\n",
       "      <td>Adventure</td>\n",
       "      <td>Drama</td>\n",
       "      <td>Sci-Fi</td>\n",
       "      <td>SIN GENERO</td>\n",
       "      <td>SIN GENERO</td>\n",
       "    </tr>\n",
       "  </tbody>\n",
       "</table>\n",
       "</div>"
      ],
      "text/plain": [
       "        director_name  duration        gross   movie_title  title_year  \\\n",
       "10  Christopher Nolan       169  187991439.0  Interstellar        2014   \n",
       "\n",
       "   language country       budget  imdb_score  \\\n",
       "10  English     USA  165000000.0         8.6   \n",
       "\n",
       "                                             actors  movie_facebook_likes  \\\n",
       "10  Matthew McConaughey,Anne Hathaway,Mackenzie Foy                349000   \n",
       "\n",
       "     genero_0 genero_1 genero_2    genero_3    genero_4  \n",
       "10  Adventure    Drama   Sci-Fi  SIN GENERO  SIN GENERO  "
      ]
     },
     "execution_count": 98,
     "metadata": {},
     "output_type": "execute_result"
    }
   ],
   "source": [
    "imdb5[imdb5['movie_facebook_likes']>250000]"
   ]
  },
  {
   "cell_type": "code",
   "execution_count": 99,
   "id": "204b464a",
   "metadata": {
    "_cell_guid": "858e8d2b-8275-46b6-acf2-270be363aeb2",
    "_uuid": "8964e90e-0e61-4ebf-bd46-adff144349dd",
    "collapsed": false,
    "execution": {
     "iopub.execute_input": "2024-01-04T19:24:08.583476Z",
     "iopub.status.busy": "2024-01-04T19:24:08.583049Z",
     "iopub.status.idle": "2024-01-04T19:24:08.588123Z",
     "shell.execute_reply": "2024-01-04T19:24:08.586860Z"
    },
    "id": "WUjOjUL1g87G",
    "jupyter": {
     "outputs_hidden": false
    },
    "papermill": {
     "duration": 0.073303,
     "end_time": "2024-01-04T19:24:08.591712",
     "exception": false,
     "start_time": "2024-01-04T19:24:08.518409",
     "status": "completed"
    },
    "tags": []
   },
   "outputs": [],
   "source": [
    "#Escribe que otra información relevante has encontrado del dataset? (también incluye el código para generar ello)"
   ]
  },
  {
   "cell_type": "code",
   "execution_count": 100,
   "id": "a27727e5",
   "metadata": {
    "_cell_guid": "7a147051-80e0-48ae-bb35-859ae976a348",
    "_uuid": "afdff609-ea1b-490b-bbac-857b8540e150",
    "collapsed": false,
    "execution": {
     "iopub.execute_input": "2024-01-04T19:24:08.719267Z",
     "iopub.status.busy": "2024-01-04T19:24:08.718847Z",
     "iopub.status.idle": "2024-01-04T19:24:08.742305Z",
     "shell.execute_reply": "2024-01-04T19:24:08.740745Z"
    },
    "id": "PnB1gpd1ZOJZ",
    "jupyter": {
     "outputs_hidden": false
    },
    "outputId": "cc769455-c5d9-4cab-a311-519ff3af8cf5",
    "papermill": {
     "duration": 0.089353,
     "end_time": "2024-01-04T19:24:08.744985",
     "exception": false,
     "start_time": "2024-01-04T19:24:08.655632",
     "status": "completed"
    },
    "tags": []
   },
   "outputs": [
    {
     "data": {
      "text/html": [
       "<div>\n",
       "<style scoped>\n",
       "    .dataframe tbody tr th:only-of-type {\n",
       "        vertical-align: middle;\n",
       "    }\n",
       "\n",
       "    .dataframe tbody tr th {\n",
       "        vertical-align: top;\n",
       "    }\n",
       "\n",
       "    .dataframe thead th {\n",
       "        text-align: right;\n",
       "    }\n",
       "</style>\n",
       "<table border=\"1\" class=\"dataframe\">\n",
       "  <thead>\n",
       "    <tr style=\"text-align: right;\">\n",
       "      <th></th>\n",
       "      <th>director_name</th>\n",
       "      <th>duration</th>\n",
       "      <th>gross</th>\n",
       "      <th>movie_title</th>\n",
       "      <th>title_year</th>\n",
       "      <th>language</th>\n",
       "      <th>country</th>\n",
       "      <th>budget</th>\n",
       "      <th>imdb_score</th>\n",
       "      <th>actors</th>\n",
       "      <th>movie_facebook_likes</th>\n",
       "      <th>genero_0</th>\n",
       "      <th>genero_1</th>\n",
       "      <th>genero_2</th>\n",
       "      <th>genero_3</th>\n",
       "      <th>genero_4</th>\n",
       "    </tr>\n",
       "  </thead>\n",
       "  <tbody>\n",
       "    <tr>\n",
       "      <th>0</th>\n",
       "      <td>Martin Scorsese</td>\n",
       "      <td>240</td>\n",
       "      <td>116866727.0</td>\n",
       "      <td>The Wolf of Wall Street</td>\n",
       "      <td>2013</td>\n",
       "      <td>English</td>\n",
       "      <td>USA</td>\n",
       "      <td>100000000.0</td>\n",
       "      <td>8.2</td>\n",
       "      <td>Leonardo DiCaprio,Matthew McConaughey,Jon Favreau</td>\n",
       "      <td>138000</td>\n",
       "      <td>Biography</td>\n",
       "      <td>Comedy</td>\n",
       "      <td>Crime</td>\n",
       "      <td>Drama</td>\n",
       "      <td>SIN GENERO</td>\n",
       "    </tr>\n",
       "    <tr>\n",
       "      <th>1</th>\n",
       "      <td>Shane Black</td>\n",
       "      <td>195</td>\n",
       "      <td>408992272.0</td>\n",
       "      <td>Iron Man 3</td>\n",
       "      <td>2013</td>\n",
       "      <td>English</td>\n",
       "      <td>USA</td>\n",
       "      <td>200000000.0</td>\n",
       "      <td>7.2</td>\n",
       "      <td>Robert Downey Jr.,Jon Favreau,Don Cheadle</td>\n",
       "      <td>95000</td>\n",
       "      <td>Action</td>\n",
       "      <td>Adventure</td>\n",
       "      <td>Sci-Fi</td>\n",
       "      <td>SIN GENERO</td>\n",
       "      <td>SIN GENERO</td>\n",
       "    </tr>\n",
       "    <tr>\n",
       "      <th>2</th>\n",
       "      <td>Quentin Tarantino</td>\n",
       "      <td>187</td>\n",
       "      <td>54116191.0</td>\n",
       "      <td>The Hateful Eight</td>\n",
       "      <td>2015</td>\n",
       "      <td>English</td>\n",
       "      <td>USA</td>\n",
       "      <td>44000000.0</td>\n",
       "      <td>7.9</td>\n",
       "      <td>Craig Stark,Jennifer Jason Leigh,Zoë Bell</td>\n",
       "      <td>114000</td>\n",
       "      <td>Crime</td>\n",
       "      <td>Drama</td>\n",
       "      <td>Mystery</td>\n",
       "      <td>Thriller</td>\n",
       "      <td>Western</td>\n",
       "    </tr>\n",
       "    <tr>\n",
       "      <th>3</th>\n",
       "      <td>Kenneth Lonergan</td>\n",
       "      <td>186</td>\n",
       "      <td>46495.0</td>\n",
       "      <td>Margaret</td>\n",
       "      <td>2011</td>\n",
       "      <td>English</td>\n",
       "      <td>usa</td>\n",
       "      <td>14000000.0</td>\n",
       "      <td>6.5</td>\n",
       "      <td>Matt Damon,Kieran Culkin,John Gallagher Jr.</td>\n",
       "      <td>0</td>\n",
       "      <td>Drama</td>\n",
       "      <td>SIN GENERO</td>\n",
       "      <td>SIN GENERO</td>\n",
       "      <td>SIN GENERO</td>\n",
       "      <td>SIN GENERO</td>\n",
       "    </tr>\n",
       "    <tr>\n",
       "      <th>4</th>\n",
       "      <td>Peter Jackson</td>\n",
       "      <td>186</td>\n",
       "      <td>258355354.0</td>\n",
       "      <td>The Hobbit: The Desolation of Smaug</td>\n",
       "      <td>2013</td>\n",
       "      <td>English</td>\n",
       "      <td>USA</td>\n",
       "      <td>225000000.0</td>\n",
       "      <td>7.9</td>\n",
       "      <td>Aidan Turner,Adam Brown,James Nesbitt</td>\n",
       "      <td>83000</td>\n",
       "      <td>Adventure</td>\n",
       "      <td>Fantasy</td>\n",
       "      <td>SIN GENERO</td>\n",
       "      <td>SIN GENERO</td>\n",
       "      <td>SIN GENERO</td>\n",
       "    </tr>\n",
       "  </tbody>\n",
       "</table>\n",
       "</div>"
      ],
      "text/plain": [
       "       director_name  duration        gross  \\\n",
       "0    Martin Scorsese       240  116866727.0   \n",
       "1        Shane Black       195  408992272.0   \n",
       "2  Quentin Tarantino       187   54116191.0   \n",
       "3   Kenneth Lonergan       186      46495.0   \n",
       "4      Peter Jackson       186  258355354.0   \n",
       "\n",
       "                           movie_title  title_year language country  \\\n",
       "0              The Wolf of Wall Street        2013  English     USA   \n",
       "1                           Iron Man 3        2013  English     USA   \n",
       "2                    The Hateful Eight        2015  English     USA   \n",
       "3                             Margaret        2011  English     usa   \n",
       "4  The Hobbit: The Desolation of Smaug        2013  English     USA   \n",
       "\n",
       "        budget  imdb_score                                             actors  \\\n",
       "0  100000000.0         8.2  Leonardo DiCaprio,Matthew McConaughey,Jon Favreau   \n",
       "1  200000000.0         7.2          Robert Downey Jr.,Jon Favreau,Don Cheadle   \n",
       "2   44000000.0         7.9          Craig Stark,Jennifer Jason Leigh,Zoë Bell   \n",
       "3   14000000.0         6.5        Matt Damon,Kieran Culkin,John Gallagher Jr.   \n",
       "4  225000000.0         7.9              Aidan Turner,Adam Brown,James Nesbitt   \n",
       "\n",
       "   movie_facebook_likes   genero_0    genero_1    genero_2    genero_3  \\\n",
       "0                138000  Biography      Comedy       Crime       Drama   \n",
       "1                 95000     Action   Adventure      Sci-Fi  SIN GENERO   \n",
       "2                114000      Crime       Drama     Mystery    Thriller   \n",
       "3                     0      Drama  SIN GENERO  SIN GENERO  SIN GENERO   \n",
       "4                 83000  Adventure     Fantasy  SIN GENERO  SIN GENERO   \n",
       "\n",
       "     genero_4  \n",
       "0  SIN GENERO  \n",
       "1  SIN GENERO  \n",
       "2     Western  \n",
       "3  SIN GENERO  \n",
       "4  SIN GENERO  "
      ]
     },
     "execution_count": 100,
     "metadata": {},
     "output_type": "execute_result"
    }
   ],
   "source": [
    "imdb5.head()"
   ]
  },
  {
   "cell_type": "code",
   "execution_count": null,
   "id": "1b6abd27",
   "metadata": {
    "_cell_guid": "37fc87c2-75ae-4328-b6aa-0325a3126954",
    "_uuid": "697362f6-0ab9-401e-8cca-f15951849e36",
    "collapsed": false,
    "id": "aKtGG6uIjAOi",
    "jupyter": {
     "outputs_hidden": false
    },
    "outputId": "7e2a10e0-caa9-4fbb-aba9-7c5d5845f7c8",
    "papermill": {
     "duration": 0.058927,
     "end_time": "2024-01-04T19:24:08.864034",
     "exception": false,
     "start_time": "2024-01-04T19:24:08.805107",
     "status": "completed"
    },
    "tags": []
   },
   "outputs": [],
   "source": []
  },
  {
   "cell_type": "code",
   "execution_count": 101,
   "id": "8e5ad72b",
   "metadata": {
    "_cell_guid": "aa2cface-5526-4c60-9f82-ee8a6c479678",
    "_uuid": "bfaa4dc6-1009-4d94-916f-81c0cee86734",
    "collapsed": false,
    "execution": {
     "iopub.execute_input": "2024-01-04T19:24:08.984145Z",
     "iopub.status.busy": "2024-01-04T19:24:08.983736Z",
     "iopub.status.idle": "2024-01-04T19:24:08.991323Z",
     "shell.execute_reply": "2024-01-04T19:24:08.989499Z"
    },
    "id": "tqaR8sSajMaU",
    "jupyter": {
     "outputs_hidden": false
    },
    "outputId": "496f184a-6130-4e37-8a80-de5c689f9926",
    "papermill": {
     "duration": 0.071596,
     "end_time": "2024-01-04T19:24:08.994261",
     "exception": false,
     "start_time": "2024-01-04T19:24:08.922665",
     "status": "completed"
    },
    "tags": []
   },
   "outputs": [
    {
     "name": "stdout",
     "output_type": "stream",
     "text": [
      "['USA' 'usa' 'UK' 'Germany' 'New Zealand' 'India' 'United States' 'France'\n",
      " 'Australia' 'Czech Republic' 'Kyrgyzstan' 'Canada']\n"
     ]
    }
   ],
   "source": [
    "countries = imdb5['country'].unique()\n",
    "print(countries)"
   ]
  },
  {
   "cell_type": "code",
   "execution_count": 102,
   "id": "534e776f",
   "metadata": {
    "_cell_guid": "e84bfb0f-7874-4205-b32a-a6434852dc93",
    "_uuid": "71def305-aa74-4675-a64c-b6326af515bf",
    "collapsed": false,
    "execution": {
     "iopub.execute_input": "2024-01-04T19:24:09.114621Z",
     "iopub.status.busy": "2024-01-04T19:24:09.114105Z",
     "iopub.status.idle": "2024-01-04T19:24:09.576444Z",
     "shell.execute_reply": "2024-01-04T19:24:09.574898Z"
    },
    "id": "o4XWJIufkf6w",
    "jupyter": {
     "outputs_hidden": false
    },
    "outputId": "c84357a4-fb97-4475-dd0f-68ef57034db7",
    "papermill": {
     "duration": 0.525608,
     "end_time": "2024-01-04T19:24:09.579328",
     "exception": false,
     "start_time": "2024-01-04T19:24:09.053720",
     "status": "completed"
    },
    "tags": []
   },
   "outputs": [
    {
     "data": {
      "text/plain": [
       "array([[<Axes: title={'center': 'duration'}>]], dtype=object)"
      ]
     },
     "execution_count": 102,
     "metadata": {},
     "output_type": "execute_result"
    },
    {
     "data": {
      "image/png": "[encoded data removed]",
      "text/plain": [
       "<Figure size 640x480 with 1 Axes>"
      ]
     },
     "metadata": {},
     "output_type": "display_data"
    }
   ],
   "source": [
    "imdb4.hist('duration')"
   ]
  },
  {
   "cell_type": "code",
   "execution_count": 103,
   "id": "497bba1e",
   "metadata": {
    "_cell_guid": "f120d965-f920-4d3a-920b-11ac3b58f4c7",
    "_uuid": "5b622bc1-e3c8-440d-a7e0-96e8bda68f2b",
    "collapsed": false,
    "execution": {
     "iopub.execute_input": "2024-01-04T19:24:09.701069Z",
     "iopub.status.busy": "2024-01-04T19:24:09.700627Z",
     "iopub.status.idle": "2024-01-04T19:24:09.746014Z",
     "shell.execute_reply": "2024-01-04T19:24:09.744958Z"
    },
    "id": "6GrYOmeVmSo_",
    "jupyter": {
     "outputs_hidden": false
    },
    "outputId": "4f81f66b-612a-49b1-fc19-ce16cb5b7dbb",
    "papermill": {
     "duration": 0.109006,
     "end_time": "2024-01-04T19:24:09.749214",
     "exception": false,
     "start_time": "2024-01-04T19:24:09.640208",
     "status": "completed"
    },
    "tags": []
   },
   "outputs": [
    {
     "data": {
      "text/html": [
       "<div>\n",
       "<style scoped>\n",
       "    .dataframe tbody tr th:only-of-type {\n",
       "        vertical-align: middle;\n",
       "    }\n",
       "\n",
       "    .dataframe tbody tr th {\n",
       "        vertical-align: top;\n",
       "    }\n",
       "\n",
       "    .dataframe thead th {\n",
       "        text-align: right;\n",
       "    }\n",
       "</style>\n",
       "<table border=\"1\" class=\"dataframe\">\n",
       "  <thead>\n",
       "    <tr style=\"text-align: right;\">\n",
       "      <th></th>\n",
       "      <th>director_name</th>\n",
       "      <th>duration</th>\n",
       "      <th>gross</th>\n",
       "      <th>genres</th>\n",
       "      <th>movie_title</th>\n",
       "      <th>title_year</th>\n",
       "      <th>language</th>\n",
       "      <th>country</th>\n",
       "      <th>budget</th>\n",
       "      <th>imdb_score</th>\n",
       "      <th>actors</th>\n",
       "      <th>movie_facebook_likes</th>\n",
       "      <th>genero_0</th>\n",
       "      <th>genero_1</th>\n",
       "      <th>genero_2</th>\n",
       "      <th>genero_3</th>\n",
       "      <th>genero_4</th>\n",
       "    </tr>\n",
       "  </thead>\n",
       "  <tbody>\n",
       "    <tr>\n",
       "      <th>59</th>\n",
       "      <td>SIN DIRECTOR</td>\n",
       "      <td>139</td>\n",
       "      <td>1.508322e+08</td>\n",
       "      <td>Adventure|Mystery|Sci-Fi</td>\n",
       "      <td>Divergent</td>\n",
       "      <td>2014</td>\n",
       "      <td>English</td>\n",
       "      <td>USA</td>\n",
       "      <td>85000000.0</td>\n",
       "      <td>6.7</td>\n",
       "      <td>Kate Winslet,Theo James,Mekhi Phifer</td>\n",
       "      <td>49000</td>\n",
       "      <td>Adventure</td>\n",
       "      <td>Mystery</td>\n",
       "      <td>Sci-Fi</td>\n",
       "      <td>SIN GENERO</td>\n",
       "      <td>SIN GENERO</td>\n",
       "    </tr>\n",
       "    <tr>\n",
       "      <th>60</th>\n",
       "      <td>Gary Ross</td>\n",
       "      <td>139</td>\n",
       "      <td>2.038997e+07</td>\n",
       "      <td>Action|Biography|Drama|History|War</td>\n",
       "      <td>Free State of Jones</td>\n",
       "      <td>2016</td>\n",
       "      <td>English</td>\n",
       "      <td>USA</td>\n",
       "      <td>50000000.0</td>\n",
       "      <td>6.7</td>\n",
       "      <td>Matthew McConaughey,Donald Watkins,Jessica Col...</td>\n",
       "      <td>10000</td>\n",
       "      <td>Action</td>\n",
       "      <td>Biography</td>\n",
       "      <td>Drama</td>\n",
       "      <td>History</td>\n",
       "      <td>War</td>\n",
       "    </tr>\n",
       "    <tr>\n",
       "      <th>61</th>\n",
       "      <td>Tate Taylor</td>\n",
       "      <td>139</td>\n",
       "      <td>3.051394e+07</td>\n",
       "      <td>Biography|Drama|Music</td>\n",
       "      <td>Get on Up</td>\n",
       "      <td>2014</td>\n",
       "      <td>English</td>\n",
       "      <td>USA</td>\n",
       "      <td>30000000.0</td>\n",
       "      <td>6.9</td>\n",
       "      <td>Tika Sumpter,Josh Hopkins,Aunjanue Ellis</td>\n",
       "      <td>11000</td>\n",
       "      <td>Biography</td>\n",
       "      <td>Drama</td>\n",
       "      <td>Music</td>\n",
       "      <td>SIN GENERO</td>\n",
       "      <td>SIN GENERO</td>\n",
       "    </tr>\n",
       "    <tr>\n",
       "      <th>62</th>\n",
       "      <td>Terrence Malick</td>\n",
       "      <td>139</td>\n",
       "      <td>1.330332e+07</td>\n",
       "      <td>Drama|Fantasy</td>\n",
       "      <td>The Tree of Life</td>\n",
       "      <td>2011</td>\n",
       "      <td>English</td>\n",
       "      <td>USA</td>\n",
       "      <td>32000000.0</td>\n",
       "      <td>6.7</td>\n",
       "      <td>Brad Pitt,Tye Sheridan,Fiona Shaw</td>\n",
       "      <td>39000</td>\n",
       "      <td>Drama</td>\n",
       "      <td>Fantasy</td>\n",
       "      <td>SIN GENERO</td>\n",
       "      <td>SIN GENERO</td>\n",
       "      <td>SIN GENERO</td>\n",
       "    </tr>\n",
       "    <tr>\n",
       "      <th>63</th>\n",
       "      <td>SIN DIRECTOR</td>\n",
       "      <td>138</td>\n",
       "      <td>1.501178e+08</td>\n",
       "      <td>Crime|Drama</td>\n",
       "      <td>American Hustle</td>\n",
       "      <td>2013</td>\n",
       "      <td>English</td>\n",
       "      <td>USA</td>\n",
       "      <td>40000000.0</td>\n",
       "      <td>7.3</td>\n",
       "      <td>Jennifer Lawrence,Christian Bale,Bradley Cooper</td>\n",
       "      <td>63000</td>\n",
       "      <td>Crime</td>\n",
       "      <td>Drama</td>\n",
       "      <td>SIN GENERO</td>\n",
       "      <td>SIN GENERO</td>\n",
       "      <td>SIN GENERO</td>\n",
       "    </tr>\n",
       "    <tr>\n",
       "      <th>64</th>\n",
       "      <td>Robert Zemeckis</td>\n",
       "      <td>138</td>\n",
       "      <td>9.374920e+07</td>\n",
       "      <td>Drama|Thriller</td>\n",
       "      <td>Flight</td>\n",
       "      <td>2012</td>\n",
       "      <td>English</td>\n",
       "      <td>USA</td>\n",
       "      <td>31000000.0</td>\n",
       "      <td>7.3</td>\n",
       "      <td>Denzel Washington,Bruce Greenwood,Nadine Velaz...</td>\n",
       "      <td>64000</td>\n",
       "      <td>Drama</td>\n",
       "      <td>Thriller</td>\n",
       "      <td>SIN GENERO</td>\n",
       "      <td>SIN GENERO</td>\n",
       "      <td>SIN GENERO</td>\n",
       "    </tr>\n",
       "    <tr>\n",
       "      <th>65</th>\n",
       "      <td>Darren Aronofsky</td>\n",
       "      <td>138</td>\n",
       "      <td>1.011605e+08</td>\n",
       "      <td>Action|Adventure|Drama</td>\n",
       "      <td>Noah</td>\n",
       "      <td>2014</td>\n",
       "      <td>English</td>\n",
       "      <td>USA</td>\n",
       "      <td>125000000.0</td>\n",
       "      <td>5.8</td>\n",
       "      <td>Anthony Hopkins,Emma Watson,Logan Lerman</td>\n",
       "      <td>71000</td>\n",
       "      <td>Action</td>\n",
       "      <td>Adventure</td>\n",
       "      <td>Drama</td>\n",
       "      <td>SIN GENERO</td>\n",
       "      <td>SIN GENERO</td>\n",
       "    </tr>\n",
       "    <tr>\n",
       "      <th>66</th>\n",
       "      <td>Martin Scorsese</td>\n",
       "      <td>138</td>\n",
       "      <td>1.279684e+08</td>\n",
       "      <td>Mystery|Thriller</td>\n",
       "      <td>Shutter Island</td>\n",
       "      <td>2010</td>\n",
       "      <td>English</td>\n",
       "      <td>USA</td>\n",
       "      <td>80000000.0</td>\n",
       "      <td>8.1</td>\n",
       "      <td>Leonardo DiCaprio,Joseph Sikora,Nellie Sciutto</td>\n",
       "      <td>53000</td>\n",
       "      <td>Mystery</td>\n",
       "      <td>Thriller</td>\n",
       "      <td>SIN GENERO</td>\n",
       "      <td>SIN GENERO</td>\n",
       "      <td>SIN GENERO</td>\n",
       "    </tr>\n",
       "    <tr>\n",
       "      <th>67</th>\n",
       "      <td>Ridley Scott</td>\n",
       "      <td>138</td>\n",
       "      <td>1.696939e+07</td>\n",
       "      <td>Crime|Drama|Thriller</td>\n",
       "      <td>The Counselor</td>\n",
       "      <td>2013</td>\n",
       "      <td>English</td>\n",
       "      <td>USA</td>\n",
       "      <td>25000000.0</td>\n",
       "      <td>5.3</td>\n",
       "      <td>Michael Fassbender,Brad Pitt,Goran Visnjic</td>\n",
       "      <td>24000</td>\n",
       "      <td>Crime</td>\n",
       "      <td>Drama</td>\n",
       "      <td>Thriller</td>\n",
       "      <td>SIN GENERO</td>\n",
       "      <td>SIN GENERO</td>\n",
       "    </tr>\n",
       "    <tr>\n",
       "      <th>68</th>\n",
       "      <td>James Mangold</td>\n",
       "      <td>138</td>\n",
       "      <td>1.325510e+08</td>\n",
       "      <td>Action|Adventure|Sci-Fi|Thriller</td>\n",
       "      <td>The Wolverine</td>\n",
       "      <td>2013</td>\n",
       "      <td>English</td>\n",
       "      <td>USA</td>\n",
       "      <td>120000000.0</td>\n",
       "      <td>6.7</td>\n",
       "      <td>Hugh Jackman,Tao Okamoto,Rila Fukushima</td>\n",
       "      <td>68000</td>\n",
       "      <td>Action</td>\n",
       "      <td>Adventure</td>\n",
       "      <td>Sci-Fi</td>\n",
       "      <td>Thriller</td>\n",
       "      <td>SIN GENERO</td>\n",
       "    </tr>\n",
       "    <tr>\n",
       "      <th>69</th>\n",
       "      <td>Daniel Espinosa</td>\n",
       "      <td>137</td>\n",
       "      <td>1.206135e+06</td>\n",
       "      <td>Crime|Drama|Thriller</td>\n",
       "      <td>Child 44</td>\n",
       "      <td>205</td>\n",
       "      <td>English</td>\n",
       "      <td>Czech Republic</td>\n",
       "      <td>50000000.0</td>\n",
       "      <td>6.4</td>\n",
       "      <td>Tom Hardy,Fares Fares,Michael Nardone</td>\n",
       "      <td>18000</td>\n",
       "      <td>Crime</td>\n",
       "      <td>Drama</td>\n",
       "      <td>Thriller</td>\n",
       "      <td>SIN GENERO</td>\n",
       "      <td>SIN GENERO</td>\n",
       "    </tr>\n",
       "    <tr>\n",
       "      <th>70</th>\n",
       "      <td>SIN DIRECTOR</td>\n",
       "      <td>137</td>\n",
       "      <td>3.730495e+07</td>\n",
       "      <td>Biography|Crime|Drama</td>\n",
       "      <td>J. Edgar</td>\n",
       "      <td>2011</td>\n",
       "      <td>English</td>\n",
       "      <td>USA</td>\n",
       "      <td>35000000.0</td>\n",
       "      <td>6.6</td>\n",
       "      <td>Leonardo DiCaprio,Naomi Watts,Kaitlyn Dever</td>\n",
       "      <td>16000</td>\n",
       "      <td>Biography</td>\n",
       "      <td>Crime</td>\n",
       "      <td>Drama</td>\n",
       "      <td>SIN GENERO</td>\n",
       "      <td>SIN GENERO</td>\n",
       "    </tr>\n",
       "    <tr>\n",
       "      <th>71</th>\n",
       "      <td>Walter Salles</td>\n",
       "      <td>137</td>\n",
       "      <td>7.177530e+05</td>\n",
       "      <td>Adventure|Drama</td>\n",
       "      <td>On the Road</td>\n",
       "      <td>2012</td>\n",
       "      <td>English</td>\n",
       "      <td>France</td>\n",
       "      <td>25000000.0</td>\n",
       "      <td>6.1</td>\n",
       "      <td>Kristen Stewart,Viggo Mortensen,Kirsten Dunst</td>\n",
       "      <td>27000</td>\n",
       "      <td>Adventure</td>\n",
       "      <td>Drama</td>\n",
       "      <td>SIN GENERO</td>\n",
       "      <td>SIN GENERO</td>\n",
       "      <td>SIN GENERO</td>\n",
       "    </tr>\n",
       "    <tr>\n",
       "      <th>72</th>\n",
       "      <td>SIN DIRECTOR</td>\n",
       "      <td>137</td>\n",
       "      <td>2.816661e+08</td>\n",
       "      <td>Adventure|Sci-Fi</td>\n",
       "      <td>The Hunger Games: Mockingjay - Part 2</td>\n",
       "      <td>2015</td>\n",
       "      <td>English</td>\n",
       "      <td>USA</td>\n",
       "      <td>160000000.0</td>\n",
       "      <td>6.6</td>\n",
       "      <td>Jennifer Lawrence,Philip Seymour Hoffman,Josh ...</td>\n",
       "      <td>38000</td>\n",
       "      <td>Adventure</td>\n",
       "      <td>Sci-Fi</td>\n",
       "      <td>SIN GENERO</td>\n",
       "      <td>SIN GENERO</td>\n",
       "      <td>SIN GENERO</td>\n",
       "    </tr>\n",
       "    <tr>\n",
       "      <th>73</th>\n",
       "      <td>Angelina Jolie Pitt</td>\n",
       "      <td>137</td>\n",
       "      <td>1.156040e+08</td>\n",
       "      <td>Biography|Drama|Sport|War</td>\n",
       "      <td>Unbroken</td>\n",
       "      <td>2014</td>\n",
       "      <td>English</td>\n",
       "      <td>USA</td>\n",
       "      <td>65000000.0</td>\n",
       "      <td>-1.2</td>\n",
       "      <td>Finn Wittrock,Jack O'Connell,Alex Russell</td>\n",
       "      <td>35000</td>\n",
       "      <td>Biography</td>\n",
       "      <td>Drama</td>\n",
       "      <td>Sport</td>\n",
       "      <td>War</td>\n",
       "      <td>SIN GENERO</td>\n",
       "    </tr>\n",
       "    <tr>\n",
       "      <th>74</th>\n",
       "      <td>Angelina Jolie Pitt</td>\n",
       "      <td>137</td>\n",
       "      <td>1.156040e+08</td>\n",
       "      <td>Biography|Drama|Sport|War</td>\n",
       "      <td>Unbroken</td>\n",
       "      <td>2014</td>\n",
       "      <td>English</td>\n",
       "      <td>USA</td>\n",
       "      <td>65000000.0</td>\n",
       "      <td>7.2</td>\n",
       "      <td>Finn Wittrock,Jack O'Connell,Alex Russell</td>\n",
       "      <td>35000</td>\n",
       "      <td>Biography</td>\n",
       "      <td>Drama</td>\n",
       "      <td>Sport</td>\n",
       "      <td>War</td>\n",
       "      <td>SIN GENERO</td>\n",
       "    </tr>\n",
       "    <tr>\n",
       "      <th>75</th>\n",
       "      <td>Seth MacFarlane</td>\n",
       "      <td>136</td>\n",
       "      <td>4.261568e+07</td>\n",
       "      <td>Comedy|Western</td>\n",
       "      <td>A Million Ways to Die in the West</td>\n",
       "      <td>2014</td>\n",
       "      <td>English</td>\n",
       "      <td>USA</td>\n",
       "      <td>40000000.0</td>\n",
       "      <td>6.1</td>\n",
       "      <td>Liam Neeson,Charlize Theron,Seth MacFarlane</td>\n",
       "      <td>24000</td>\n",
       "      <td>Comedy</td>\n",
       "      <td>Western</td>\n",
       "      <td>SIN GENERO</td>\n",
       "      <td>SIN GENERO</td>\n",
       "      <td>SIN GENERO</td>\n",
       "    </tr>\n",
       "    <tr>\n",
       "      <th>76</th>\n",
       "      <td>Anthony Russo</td>\n",
       "      <td>136</td>\n",
       "      <td>2.597470e+08</td>\n",
       "      <td>Action|Adventure|Sci-Fi</td>\n",
       "      <td>Captain America: The Winter Soldier</td>\n",
       "      <td>2014</td>\n",
       "      <td>English</td>\n",
       "      <td>usa</td>\n",
       "      <td>170000000.0</td>\n",
       "      <td>7.8</td>\n",
       "      <td>Scarlett Johansson,Chris Evans,Hayley Atwell</td>\n",
       "      <td>55000</td>\n",
       "      <td>Action</td>\n",
       "      <td>Adventure</td>\n",
       "      <td>Sci-Fi</td>\n",
       "      <td>SIN GENERO</td>\n",
       "      <td>SIN GENERO</td>\n",
       "    </tr>\n",
       "    <tr>\n",
       "      <th>77</th>\n",
       "      <td>Rob Marshall</td>\n",
       "      <td>136</td>\n",
       "      <td>2.410639e+08</td>\n",
       "      <td>Action|Adventure|Fantasy</td>\n",
       "      <td>Pirates of the Caribbean: On Stranger Tides</td>\n",
       "      <td>2011</td>\n",
       "      <td>English</td>\n",
       "      <td>USA</td>\n",
       "      <td>250000000.0</td>\n",
       "      <td>6.7</td>\n",
       "      <td>Johnny Depp,Sam Claflin,Stephen Graham</td>\n",
       "      <td>58000</td>\n",
       "      <td>Action</td>\n",
       "      <td>Adventure</td>\n",
       "      <td>Fantasy</td>\n",
       "      <td>SIN GENERO</td>\n",
       "      <td>SIN GENERO</td>\n",
       "    </tr>\n",
       "    <tr>\n",
       "      <th>78</th>\n",
       "      <td>Adam Shankman</td>\n",
       "      <td>136</td>\n",
       "      <td>3.850934e+07</td>\n",
       "      <td>Comedy|Drama|Musical|Romance</td>\n",
       "      <td>Rock of Ages</td>\n",
       "      <td>2012</td>\n",
       "      <td>English</td>\n",
       "      <td>USA</td>\n",
       "      <td>75000000.0</td>\n",
       "      <td>5.9</td>\n",
       "      <td>James Martin Kelly,Shane Hartline,Celina Beach</td>\n",
       "      <td>33000</td>\n",
       "      <td>Comedy</td>\n",
       "      <td>Drama</td>\n",
       "      <td>Musical</td>\n",
       "      <td>Romance</td>\n",
       "      <td>SIN GENERO</td>\n",
       "    </tr>\n",
       "    <tr>\n",
       "      <th>79</th>\n",
       "      <td>SIN DIRECTOR</td>\n",
       "      <td>136</td>\n",
       "      <td>5.247462e+07</td>\n",
       "      <td>Drama</td>\n",
       "      <td>Wall Street: Money Never Sleeps</td>\n",
       "      <td>2010</td>\n",
       "      <td>English</td>\n",
       "      <td>USA</td>\n",
       "      <td>70000000.0</td>\n",
       "      <td>6.3</td>\n",
       "      <td>Frank Langella,Austin Pendleton,John Buffalo M...</td>\n",
       "      <td>13000</td>\n",
       "      <td>Drama</td>\n",
       "      <td>SIN GENERO</td>\n",
       "      <td>SIN GENERO</td>\n",
       "      <td>SIN GENERO</td>\n",
       "      <td>SIN GENERO</td>\n",
       "    </tr>\n",
       "    <tr>\n",
       "      <th>80</th>\n",
       "      <td>Sadyk Sher-Niyaz</td>\n",
       "      <td>135</td>\n",
       "      <td>1.477886e+08</td>\n",
       "      <td>Action|Biography|Drama|History</td>\n",
       "      <td>Queen of the Mountains</td>\n",
       "      <td>2014</td>\n",
       "      <td>English</td>\n",
       "      <td>Kyrgyzstan</td>\n",
       "      <td>1400000.0</td>\n",
       "      <td>8.7</td>\n",
       "      <td>Elina Abai Kyzy,Aziz Muradillayev,Mirlan Abdul...</td>\n",
       "      <td>0</td>\n",
       "      <td>Action</td>\n",
       "      <td>Biography</td>\n",
       "      <td>Drama</td>\n",
       "      <td>History</td>\n",
       "      <td>SIN GENERO</td>\n",
       "    </tr>\n",
       "    <tr>\n",
       "      <th>81</th>\n",
       "      <td>Tony Gilroy</td>\n",
       "      <td>135</td>\n",
       "      <td>1.131656e+08</td>\n",
       "      <td>Action|Adventure|Thriller</td>\n",
       "      <td>The Bourne Legacy</td>\n",
       "      <td>2012</td>\n",
       "      <td>English</td>\n",
       "      <td>USA</td>\n",
       "      <td>125000000.0</td>\n",
       "      <td>6.7</td>\n",
       "      <td>Jeremy Renner,Scott Glenn,Stacy Keach</td>\n",
       "      <td>31000</td>\n",
       "      <td>Action</td>\n",
       "      <td>Adventure</td>\n",
       "      <td>Thriller</td>\n",
       "      <td>SIN GENERO</td>\n",
       "      <td>SIN GENERO</td>\n",
       "    </tr>\n",
       "    <tr>\n",
       "      <th>82</th>\n",
       "      <td>Steve McQueen</td>\n",
       "      <td>134</td>\n",
       "      <td>5.666787e+07</td>\n",
       "      <td>Biography|Drama|History</td>\n",
       "      <td>12 Years a Slave</td>\n",
       "      <td>2013</td>\n",
       "      <td>English</td>\n",
       "      <td>USA</td>\n",
       "      <td>20000000.0</td>\n",
       "      <td>8.1</td>\n",
       "      <td>Quvenzhané Wallis,Scoot McNairy,Taran Killam</td>\n",
       "      <td>83000</td>\n",
       "      <td>Biography</td>\n",
       "      <td>Drama</td>\n",
       "      <td>History</td>\n",
       "      <td>SIN GENERO</td>\n",
       "      <td>SIN GENERO</td>\n",
       "    </tr>\n",
       "    <tr>\n",
       "      <th>83</th>\n",
       "      <td>Richard J. Lewis</td>\n",
       "      <td>134</td>\n",
       "      <td>7.501404e+06</td>\n",
       "      <td>Comedy|Drama</td>\n",
       "      <td>Barney's Version</td>\n",
       "      <td>2010</td>\n",
       "      <td>English</td>\n",
       "      <td>Canada</td>\n",
       "      <td>72500000.0</td>\n",
       "      <td>7.3</td>\n",
       "      <td>Mark Addy,Atom Egoyan,Paul Gross</td>\n",
       "      <td>0</td>\n",
       "      <td>Comedy</td>\n",
       "      <td>Drama</td>\n",
       "      <td>SIN GENERO</td>\n",
       "      <td>SIN GENERO</td>\n",
       "      <td>SIN GENERO</td>\n",
       "    </tr>\n",
       "    <tr>\n",
       "      <th>84</th>\n",
       "      <td>Paul Greengrass</td>\n",
       "      <td>134</td>\n",
       "      <td>1.071009e+08</td>\n",
       "      <td>Biography|Drama|Thriller</td>\n",
       "      <td>Captain Phillips</td>\n",
       "      <td>2013</td>\n",
       "      <td>English</td>\n",
       "      <td>USA</td>\n",
       "      <td>55000000.0</td>\n",
       "      <td>7.9</td>\n",
       "      <td>Tom Hanks,Chris Mulkey,Michael Chernus</td>\n",
       "      <td>65000</td>\n",
       "      <td>Biography</td>\n",
       "      <td>Drama</td>\n",
       "      <td>Thriller</td>\n",
       "      <td>SIN GENERO</td>\n",
       "      <td>SIN GENERO</td>\n",
       "    </tr>\n",
       "    <tr>\n",
       "      <th>85</th>\n",
       "      <td>David Ayer</td>\n",
       "      <td>134</td>\n",
       "      <td>8.570712e+07</td>\n",
       "      <td>Action|Drama|War</td>\n",
       "      <td>Fury</td>\n",
       "      <td>2014</td>\n",
       "      <td>English</td>\n",
       "      <td>USA</td>\n",
       "      <td>68000000.0</td>\n",
       "      <td>7.6</td>\n",
       "      <td>Brad Pitt,Logan Lerman,Jim Parrack</td>\n",
       "      <td>82000</td>\n",
       "      <td>Action</td>\n",
       "      <td>Drama</td>\n",
       "      <td>War</td>\n",
       "      <td>SIN GENERO</td>\n",
       "      <td>SIN GENERO</td>\n",
       "    </tr>\n",
       "  </tbody>\n",
       "</table>\n",
       "</div>"
      ],
      "text/plain": [
       "          director_name  duration         gross  \\\n",
       "59         SIN DIRECTOR       139  1.508322e+08   \n",
       "60            Gary Ross       139  2.038997e+07   \n",
       "61          Tate Taylor       139  3.051394e+07   \n",
       "62      Terrence Malick       139  1.330332e+07   \n",
       "63         SIN DIRECTOR       138  1.501178e+08   \n",
       "64      Robert Zemeckis       138  9.374920e+07   \n",
       "65     Darren Aronofsky       138  1.011605e+08   \n",
       "66      Martin Scorsese       138  1.279684e+08   \n",
       "67         Ridley Scott       138  1.696939e+07   \n",
       "68        James Mangold       138  1.325510e+08   \n",
       "69      Daniel Espinosa       137  1.206135e+06   \n",
       "70         SIN DIRECTOR       137  3.730495e+07   \n",
       "71        Walter Salles       137  7.177530e+05   \n",
       "72         SIN DIRECTOR       137  2.816661e+08   \n",
       "73  Angelina Jolie Pitt       137  1.156040e+08   \n",
       "74  Angelina Jolie Pitt       137  1.156040e+08   \n",
       "75      Seth MacFarlane       136  4.261568e+07   \n",
       "76        Anthony Russo       136  2.597470e+08   \n",
       "77         Rob Marshall       136  2.410639e+08   \n",
       "78        Adam Shankman       136  3.850934e+07   \n",
       "79         SIN DIRECTOR       136  5.247462e+07   \n",
       "80     Sadyk Sher-Niyaz       135  1.477886e+08   \n",
       "81          Tony Gilroy       135  1.131656e+08   \n",
       "82        Steve McQueen       134  5.666787e+07   \n",
       "83     Richard J. Lewis       134  7.501404e+06   \n",
       "84      Paul Greengrass       134  1.071009e+08   \n",
       "85           David Ayer       134  8.570712e+07   \n",
       "\n",
       "                                genres  \\\n",
       "59            Adventure|Mystery|Sci-Fi   \n",
       "60  Action|Biography|Drama|History|War   \n",
       "61               Biography|Drama|Music   \n",
       "62                       Drama|Fantasy   \n",
       "63                         Crime|Drama   \n",
       "64                      Drama|Thriller   \n",
       "65              Action|Adventure|Drama   \n",
       "66                    Mystery|Thriller   \n",
       "67                Crime|Drama|Thriller   \n",
       "68    Action|Adventure|Sci-Fi|Thriller   \n",
       "69                Crime|Drama|Thriller   \n",
       "70               Biography|Crime|Drama   \n",
       "71                     Adventure|Drama   \n",
       "72                    Adventure|Sci-Fi   \n",
       "73           Biography|Drama|Sport|War   \n",
       "74           Biography|Drama|Sport|War   \n",
       "75                      Comedy|Western   \n",
       "76             Action|Adventure|Sci-Fi   \n",
       "77            Action|Adventure|Fantasy   \n",
       "78        Comedy|Drama|Musical|Romance   \n",
       "79                               Drama   \n",
       "80      Action|Biography|Drama|History   \n",
       "81           Action|Adventure|Thriller   \n",
       "82             Biography|Drama|History   \n",
       "83                        Comedy|Drama   \n",
       "84            Biography|Drama|Thriller   \n",
       "85                    Action|Drama|War   \n",
       "\n",
       "                                    movie_title  title_year language  \\\n",
       "59                                    Divergent        2014  English   \n",
       "60                          Free State of Jones        2016  English   \n",
       "61                                    Get on Up        2014  English   \n",
       "62                             The Tree of Life        2011  English   \n",
       "63                              American Hustle        2013  English   \n",
       "64                                       Flight        2012  English   \n",
       "65                                         Noah        2014  English   \n",
       "66                               Shutter Island        2010  English   \n",
       "67                                The Counselor        2013  English   \n",
       "68                                The Wolverine        2013  English   \n",
       "69                                     Child 44         205  English   \n",
       "70                                     J. Edgar        2011  English   \n",
       "71                                  On the Road        2012  English   \n",
       "72        The Hunger Games: Mockingjay - Part 2        2015  English   \n",
       "73                                     Unbroken        2014  English   \n",
       "74                                     Unbroken        2014  English   \n",
       "75            A Million Ways to Die in the West        2014  English   \n",
       "76          Captain America: The Winter Soldier        2014  English   \n",
       "77  Pirates of the Caribbean: On Stranger Tides        2011  English   \n",
       "78                                 Rock of Ages        2012  English   \n",
       "79              Wall Street: Money Never Sleeps        2010  English   \n",
       "80                       Queen of the Mountains        2014  English   \n",
       "81                            The Bourne Legacy        2012  English   \n",
       "82                             12 Years a Slave        2013  English   \n",
       "83                             Barney's Version        2010  English   \n",
       "84                             Captain Phillips        2013  English   \n",
       "85                                         Fury        2014  English   \n",
       "\n",
       "           country       budget  imdb_score  \\\n",
       "59             USA   85000000.0         6.7   \n",
       "60             USA   50000000.0         6.7   \n",
       "61             USA   30000000.0         6.9   \n",
       "62             USA   32000000.0         6.7   \n",
       "63             USA   40000000.0         7.3   \n",
       "64             USA   31000000.0         7.3   \n",
       "65             USA  125000000.0         5.8   \n",
       "66             USA   80000000.0         8.1   \n",
       "67             USA   25000000.0         5.3   \n",
       "68             USA  120000000.0         6.7   \n",
       "69  Czech Republic   50000000.0         6.4   \n",
       "70             USA   35000000.0         6.6   \n",
       "71          France   25000000.0         6.1   \n",
       "72             USA  160000000.0         6.6   \n",
       "73             USA   65000000.0        -1.2   \n",
       "74             USA   65000000.0         7.2   \n",
       "75             USA   40000000.0         6.1   \n",
       "76             usa  170000000.0         7.8   \n",
       "77             USA  250000000.0         6.7   \n",
       "78             USA   75000000.0         5.9   \n",
       "79             USA   70000000.0         6.3   \n",
       "80      Kyrgyzstan    1400000.0         8.7   \n",
       "81             USA  125000000.0         6.7   \n",
       "82             USA   20000000.0         8.1   \n",
       "83          Canada   72500000.0         7.3   \n",
       "84             USA   55000000.0         7.9   \n",
       "85             USA   68000000.0         7.6   \n",
       "\n",
       "                                               actors  movie_facebook_likes  \\\n",
       "59               Kate Winslet,Theo James,Mekhi Phifer                 49000   \n",
       "60  Matthew McConaughey,Donald Watkins,Jessica Col...                 10000   \n",
       "61           Tika Sumpter,Josh Hopkins,Aunjanue Ellis                 11000   \n",
       "62                  Brad Pitt,Tye Sheridan,Fiona Shaw                 39000   \n",
       "63    Jennifer Lawrence,Christian Bale,Bradley Cooper                 63000   \n",
       "64  Denzel Washington,Bruce Greenwood,Nadine Velaz...                 64000   \n",
       "65           Anthony Hopkins,Emma Watson,Logan Lerman                 71000   \n",
       "66     Leonardo DiCaprio,Joseph Sikora,Nellie Sciutto                 53000   \n",
       "67         Michael Fassbender,Brad Pitt,Goran Visnjic                 24000   \n",
       "68            Hugh Jackman,Tao Okamoto,Rila Fukushima                 68000   \n",
       "69              Tom Hardy,Fares Fares,Michael Nardone                 18000   \n",
       "70        Leonardo DiCaprio,Naomi Watts,Kaitlyn Dever                 16000   \n",
       "71      Kristen Stewart,Viggo Mortensen,Kirsten Dunst                 27000   \n",
       "72  Jennifer Lawrence,Philip Seymour Hoffman,Josh ...                 38000   \n",
       "73          Finn Wittrock,Jack O'Connell,Alex Russell                 35000   \n",
       "74          Finn Wittrock,Jack O'Connell,Alex Russell                 35000   \n",
       "75        Liam Neeson,Charlize Theron,Seth MacFarlane                 24000   \n",
       "76       Scarlett Johansson,Chris Evans,Hayley Atwell                 55000   \n",
       "77             Johnny Depp,Sam Claflin,Stephen Graham                 58000   \n",
       "78     James Martin Kelly,Shane Hartline,Celina Beach                 33000   \n",
       "79  Frank Langella,Austin Pendleton,John Buffalo M...                 13000   \n",
       "80  Elina Abai Kyzy,Aziz Muradillayev,Mirlan Abdul...                     0   \n",
       "81              Jeremy Renner,Scott Glenn,Stacy Keach                 31000   \n",
       "82       Quvenzhané Wallis,Scoot McNairy,Taran Killam                 83000   \n",
       "83                   Mark Addy,Atom Egoyan,Paul Gross                     0   \n",
       "84             Tom Hanks,Chris Mulkey,Michael Chernus                 65000   \n",
       "85                 Brad Pitt,Logan Lerman,Jim Parrack                 82000   \n",
       "\n",
       "     genero_0    genero_1    genero_2    genero_3    genero_4  \n",
       "59  Adventure     Mystery      Sci-Fi  SIN GENERO  SIN GENERO  \n",
       "60     Action   Biography       Drama     History         War  \n",
       "61  Biography       Drama       Music  SIN GENERO  SIN GENERO  \n",
       "62      Drama     Fantasy  SIN GENERO  SIN GENERO  SIN GENERO  \n",
       "63      Crime       Drama  SIN GENERO  SIN GENERO  SIN GENERO  \n",
       "64      Drama    Thriller  SIN GENERO  SIN GENERO  SIN GENERO  \n",
       "65     Action   Adventure       Drama  SIN GENERO  SIN GENERO  \n",
       "66    Mystery    Thriller  SIN GENERO  SIN GENERO  SIN GENERO  \n",
       "67      Crime       Drama    Thriller  SIN GENERO  SIN GENERO  \n",
       "68     Action   Adventure      Sci-Fi    Thriller  SIN GENERO  \n",
       "69      Crime       Drama    Thriller  SIN GENERO  SIN GENERO  \n",
       "70  Biography       Crime       Drama  SIN GENERO  SIN GENERO  \n",
       "71  Adventure       Drama  SIN GENERO  SIN GENERO  SIN GENERO  \n",
       "72  Adventure      Sci-Fi  SIN GENERO  SIN GENERO  SIN GENERO  \n",
       "73  Biography       Drama       Sport         War  SIN GENERO  \n",
       "74  Biography       Drama       Sport         War  SIN GENERO  \n",
       "75     Comedy     Western  SIN GENERO  SIN GENERO  SIN GENERO  \n",
       "76     Action   Adventure      Sci-Fi  SIN GENERO  SIN GENERO  \n",
       "77     Action   Adventure     Fantasy  SIN GENERO  SIN GENERO  \n",
       "78     Comedy       Drama     Musical     Romance  SIN GENERO  \n",
       "79      Drama  SIN GENERO  SIN GENERO  SIN GENERO  SIN GENERO  \n",
       "80     Action   Biography       Drama     History  SIN GENERO  \n",
       "81     Action   Adventure    Thriller  SIN GENERO  SIN GENERO  \n",
       "82  Biography       Drama     History  SIN GENERO  SIN GENERO  \n",
       "83     Comedy       Drama  SIN GENERO  SIN GENERO  SIN GENERO  \n",
       "84  Biography       Drama    Thriller  SIN GENERO  SIN GENERO  \n",
       "85     Action       Drama         War  SIN GENERO  SIN GENERO  "
      ]
     },
     "execution_count": 103,
     "metadata": {},
     "output_type": "execute_result"
    }
   ],
   "source": [
    "imdb4[imdb4['duration']<140]"
   ]
  }
 ],
 "metadata": {
  "colab": {
   "provenance": []
  },
  "kaggle": {
   "accelerator": "none",
   "dataSources": [
    {
     "datasetId": 4261311,
     "sourceId": 7339591,
     "sourceType": "datasetVersion"
    }
   ],
   "dockerImageVersionId": 30626,
   "isGpuEnabled": false,
   "isInternetEnabled": true,
   "language": "python",
   "sourceType": "notebook"
  },
  "kernelspec": {
   "display_name": "Python 3",
   "language": "python",
   "name": "python3"
  },
  "language_info": {
   "codemirror_mode": {
    "name": "ipython",
    "version": 3
   },
   "file_extension": ".py",
   "mimetype": "text/x-python",
   "name": "python",
   "nbconvert_exporter": "python",
   "pygments_lexer": "ipython3",
   "version": "3.10.12"
  },
  "papermill": {
   "default_parameters": {},
   "duration": 22.459498,
   "end_time": "2024-01-04T19:24:10.441374",
   "environment_variables": {},
   "exception": null,
   "input_path": "__notebook__.ipynb",
   "output_path": "__notebook__.ipynb",
   "parameters": {},
   "start_time": "2024-01-04T19:23:47.981876",
   "version": "2.4.0"
  }
 },
 "nbformat": 4,
 "nbformat_minor": 5
}
